{
 "cells": [
  {
   "cell_type": "markdown",
   "metadata": {
    "slideshow": {
     "slide_type": "slide"
    }
   },
   "source": [
    "# Import Modules"
   ]
  },
  {
   "cell_type": "code",
   "execution_count": 1,
   "metadata": {
    "ExecuteTime": {
     "end_time": "2021-03-28T01:20:58.797455Z",
     "start_time": "2021-03-28T01:20:54.620821Z"
    }
   },
   "outputs": [],
   "source": [
    "import numpy as np\n",
    "import pandas as pd\n",
    "import seaborn as sns;\n",
    "import matplotlib.pyplot as plt\n",
    "\n",
    "from sklearn import preprocessing\n",
    "from sklearn.decomposition import PCA\n",
    "\n",
    "pd.set_option('display.max_columns', 21)"
   ]
  },
  {
   "cell_type": "markdown",
   "metadata": {
    "slideshow": {
     "slide_type": "slide"
    }
   },
   "source": [
    "# Raw Dataset"
   ]
  },
  {
   "cell_type": "code",
   "execution_count": 2,
   "metadata": {
    "ExecuteTime": {
     "end_time": "2021-03-28T01:20:58.845510Z",
     "start_time": "2021-03-28T01:20:58.799923Z"
    }
   },
   "outputs": [],
   "source": [
    "raw_df = pd.read_csv(\"../datasets/WA_Fn-UseC_-Telco-Customer-Churn.csv\")"
   ]
  },
  {
   "cell_type": "markdown",
   "metadata": {},
   "source": [
    "## Table"
   ]
  },
  {
   "cell_type": "code",
   "execution_count": 3,
   "metadata": {
    "ExecuteTime": {
     "end_time": "2021-03-28T01:20:58.892207Z",
     "start_time": "2021-03-28T01:20:58.848512Z"
    }
   },
   "outputs": [
    {
     "data": {
      "text/html": [
       "<div>\n",
       "<style scoped>\n",
       "    .dataframe tbody tr th:only-of-type {\n",
       "        vertical-align: middle;\n",
       "    }\n",
       "\n",
       "    .dataframe tbody tr th {\n",
       "        vertical-align: top;\n",
       "    }\n",
       "\n",
       "    .dataframe thead th {\n",
       "        text-align: right;\n",
       "    }\n",
       "</style>\n",
       "<table border=\"1\" class=\"dataframe\">\n",
       "  <thead>\n",
       "    <tr style=\"text-align: right;\">\n",
       "      <th></th>\n",
       "      <th>customerID</th>\n",
       "      <th>gender</th>\n",
       "      <th>SeniorCitizen</th>\n",
       "      <th>Partner</th>\n",
       "      <th>Dependents</th>\n",
       "      <th>tenure</th>\n",
       "      <th>PhoneService</th>\n",
       "      <th>MultipleLines</th>\n",
       "      <th>InternetService</th>\n",
       "      <th>OnlineSecurity</th>\n",
       "      <th>OnlineBackup</th>\n",
       "      <th>DeviceProtection</th>\n",
       "      <th>TechSupport</th>\n",
       "      <th>StreamingTV</th>\n",
       "      <th>StreamingMovies</th>\n",
       "      <th>Contract</th>\n",
       "      <th>PaperlessBilling</th>\n",
       "      <th>PaymentMethod</th>\n",
       "      <th>MonthlyCharges</th>\n",
       "      <th>TotalCharges</th>\n",
       "      <th>Churn</th>\n",
       "    </tr>\n",
       "  </thead>\n",
       "  <tbody>\n",
       "    <tr>\n",
       "      <th>0</th>\n",
       "      <td>7590-VHVEG</td>\n",
       "      <td>Female</td>\n",
       "      <td>0</td>\n",
       "      <td>Yes</td>\n",
       "      <td>No</td>\n",
       "      <td>1</td>\n",
       "      <td>No</td>\n",
       "      <td>No phone service</td>\n",
       "      <td>DSL</td>\n",
       "      <td>No</td>\n",
       "      <td>Yes</td>\n",
       "      <td>No</td>\n",
       "      <td>No</td>\n",
       "      <td>No</td>\n",
       "      <td>No</td>\n",
       "      <td>Month-to-month</td>\n",
       "      <td>Yes</td>\n",
       "      <td>Electronic check</td>\n",
       "      <td>29.85</td>\n",
       "      <td>29.85</td>\n",
       "      <td>No</td>\n",
       "    </tr>\n",
       "    <tr>\n",
       "      <th>1</th>\n",
       "      <td>5575-GNVDE</td>\n",
       "      <td>Male</td>\n",
       "      <td>0</td>\n",
       "      <td>No</td>\n",
       "      <td>No</td>\n",
       "      <td>34</td>\n",
       "      <td>Yes</td>\n",
       "      <td>No</td>\n",
       "      <td>DSL</td>\n",
       "      <td>Yes</td>\n",
       "      <td>No</td>\n",
       "      <td>Yes</td>\n",
       "      <td>No</td>\n",
       "      <td>No</td>\n",
       "      <td>No</td>\n",
       "      <td>One year</td>\n",
       "      <td>No</td>\n",
       "      <td>Mailed check</td>\n",
       "      <td>56.95</td>\n",
       "      <td>1889.5</td>\n",
       "      <td>No</td>\n",
       "    </tr>\n",
       "    <tr>\n",
       "      <th>2</th>\n",
       "      <td>3668-QPYBK</td>\n",
       "      <td>Male</td>\n",
       "      <td>0</td>\n",
       "      <td>No</td>\n",
       "      <td>No</td>\n",
       "      <td>2</td>\n",
       "      <td>Yes</td>\n",
       "      <td>No</td>\n",
       "      <td>DSL</td>\n",
       "      <td>Yes</td>\n",
       "      <td>Yes</td>\n",
       "      <td>No</td>\n",
       "      <td>No</td>\n",
       "      <td>No</td>\n",
       "      <td>No</td>\n",
       "      <td>Month-to-month</td>\n",
       "      <td>Yes</td>\n",
       "      <td>Mailed check</td>\n",
       "      <td>53.85</td>\n",
       "      <td>108.15</td>\n",
       "      <td>Yes</td>\n",
       "    </tr>\n",
       "    <tr>\n",
       "      <th>3</th>\n",
       "      <td>7795-CFOCW</td>\n",
       "      <td>Male</td>\n",
       "      <td>0</td>\n",
       "      <td>No</td>\n",
       "      <td>No</td>\n",
       "      <td>45</td>\n",
       "      <td>No</td>\n",
       "      <td>No phone service</td>\n",
       "      <td>DSL</td>\n",
       "      <td>Yes</td>\n",
       "      <td>No</td>\n",
       "      <td>Yes</td>\n",
       "      <td>Yes</td>\n",
       "      <td>No</td>\n",
       "      <td>No</td>\n",
       "      <td>One year</td>\n",
       "      <td>No</td>\n",
       "      <td>Bank transfer (automatic)</td>\n",
       "      <td>42.30</td>\n",
       "      <td>1840.75</td>\n",
       "      <td>No</td>\n",
       "    </tr>\n",
       "    <tr>\n",
       "      <th>4</th>\n",
       "      <td>9237-HQITU</td>\n",
       "      <td>Female</td>\n",
       "      <td>0</td>\n",
       "      <td>No</td>\n",
       "      <td>No</td>\n",
       "      <td>2</td>\n",
       "      <td>Yes</td>\n",
       "      <td>No</td>\n",
       "      <td>Fiber optic</td>\n",
       "      <td>No</td>\n",
       "      <td>No</td>\n",
       "      <td>No</td>\n",
       "      <td>No</td>\n",
       "      <td>No</td>\n",
       "      <td>No</td>\n",
       "      <td>Month-to-month</td>\n",
       "      <td>Yes</td>\n",
       "      <td>Electronic check</td>\n",
       "      <td>70.70</td>\n",
       "      <td>151.65</td>\n",
       "      <td>Yes</td>\n",
       "    </tr>\n",
       "  </tbody>\n",
       "</table>\n",
       "</div>"
      ],
      "text/plain": [
       "   customerID  gender  SeniorCitizen Partner Dependents  tenure PhoneService  \\\n",
       "0  7590-VHVEG  Female              0     Yes         No       1           No   \n",
       "1  5575-GNVDE    Male              0      No         No      34          Yes   \n",
       "2  3668-QPYBK    Male              0      No         No       2          Yes   \n",
       "3  7795-CFOCW    Male              0      No         No      45           No   \n",
       "4  9237-HQITU  Female              0      No         No       2          Yes   \n",
       "\n",
       "      MultipleLines InternetService OnlineSecurity OnlineBackup  \\\n",
       "0  No phone service             DSL             No          Yes   \n",
       "1                No             DSL            Yes           No   \n",
       "2                No             DSL            Yes          Yes   \n",
       "3  No phone service             DSL            Yes           No   \n",
       "4                No     Fiber optic             No           No   \n",
       "\n",
       "  DeviceProtection TechSupport StreamingTV StreamingMovies        Contract  \\\n",
       "0               No          No          No              No  Month-to-month   \n",
       "1              Yes          No          No              No        One year   \n",
       "2               No          No          No              No  Month-to-month   \n",
       "3              Yes         Yes          No              No        One year   \n",
       "4               No          No          No              No  Month-to-month   \n",
       "\n",
       "  PaperlessBilling              PaymentMethod  MonthlyCharges TotalCharges  \\\n",
       "0              Yes           Electronic check           29.85        29.85   \n",
       "1               No               Mailed check           56.95       1889.5   \n",
       "2              Yes               Mailed check           53.85       108.15   \n",
       "3               No  Bank transfer (automatic)           42.30      1840.75   \n",
       "4              Yes           Electronic check           70.70       151.65   \n",
       "\n",
       "  Churn  \n",
       "0    No  \n",
       "1    No  \n",
       "2   Yes  \n",
       "3    No  \n",
       "4   Yes  "
      ]
     },
     "execution_count": 3,
     "metadata": {},
     "output_type": "execute_result"
    }
   ],
   "source": [
    "raw_df.head()"
   ]
  },
  {
   "cell_type": "markdown",
   "metadata": {
    "slideshow": {
     "slide_type": "slide"
    }
   },
   "source": [
    "# Data Cleaning"
   ]
  },
  {
   "cell_type": "markdown",
   "metadata": {},
   "source": [
    "## Rename column"
   ]
  },
  {
   "cell_type": "code",
   "execution_count": 4,
   "metadata": {
    "ExecuteTime": {
     "end_time": "2021-03-28T01:20:58.907717Z",
     "start_time": "2021-03-28T01:20:58.894209Z"
    }
   },
   "outputs": [],
   "source": [
    "raw_rename_columns_df = raw_df.rename(columns={'customerID' : 'customer_id',\n",
    "                                               'SeniorCitizen' : 'senior_citizen',\n",
    "                                               'Partner' : 'partner',\n",
    "                                               'Dependents' : 'dependents',\n",
    "                                               'PhoneService' : 'phone_service',\n",
    "                                               'MultipleLines' : 'multiple_lines',\n",
    "                                               'InternetService' : 'internet_service',\n",
    "                                               'OnlineSecurity' : 'online_security',\n",
    "                                               'OnlineBackup' : 'online_backup',\n",
    "                                               'DeviceProtection' : 'device_protection',\n",
    "                                               'TechSupport' : 'tech_support',\n",
    "                                               'StreamingTV' : 'streaming_tv',\n",
    "                                               'StreamingMovies' : 'streaming_movies',\n",
    "                                               'Contract' : 'contract',\n",
    "                                               'PaperlessBilling' : 'paperless_billing',\n",
    "                                               'PaymentMethod' : 'payment_method',\n",
    "                                               'MonthlyCharges' : 'monthly_charges',\n",
    "                                               'TotalCharges' : 'total_charges',\n",
    "                                               'Churn' : 'churn'})"
   ]
  },
  {
   "cell_type": "code",
   "execution_count": 5,
   "metadata": {
    "ExecuteTime": {
     "end_time": "2021-03-28T01:20:58.960028Z",
     "start_time": "2021-03-28T01:20:58.910724Z"
    },
    "scrolled": true
   },
   "outputs": [
    {
     "data": {
      "text/html": [
       "<div>\n",
       "<style scoped>\n",
       "    .dataframe tbody tr th:only-of-type {\n",
       "        vertical-align: middle;\n",
       "    }\n",
       "\n",
       "    .dataframe tbody tr th {\n",
       "        vertical-align: top;\n",
       "    }\n",
       "\n",
       "    .dataframe thead th {\n",
       "        text-align: right;\n",
       "    }\n",
       "</style>\n",
       "<table border=\"1\" class=\"dataframe\">\n",
       "  <thead>\n",
       "    <tr style=\"text-align: right;\">\n",
       "      <th></th>\n",
       "      <th>customer_id</th>\n",
       "      <th>gender</th>\n",
       "      <th>senior_citizen</th>\n",
       "      <th>partner</th>\n",
       "      <th>dependents</th>\n",
       "      <th>tenure</th>\n",
       "      <th>phone_service</th>\n",
       "      <th>multiple_lines</th>\n",
       "      <th>internet_service</th>\n",
       "      <th>online_security</th>\n",
       "      <th>online_backup</th>\n",
       "      <th>device_protection</th>\n",
       "      <th>tech_support</th>\n",
       "      <th>streaming_tv</th>\n",
       "      <th>streaming_movies</th>\n",
       "      <th>contract</th>\n",
       "      <th>paperless_billing</th>\n",
       "      <th>payment_method</th>\n",
       "      <th>monthly_charges</th>\n",
       "      <th>total_charges</th>\n",
       "      <th>churn</th>\n",
       "    </tr>\n",
       "  </thead>\n",
       "  <tbody>\n",
       "    <tr>\n",
       "      <th>0</th>\n",
       "      <td>7590-VHVEG</td>\n",
       "      <td>Female</td>\n",
       "      <td>0</td>\n",
       "      <td>Yes</td>\n",
       "      <td>No</td>\n",
       "      <td>1</td>\n",
       "      <td>No</td>\n",
       "      <td>No phone service</td>\n",
       "      <td>DSL</td>\n",
       "      <td>No</td>\n",
       "      <td>Yes</td>\n",
       "      <td>No</td>\n",
       "      <td>No</td>\n",
       "      <td>No</td>\n",
       "      <td>No</td>\n",
       "      <td>Month-to-month</td>\n",
       "      <td>Yes</td>\n",
       "      <td>Electronic check</td>\n",
       "      <td>29.85</td>\n",
       "      <td>29.85</td>\n",
       "      <td>No</td>\n",
       "    </tr>\n",
       "    <tr>\n",
       "      <th>1</th>\n",
       "      <td>5575-GNVDE</td>\n",
       "      <td>Male</td>\n",
       "      <td>0</td>\n",
       "      <td>No</td>\n",
       "      <td>No</td>\n",
       "      <td>34</td>\n",
       "      <td>Yes</td>\n",
       "      <td>No</td>\n",
       "      <td>DSL</td>\n",
       "      <td>Yes</td>\n",
       "      <td>No</td>\n",
       "      <td>Yes</td>\n",
       "      <td>No</td>\n",
       "      <td>No</td>\n",
       "      <td>No</td>\n",
       "      <td>One year</td>\n",
       "      <td>No</td>\n",
       "      <td>Mailed check</td>\n",
       "      <td>56.95</td>\n",
       "      <td>1889.5</td>\n",
       "      <td>No</td>\n",
       "    </tr>\n",
       "    <tr>\n",
       "      <th>2</th>\n",
       "      <td>3668-QPYBK</td>\n",
       "      <td>Male</td>\n",
       "      <td>0</td>\n",
       "      <td>No</td>\n",
       "      <td>No</td>\n",
       "      <td>2</td>\n",
       "      <td>Yes</td>\n",
       "      <td>No</td>\n",
       "      <td>DSL</td>\n",
       "      <td>Yes</td>\n",
       "      <td>Yes</td>\n",
       "      <td>No</td>\n",
       "      <td>No</td>\n",
       "      <td>No</td>\n",
       "      <td>No</td>\n",
       "      <td>Month-to-month</td>\n",
       "      <td>Yes</td>\n",
       "      <td>Mailed check</td>\n",
       "      <td>53.85</td>\n",
       "      <td>108.15</td>\n",
       "      <td>Yes</td>\n",
       "    </tr>\n",
       "    <tr>\n",
       "      <th>3</th>\n",
       "      <td>7795-CFOCW</td>\n",
       "      <td>Male</td>\n",
       "      <td>0</td>\n",
       "      <td>No</td>\n",
       "      <td>No</td>\n",
       "      <td>45</td>\n",
       "      <td>No</td>\n",
       "      <td>No phone service</td>\n",
       "      <td>DSL</td>\n",
       "      <td>Yes</td>\n",
       "      <td>No</td>\n",
       "      <td>Yes</td>\n",
       "      <td>Yes</td>\n",
       "      <td>No</td>\n",
       "      <td>No</td>\n",
       "      <td>One year</td>\n",
       "      <td>No</td>\n",
       "      <td>Bank transfer (automatic)</td>\n",
       "      <td>42.30</td>\n",
       "      <td>1840.75</td>\n",
       "      <td>No</td>\n",
       "    </tr>\n",
       "    <tr>\n",
       "      <th>4</th>\n",
       "      <td>9237-HQITU</td>\n",
       "      <td>Female</td>\n",
       "      <td>0</td>\n",
       "      <td>No</td>\n",
       "      <td>No</td>\n",
       "      <td>2</td>\n",
       "      <td>Yes</td>\n",
       "      <td>No</td>\n",
       "      <td>Fiber optic</td>\n",
       "      <td>No</td>\n",
       "      <td>No</td>\n",
       "      <td>No</td>\n",
       "      <td>No</td>\n",
       "      <td>No</td>\n",
       "      <td>No</td>\n",
       "      <td>Month-to-month</td>\n",
       "      <td>Yes</td>\n",
       "      <td>Electronic check</td>\n",
       "      <td>70.70</td>\n",
       "      <td>151.65</td>\n",
       "      <td>Yes</td>\n",
       "    </tr>\n",
       "  </tbody>\n",
       "</table>\n",
       "</div>"
      ],
      "text/plain": [
       "  customer_id  gender  senior_citizen partner dependents  tenure  \\\n",
       "0  7590-VHVEG  Female               0     Yes         No       1   \n",
       "1  5575-GNVDE    Male               0      No         No      34   \n",
       "2  3668-QPYBK    Male               0      No         No       2   \n",
       "3  7795-CFOCW    Male               0      No         No      45   \n",
       "4  9237-HQITU  Female               0      No         No       2   \n",
       "\n",
       "  phone_service    multiple_lines internet_service online_security  \\\n",
       "0            No  No phone service              DSL              No   \n",
       "1           Yes                No              DSL             Yes   \n",
       "2           Yes                No              DSL             Yes   \n",
       "3            No  No phone service              DSL             Yes   \n",
       "4           Yes                No      Fiber optic              No   \n",
       "\n",
       "  online_backup device_protection tech_support streaming_tv streaming_movies  \\\n",
       "0           Yes                No           No           No               No   \n",
       "1            No               Yes           No           No               No   \n",
       "2           Yes                No           No           No               No   \n",
       "3            No               Yes          Yes           No               No   \n",
       "4            No                No           No           No               No   \n",
       "\n",
       "         contract paperless_billing             payment_method  \\\n",
       "0  Month-to-month               Yes           Electronic check   \n",
       "1        One year                No               Mailed check   \n",
       "2  Month-to-month               Yes               Mailed check   \n",
       "3        One year                No  Bank transfer (automatic)   \n",
       "4  Month-to-month               Yes           Electronic check   \n",
       "\n",
       "   monthly_charges total_charges churn  \n",
       "0            29.85         29.85    No  \n",
       "1            56.95        1889.5    No  \n",
       "2            53.85        108.15   Yes  \n",
       "3            42.30       1840.75    No  \n",
       "4            70.70        151.65   Yes  "
      ]
     },
     "execution_count": 5,
     "metadata": {},
     "output_type": "execute_result"
    }
   ],
   "source": [
    "raw_rename_columns_df.head(5)"
   ]
  },
  {
   "cell_type": "markdown",
   "metadata": {},
   "source": [
    "## Outlier"
   ]
  },
  {
   "cell_type": "markdown",
   "metadata": {},
   "source": [
    "### \n",
    "Tidak ada outlier"
   ]
  },
  {
   "cell_type": "code",
   "execution_count": 6,
   "metadata": {
    "ExecuteTime": {
     "end_time": "2021-03-28T01:20:59.273188Z",
     "start_time": "2021-03-28T01:20:58.962280Z"
    }
   },
   "outputs": [
    {
     "data": {
      "image/png": "[encoded data removed]",
      "text/plain": [
       "<Figure size 720x360 with 1 Axes>"
      ]
     },
     "metadata": {},
     "output_type": "display_data"
    }
   ],
   "source": [
    "sns.set(rc={'figure.figsize':(10, 5)})\n",
    "ax = sns.boxplot(x=raw_rename_columns_df[\"tenure\"])"
   ]
  },
  {
   "cell_type": "markdown",
   "metadata": {},
   "source": [
    "### monthly_charges\n",
    "Tidak ada outlier"
   ]
  },
  {
   "cell_type": "code",
   "execution_count": 7,
   "metadata": {
    "ExecuteTime": {
     "end_time": "2021-03-28T01:20:59.467804Z",
     "start_time": "2021-03-28T01:20:59.277626Z"
    }
   },
   "outputs": [
    {
     "data": {
      "image/png": "[encoded data removed]",
      "text/plain": [
       "<Figure size 720x360 with 1 Axes>"
      ]
     },
     "metadata": {},
     "output_type": "display_data"
    }
   ],
   "source": [
    "sns.set(rc={'figure.figsize':(10, 5)})\n",
    "ax = sns.boxplot(x=raw_rename_columns_df[\"monthly_charges\"])"
   ]
  },
  {
   "cell_type": "markdown",
   "metadata": {
    "ExecuteTime": {
     "end_time": "2021-03-27T09:11:59.920711Z",
     "start_time": "2021-03-27T09:11:59.911236Z"
    }
   },
   "source": [
    "### total_charges\n",
    "Tidak ada outlier"
   ]
  },
  {
   "cell_type": "code",
   "execution_count": 13,
   "metadata": {
    "ExecuteTime": {
     "end_time": "2021-03-28T01:23:10.917037Z",
     "start_time": "2021-03-28T01:23:10.730354Z"
    }
   },
   "outputs": [
    {
     "data": {
      "image/png": "[encoded data removed]",
      "text/plain": [
       "<Figure size 720x360 with 1 Axes>"
      ]
     },
     "metadata": {},
     "output_type": "display_data"
    }
   ],
   "source": [
    "sns.set(rc={'figure.figsize':(10, 5)})\n",
    "ax = sns.boxplot(x=pd.to_numeric(raw_rename_columns_df['total_charges'], errors='coerce'))"
   ]
  },
  {
   "cell_type": "markdown",
   "metadata": {},
   "source": [
    "## Missing Value"
   ]
  },
  {
   "cell_type": "code",
   "execution_count": null,
   "metadata": {
    "ExecuteTime": {
     "end_time": "2021-03-28T01:21:00.155415Z",
     "start_time": "2021-03-28T01:20:54.631Z"
    }
   },
   "outputs": [],
   "source": [
    "raw_rename_columns_df.isna().sum().to_frame().rename(columns={0 : 'Number of Missing Value (%)'})"
   ]
  },
  {
   "cell_type": "markdown",
   "metadata": {},
   "source": [
    "## Duplicate Value"
   ]
  },
  {
   "cell_type": "code",
   "execution_count": null,
   "metadata": {
    "ExecuteTime": {
     "end_time": "2021-03-28T01:21:00.156838Z",
     "start_time": "2021-03-28T01:20:54.641Z"
    }
   },
   "outputs": [],
   "source": [
    "print(f'Number of duplicate value : {raw_rename_columns_df.duplicated().sum()}')"
   ]
  },
  {
   "cell_type": "markdown",
   "metadata": {},
   "source": [
    "## Mismatch Value\n",
    "Pada fitur total_charges datatype nya adalah object, yang seharusnya float."
   ]
  },
  {
   "cell_type": "code",
   "execution_count": null,
   "metadata": {
    "ExecuteTime": {
     "end_time": "2021-03-28T01:21:00.159062Z",
     "start_time": "2021-03-28T01:20:54.648Z"
    }
   },
   "outputs": [],
   "source": [
    "raw_rename_columns_df.dtypes.to_frame().rename(columns={0 : 'Datatype'})"
   ]
  },
  {
   "cell_type": "code",
   "execution_count": null,
   "metadata": {
    "ExecuteTime": {
     "end_time": "2021-03-28T01:21:00.160739Z",
     "start_time": "2021-03-28T01:20:54.653Z"
    }
   },
   "outputs": [],
   "source": [
    "raw_rename_columns_df['total_charges'] = pd.to_numeric(raw_rename_columns_df['total_charges'], errors='coerce')\n",
    "raw_mismatch_value_df = raw_rename_columns_df"
   ]
  },
  {
   "cell_type": "code",
   "execution_count": null,
   "metadata": {
    "ExecuteTime": {
     "end_time": "2021-03-28T01:21:00.161739Z",
     "start_time": "2021-03-28T01:20:54.657Z"
    }
   },
   "outputs": [],
   "source": [
    "raw_rename_columns_df.dtypes.to_frame().rename(columns={0 : 'Datatype'})"
   ]
  },
  {
   "cell_type": "markdown",
   "metadata": {
    "slideshow": {
     "slide_type": "slide"
    }
   },
   "source": [
    "# Feature Engineering"
   ]
  },
  {
   "cell_type": "code",
   "execution_count": null,
   "metadata": {
    "ExecuteTime": {
     "end_time": "2021-03-28T01:21:00.163259Z",
     "start_time": "2021-03-28T01:20:54.661Z"
    }
   },
   "outputs": [],
   "source": [
    "raw_feature_tranformation_df = raw_mismatch_value_df"
   ]
  },
  {
   "cell_type": "code",
   "execution_count": null,
   "metadata": {
    "ExecuteTime": {
     "end_time": "2021-03-28T01:21:00.164641Z",
     "start_time": "2021-03-28T01:20:54.666Z"
    }
   },
   "outputs": [],
   "source": [
    "raw_feature_tranformation_df.head(1)"
   ]
  },
  {
   "cell_type": "markdown",
   "metadata": {
    "slideshow": {
     "slide_type": "-"
    }
   },
   "source": [
    "## Feature Transformation"
   ]
  },
  {
   "cell_type": "markdown",
   "metadata": {},
   "source": [
    "### Binary Lable"
   ]
  },
  {
   "cell_type": "markdown",
   "metadata": {},
   "source": [
    "#### gender"
   ]
  },
  {
   "cell_type": "code",
   "execution_count": null,
   "metadata": {
    "ExecuteTime": {
     "end_time": "2021-03-28T01:21:00.166794Z",
     "start_time": "2021-03-28T01:20:54.674Z"
    }
   },
   "outputs": [],
   "source": [
    "gender_lb = preprocessing.LabelBinarizer()\n",
    "gender_lb.fit(raw_feature_tranformation_df['gender'])\n",
    "gender_lb.classes_"
   ]
  },
  {
   "cell_type": "code",
   "execution_count": null,
   "metadata": {
    "ExecuteTime": {
     "end_time": "2021-03-28T01:21:00.167856Z",
     "start_time": "2021-03-28T01:20:54.679Z"
    }
   },
   "outputs": [],
   "source": [
    "raw_feature_tranformation_df['gender'] = gender_lb.transform(raw_mismatch_value_df['gender'])"
   ]
  },
  {
   "cell_type": "markdown",
   "metadata": {},
   "source": [
    "#### partner"
   ]
  },
  {
   "cell_type": "code",
   "execution_count": null,
   "metadata": {
    "ExecuteTime": {
     "end_time": "2021-03-28T01:21:00.169113Z",
     "start_time": "2021-03-28T01:20:54.687Z"
    }
   },
   "outputs": [],
   "source": [
    "partner_lb = preprocessing.LabelBinarizer()\n",
    "partner_lb.fit(raw_feature_tranformation_df['partner'])\n",
    "partner_lb.classes_"
   ]
  },
  {
   "cell_type": "code",
   "execution_count": null,
   "metadata": {
    "ExecuteTime": {
     "end_time": "2021-03-28T01:21:00.171858Z",
     "start_time": "2021-03-28T01:20:54.691Z"
    }
   },
   "outputs": [],
   "source": [
    "raw_feature_tranformation_df['partner'] = gender_lb.transform(raw_mismatch_value_df['partner'])"
   ]
  },
  {
   "cell_type": "markdown",
   "metadata": {},
   "source": [
    "#### dependents"
   ]
  },
  {
   "cell_type": "code",
   "execution_count": null,
   "metadata": {
    "ExecuteTime": {
     "end_time": "2021-03-28T01:21:00.172863Z",
     "start_time": "2021-03-28T01:20:54.698Z"
    }
   },
   "outputs": [],
   "source": [
    "dependents_lb = preprocessing.LabelBinarizer()\n",
    "dependents_lb.fit(raw_feature_tranformation_df['dependents'])\n",
    "dependents_lb.classes_"
   ]
  },
  {
   "cell_type": "code",
   "execution_count": null,
   "metadata": {
    "ExecuteTime": {
     "end_time": "2021-03-28T01:21:00.174863Z",
     "start_time": "2021-03-28T01:20:54.704Z"
    }
   },
   "outputs": [],
   "source": [
    "raw_feature_tranformation_df['dependents'] = gender_lb.transform(raw_mismatch_value_df['dependents'])"
   ]
  },
  {
   "cell_type": "markdown",
   "metadata": {},
   "source": [
    "#### phone_service"
   ]
  },
  {
   "cell_type": "code",
   "execution_count": null,
   "metadata": {
    "ExecuteTime": {
     "end_time": "2021-03-28T01:21:00.175863Z",
     "start_time": "2021-03-28T01:20:54.713Z"
    }
   },
   "outputs": [],
   "source": [
    "phone_service_lb = preprocessing.LabelBinarizer()\n",
    "phone_service_lb.fit(raw_feature_tranformation_df['phone_service'])\n",
    "phone_service_lb.classes_"
   ]
  },
  {
   "cell_type": "code",
   "execution_count": null,
   "metadata": {
    "ExecuteTime": {
     "end_time": "2021-03-28T01:21:00.176862Z",
     "start_time": "2021-03-28T01:20:54.718Z"
    }
   },
   "outputs": [],
   "source": [
    "raw_feature_tranformation_df['phone_service'] = gender_lb.transform(raw_mismatch_value_df['phone_service'])"
   ]
  },
  {
   "cell_type": "markdown",
   "metadata": {},
   "source": [
    "#### paperless_billing"
   ]
  },
  {
   "cell_type": "code",
   "execution_count": null,
   "metadata": {
    "ExecuteTime": {
     "end_time": "2021-03-28T01:21:00.177863Z",
     "start_time": "2021-03-28T01:20:54.727Z"
    }
   },
   "outputs": [],
   "source": [
    "paperless_billing_lb = preprocessing.LabelBinarizer()\n",
    "paperless_billing_lb.fit(raw_feature_tranformation_df['paperless_billing'])\n",
    "paperless_billing_lb.classes_"
   ]
  },
  {
   "cell_type": "code",
   "execution_count": null,
   "metadata": {
    "ExecuteTime": {
     "end_time": "2021-03-28T01:21:00.179081Z",
     "start_time": "2021-03-28T01:20:54.732Z"
    }
   },
   "outputs": [],
   "source": [
    "raw_feature_tranformation_df['paperless_billing'] = paperless_billing_lb.transform(raw_mismatch_value_df['paperless_billing'])"
   ]
  },
  {
   "cell_type": "markdown",
   "metadata": {},
   "source": [
    "#### churn"
   ]
  },
  {
   "cell_type": "code",
   "execution_count": null,
   "metadata": {
    "ExecuteTime": {
     "end_time": "2021-03-28T01:21:00.180970Z",
     "start_time": "2021-03-28T01:20:54.741Z"
    }
   },
   "outputs": [],
   "source": [
    "churn_lb = preprocessing.LabelBinarizer()\n",
    "churn_lb.fit(raw_feature_tranformation_df['churn'])\n",
    "churn_lb.classes_"
   ]
  },
  {
   "cell_type": "code",
   "execution_count": null,
   "metadata": {
    "ExecuteTime": {
     "end_time": "2021-03-28T01:21:00.181978Z",
     "start_time": "2021-03-28T01:20:54.746Z"
    }
   },
   "outputs": [],
   "source": [
    "raw_feature_tranformation_df['churn'] = churn_lb.transform(raw_mismatch_value_df['churn'])"
   ]
  },
  {
   "cell_type": "markdown",
   "metadata": {},
   "source": [
    "### Multiple Lable"
   ]
  },
  {
   "cell_type": "markdown",
   "metadata": {},
   "source": [
    "#### multiple_lines"
   ]
  },
  {
   "cell_type": "code",
   "execution_count": null,
   "metadata": {
    "ExecuteTime": {
     "end_time": "2021-03-28T01:21:00.183976Z",
     "start_time": "2021-03-28T01:20:54.757Z"
    }
   },
   "outputs": [],
   "source": [
    "multiple_lines_lb = preprocessing.LabelBinarizer()\n",
    "multiple_lines_lb.fit(raw_feature_tranformation_df['multiple_lines'])\n",
    "multiple_lines_lb.classes_"
   ]
  },
  {
   "cell_type": "code",
   "execution_count": null,
   "metadata": {
    "ExecuteTime": {
     "end_time": "2021-03-28T01:21:00.185652Z",
     "start_time": "2021-03-28T01:20:54.764Z"
    }
   },
   "outputs": [],
   "source": [
    "raw_feature_tranformation_df['multiple_lines'] = multiple_lines_lb.transform(raw_mismatch_value_df['multiple_lines'])"
   ]
  },
  {
   "cell_type": "markdown",
   "metadata": {},
   "source": [
    "#### internet_service"
   ]
  },
  {
   "cell_type": "code",
   "execution_count": null,
   "metadata": {
    "ExecuteTime": {
     "end_time": "2021-03-28T01:21:00.186657Z",
     "start_time": "2021-03-28T01:20:54.774Z"
    }
   },
   "outputs": [],
   "source": [
    "internet_sevice_le = preprocessing.LabelEncoder()\n",
    "internet_sevice_le.fit(raw_feature_tranformation_df['internet_service'])\n",
    "internet_sevice_le.classes_"
   ]
  },
  {
   "cell_type": "code",
   "execution_count": null,
   "metadata": {
    "ExecuteTime": {
     "end_time": "2021-03-28T01:21:00.187896Z",
     "start_time": "2021-03-28T01:20:54.780Z"
    }
   },
   "outputs": [],
   "source": [
    "raw_feature_tranformation_df['internet_service'] = internet_sevice_le.transform(raw_mismatch_value_df['internet_service'])"
   ]
  },
  {
   "cell_type": "markdown",
   "metadata": {},
   "source": [
    "#### online_security"
   ]
  },
  {
   "cell_type": "code",
   "execution_count": null,
   "metadata": {
    "ExecuteTime": {
     "end_time": "2021-03-28T01:21:00.189928Z",
     "start_time": "2021-03-28T01:20:54.785Z"
    }
   },
   "outputs": [],
   "source": [
    "online_security_lb = preprocessing.LabelEncoder()\n",
    "online_security_lb.fit(raw_feature_tranformation_df['online_security'])\n",
    "online_security_lb.classes_"
   ]
  },
  {
   "cell_type": "code",
   "execution_count": null,
   "metadata": {
    "ExecuteTime": {
     "end_time": "2021-03-28T01:21:00.190896Z",
     "start_time": "2021-03-28T01:20:54.793Z"
    }
   },
   "outputs": [],
   "source": [
    "raw_feature_tranformation_df['online_security'] = online_security_lb.transform(raw_mismatch_value_df['online_security'])"
   ]
  },
  {
   "cell_type": "markdown",
   "metadata": {
    "ExecuteTime": {
     "end_time": "2021-03-21T15:09:30.063145Z",
     "start_time": "2021-03-21T15:09:30.048584Z"
    }
   },
   "source": [
    "#### online_backup"
   ]
  },
  {
   "cell_type": "code",
   "execution_count": null,
   "metadata": {
    "ExecuteTime": {
     "end_time": "2021-03-28T01:21:00.192896Z",
     "start_time": "2021-03-28T01:20:54.800Z"
    }
   },
   "outputs": [],
   "source": [
    "online_backup_lb = preprocessing.LabelEncoder()\n",
    "online_backup_lb.fit(raw_feature_tranformation_df['online_backup'])\n",
    "online_backup_lb.classes_"
   ]
  },
  {
   "cell_type": "code",
   "execution_count": null,
   "metadata": {
    "ExecuteTime": {
     "end_time": "2021-03-28T01:21:00.193897Z",
     "start_time": "2021-03-28T01:20:54.806Z"
    }
   },
   "outputs": [],
   "source": [
    "raw_feature_tranformation_df['online_backup'] = online_backup_lb.transform(raw_mismatch_value_df['online_backup'])"
   ]
  },
  {
   "cell_type": "markdown",
   "metadata": {},
   "source": [
    "#### device_protection"
   ]
  },
  {
   "cell_type": "code",
   "execution_count": null,
   "metadata": {
    "ExecuteTime": {
     "end_time": "2021-03-28T01:21:00.195897Z",
     "start_time": "2021-03-28T01:20:54.812Z"
    }
   },
   "outputs": [],
   "source": [
    "device_protection_lb = preprocessing.LabelBinarizer()\n",
    "device_protection_lb.fit(raw_feature_tranformation_df['device_protection'])\n",
    "device_protection_lb.classes_"
   ]
  },
  {
   "cell_type": "code",
   "execution_count": null,
   "metadata": {
    "ExecuteTime": {
     "end_time": "2021-03-28T01:21:00.197896Z",
     "start_time": "2021-03-28T01:20:54.818Z"
    }
   },
   "outputs": [],
   "source": [
    "raw_feature_tranformation_df['device_protection'] = device_protection_lb.transform(raw_mismatch_value_df['device_protection'])"
   ]
  },
  {
   "cell_type": "markdown",
   "metadata": {},
   "source": [
    "#### tech_support"
   ]
  },
  {
   "cell_type": "code",
   "execution_count": null,
   "metadata": {
    "ExecuteTime": {
     "end_time": "2021-03-28T01:21:00.200022Z",
     "start_time": "2021-03-28T01:20:54.824Z"
    }
   },
   "outputs": [],
   "source": [
    "tech_support_lb = preprocessing.LabelBinarizer()\n",
    "tech_support_lb.fit(raw_feature_tranformation_df['tech_support'])\n",
    "tech_support_lb.classes_"
   ]
  },
  {
   "cell_type": "code",
   "execution_count": null,
   "metadata": {
    "ExecuteTime": {
     "end_time": "2021-03-28T01:21:00.202106Z",
     "start_time": "2021-03-28T01:20:54.830Z"
    }
   },
   "outputs": [],
   "source": [
    "raw_feature_tranformation_df['tech_support'] = device_protection_lb.transform(raw_mismatch_value_df['tech_support'])"
   ]
  },
  {
   "cell_type": "markdown",
   "metadata": {},
   "source": [
    "#### streaming_movies"
   ]
  },
  {
   "cell_type": "code",
   "execution_count": null,
   "metadata": {
    "ExecuteTime": {
     "end_time": "2021-03-28T01:21:00.204134Z",
     "start_time": "2021-03-28T01:20:54.838Z"
    }
   },
   "outputs": [],
   "source": [
    "streaming_tv_lb = preprocessing.LabelBinarizer()\n",
    "streaming_tv_lb.fit(raw_feature_tranformation_df['streaming_tv'])\n",
    "streaming_tv_lb.classes_"
   ]
  },
  {
   "cell_type": "code",
   "execution_count": null,
   "metadata": {
    "ExecuteTime": {
     "end_time": "2021-03-28T01:21:00.210004Z",
     "start_time": "2021-03-28T01:20:54.844Z"
    }
   },
   "outputs": [],
   "source": [
    "raw_feature_tranformation_df['streaming_tv'] = streaming_tv_lb.transform(raw_mismatch_value_df['streaming_tv'])"
   ]
  },
  {
   "cell_type": "markdown",
   "metadata": {},
   "source": [
    "#### streaming_movies"
   ]
  },
  {
   "cell_type": "code",
   "execution_count": null,
   "metadata": {
    "ExecuteTime": {
     "end_time": "2021-03-28T01:21:00.212009Z",
     "start_time": "2021-03-28T01:20:54.851Z"
    }
   },
   "outputs": [],
   "source": [
    "streaming_movies_lb = preprocessing.LabelBinarizer()\n",
    "streaming_movies_lb.fit(raw_feature_tranformation_df['streaming_movies'])\n",
    "streaming_movies_lb.classes_"
   ]
  },
  {
   "cell_type": "code",
   "execution_count": null,
   "metadata": {
    "ExecuteTime": {
     "end_time": "2021-03-28T01:21:00.214015Z",
     "start_time": "2021-03-28T01:20:54.856Z"
    }
   },
   "outputs": [],
   "source": [
    "raw_feature_tranformation_df['streaming_movies'] = streaming_tv_lb.transform(raw_mismatch_value_df['streaming_movies'])"
   ]
  },
  {
   "cell_type": "markdown",
   "metadata": {},
   "source": [
    "#### contract"
   ]
  },
  {
   "cell_type": "code",
   "execution_count": null,
   "metadata": {
    "ExecuteTime": {
     "end_time": "2021-03-28T01:21:00.215322Z",
     "start_time": "2021-03-28T01:20:54.864Z"
    }
   },
   "outputs": [],
   "source": [
    "contract_le = preprocessing.LabelEncoder()\n",
    "contract_le.fit(raw_feature_tranformation_df['contract'])\n",
    "contract_le.classes_"
   ]
  },
  {
   "cell_type": "code",
   "execution_count": null,
   "metadata": {
    "ExecuteTime": {
     "end_time": "2021-03-28T01:21:00.217323Z",
     "start_time": "2021-03-28T01:20:54.869Z"
    }
   },
   "outputs": [],
   "source": [
    "raw_feature_tranformation_df['contract'] = contract_le.transform(raw_mismatch_value_df['contract'])"
   ]
  },
  {
   "cell_type": "markdown",
   "metadata": {},
   "source": [
    "#### payment_method"
   ]
  },
  {
   "cell_type": "code",
   "execution_count": null,
   "metadata": {
    "ExecuteTime": {
     "end_time": "2021-03-28T01:21:00.219323Z",
     "start_time": "2021-03-28T01:20:54.877Z"
    }
   },
   "outputs": [],
   "source": [
    "payment_method_le = preprocessing.LabelEncoder()\n",
    "payment_method_le.fit(raw_feature_tranformation_df['payment_method'])\n",
    "payment_method_le.classes_"
   ]
  },
  {
   "cell_type": "code",
   "execution_count": null,
   "metadata": {
    "ExecuteTime": {
     "end_time": "2021-03-28T01:21:00.221415Z",
     "start_time": "2021-03-28T01:20:54.883Z"
    }
   },
   "outputs": [],
   "source": [
    "raw_feature_tranformation_df['payment_method'] = payment_method_le.transform(raw_mismatch_value_df['payment_method'])"
   ]
  },
  {
   "cell_type": "markdown",
   "metadata": {},
   "source": [
    "### New feature"
   ]
  },
  {
   "cell_type": "markdown",
   "metadata": {},
   "source": [
    "#### total_charges\n",
    "Nilai dari feature tidak sesuai tidak sesuai dengan hasil kalkulasi dari tenure * monthly_charges. Maka akan dibuat dibuat fitur baru dari hasil perkalian tenure dan monthly_charges"
   ]
  },
  {
   "cell_type": "code",
   "execution_count": null,
   "metadata": {
    "ExecuteTime": {
     "end_time": "2021-03-28T01:21:00.222417Z",
     "start_time": "2021-03-28T01:20:54.893Z"
    }
   },
   "outputs": [],
   "source": [
    "raw_feature_tranformation_df.drop(['total_charges'], axis=1).head()"
   ]
  },
  {
   "cell_type": "code",
   "execution_count": null,
   "metadata": {
    "ExecuteTime": {
     "end_time": "2021-03-28T01:21:00.223493Z",
     "start_time": "2021-03-28T01:20:54.899Z"
    }
   },
   "outputs": [],
   "source": [
    "raw_feature_tranformation_df['total_charges'] = raw_feature_tranformation_df['tenure'] * raw_feature_tranformation_df['monthly_charges']"
   ]
  },
  {
   "cell_type": "code",
   "execution_count": null,
   "metadata": {
    "ExecuteTime": {
     "end_time": "2021-03-28T01:21:00.225495Z",
     "start_time": "2021-03-28T01:20:54.906Z"
    }
   },
   "outputs": [],
   "source": [
    "raw_feature_tranformation_df[['customer_id', 'gender', 'senior_citizen', 'partner', 'dependents',\n",
    "                              'tenure', 'phone_service', 'multiple_lines', 'internet_service',\n",
    "                              'online_security', 'online_backup', 'device_protection', 'tech_support',\n",
    "                              'streaming_tv', 'streaming_movies', 'contract', 'paperless_billing',\n",
    "                              'payment_method', 'monthly_charges', 'total_charges', 'churn',\n",
    "                             ]].head()"
   ]
  },
  {
   "cell_type": "code",
   "execution_count": null,
   "metadata": {
    "ExecuteTime": {
     "end_time": "2021-03-28T01:21:00.226497Z",
     "start_time": "2021-03-28T01:20:54.911Z"
    }
   },
   "outputs": [],
   "source": [
    "raw_feature_tranformation_df['customer_id'].duplicated().sum()"
   ]
  },
  {
   "cell_type": "markdown",
   "metadata": {},
   "source": [
    "## Feature Extraction"
   ]
  },
  {
   "cell_type": "code",
   "execution_count": null,
   "metadata": {
    "ExecuteTime": {
     "end_time": "2021-03-28T01:21:00.231520Z",
     "start_time": "2021-03-28T01:20:54.917Z"
    }
   },
   "outputs": [],
   "source": [
    "raw_feature_extraction_df = raw_feature_tranformation_df.drop(['customer_id', 'churn'], axis=1)"
   ]
  },
  {
   "cell_type": "markdown",
   "metadata": {},
   "source": [
    "### Principal Component Analysis"
   ]
  },
  {
   "cell_type": "code",
   "execution_count": null,
   "metadata": {
    "ExecuteTime": {
     "end_time": "2021-03-28T01:21:00.233501Z",
     "start_time": "2021-03-28T01:20:54.922Z"
    }
   },
   "outputs": [],
   "source": [
    "pca = PCA(n_components=19)\n",
    "pca.fit(raw_feature_extraction_df)"
   ]
  },
  {
   "cell_type": "code",
   "execution_count": null,
   "metadata": {
    "ExecuteTime": {
     "end_time": "2021-03-28T01:21:00.235547Z",
     "start_time": "2021-03-28T01:20:54.926Z"
    }
   },
   "outputs": [],
   "source": [
    "for component, explained_variance_ratio in enumerate(pca.explained_variance_ratio_):\n",
    "    print(f'{component + 1} component : {(explained_variance_ratio * 100):.4f}%')"
   ]
  },
  {
   "cell_type": "markdown",
   "metadata": {},
   "source": [
    "Dengan 1 component, explained variance yang dihasilkan sebesar 99.986%. Sehingga berhasil mereduksi dimensi sebanyak 18 dimensi, yang dimana dimensi awal sebanyak 19 dimensi."
   ]
  },
  {
   "cell_type": "markdown",
   "metadata": {
    "ExecuteTime": {
     "end_time": "2021-03-22T14:53:54.820525Z",
     "start_time": "2021-03-22T14:53:54.804922Z"
    }
   },
   "source": [
    "### Explained Variance Ratio Plot"
   ]
  },
  {
   "cell_type": "code",
   "execution_count": null,
   "metadata": {
    "ExecuteTime": {
     "end_time": "2021-03-28T01:21:00.236554Z",
     "start_time": "2021-03-28T01:20:54.934Z"
    }
   },
   "outputs": [],
   "source": [
    "pca = PCA().fit(raw_feature_extraction_df)\n",
    "\n",
    "plt.plot(np.cumsum(pca.explained_variance_ratio_))\n",
    "\n",
    "plt.xlabel('Number of components')\n",
    "plt.ylabel('Cumulative explained variance');"
   ]
  },
  {
   "cell_type": "markdown",
   "metadata": {
    "ExecuteTime": {
     "end_time": "2021-03-22T15:54:21.929060Z",
     "start_time": "2021-03-22T15:54:21.913420Z"
    }
   },
   "source": [
    "### Show Component in Table"
   ]
  },
  {
   "cell_type": "code",
   "execution_count": null,
   "metadata": {
    "ExecuteTime": {
     "end_time": "2021-03-28T01:21:00.237554Z",
     "start_time": "2021-03-28T01:20:54.939Z"
    },
    "scrolled": true
   },
   "outputs": [],
   "source": [
    "pca = PCA()\n",
    "\n",
    "X_pca = pca.fit_transform(raw_feature_extraction_df)\n",
    "\n",
    "component_names = [f\"PC{i+1}\" for i in range(X_pca.shape[1])]\n",
    "X_pca = pd.DataFrame(X_pca, columns=component_names)\n",
    "\n",
    "X_pca.head()"
   ]
  },
  {
   "cell_type": "markdown",
   "metadata": {},
   "source": [
    "### Factor Loading"
   ]
  },
  {
   "cell_type": "code",
   "execution_count": null,
   "metadata": {
    "ExecuteTime": {
     "end_time": "2021-03-28T01:21:00.239549Z",
     "start_time": "2021-03-28T01:20:54.945Z"
    },
    "scrolled": false
   },
   "outputs": [],
   "source": [
    "factor_loadings = pd.DataFrame(\n",
    "    pca.components_.T,\n",
    "    \n",
    "    columns =component_names,\n",
    "    index   =raw_feature_extraction_df.columns,\n",
    ")\n",
    "\n",
    "factor_loadings"
   ]
  },
  {
   "cell_type": "markdown",
   "metadata": {},
   "source": [
    "### Concate PCA Value with Churn Feature"
   ]
  },
  {
   "cell_type": "code",
   "execution_count": null,
   "metadata": {
    "ExecuteTime": {
     "end_time": "2021-03-28T01:21:00.241984Z",
     "start_time": "2021-03-28T01:20:54.950Z"
    }
   },
   "outputs": [],
   "source": [
    "PCA_df = pd.concat([X_pca, raw_feature_tranformation_df['churn']], axis=1)\n",
    "PCA_df.head()"
   ]
  },
  {
   "cell_type": "markdown",
   "metadata": {},
   "source": [
    "### Save PCA Value"
   ]
  },
  {
   "cell_type": "code",
   "execution_count": null,
   "metadata": {
    "ExecuteTime": {
     "end_time": "2021-03-28T01:21:00.244065Z",
     "start_time": "2021-03-28T01:20:54.956Z"
    }
   },
   "outputs": [],
   "source": [
    "PCA_df.to_csv('../datasets/PCA_df.csv', index=False)"
   ]
  },
  {
   "cell_type": "markdown",
   "metadata": {
    "ExecuteTime": {
     "end_time": "2021-03-21T13:25:23.036536Z",
     "start_time": "2021-03-21T13:25:23.026745Z"
    }
   },
   "source": [
    "## Feature Selection"
   ]
  },
  {
   "cell_type": "code",
   "execution_count": null,
   "metadata": {
    "ExecuteTime": {
     "end_time": "2021-03-28T01:21:00.245067Z",
     "start_time": "2021-03-28T01:20:54.963Z"
    }
   },
   "outputs": [],
   "source": [
    "raw_feature_selection_df = raw_feature_tranformation_df"
   ]
  },
  {
   "cell_type": "markdown",
   "metadata": {},
   "source": [
    "### Pearson Correlation"
   ]
  },
  {
   "cell_type": "code",
   "execution_count": null,
   "metadata": {
    "ExecuteTime": {
     "end_time": "2021-03-28T01:21:00.247067Z",
     "start_time": "2021-03-28T01:20:54.969Z"
    }
   },
   "outputs": [],
   "source": [
    "sns.set(rc={'figure.figsize':(20, 20)})\n",
    "sns.heatmap(raw_feature_selection_df.corr(), annot=True)"
   ]
  },
  {
   "cell_type": "markdown",
   "metadata": {},
   "source": [
    "### Spearman Correlation (Non-Linier)"
   ]
  },
  {
   "cell_type": "code",
   "execution_count": null,
   "metadata": {
    "ExecuteTime": {
     "end_time": "2021-03-28T01:21:00.248079Z",
     "start_time": "2021-03-28T01:20:54.981Z"
    }
   },
   "outputs": [],
   "source": [
    "sns.heatmap(raw_feature_selection_df.corr('spearman'), annot=True)"
   ]
  },
  {
   "cell_type": "markdown",
   "metadata": {},
   "source": [
    "### Seleksi fitur berdasarkan korelasi yang positif terhadap target churn"
   ]
  },
  {
   "cell_type": "code",
   "execution_count": null,
   "metadata": {
    "ExecuteTime": {
     "end_time": "2021-03-28T01:21:00.250044Z",
     "start_time": "2021-03-28T01:20:54.992Z"
    }
   },
   "outputs": [],
   "source": [
    "raw_feature_selection_df = raw_feature_tranformation_df[['senior_citizen', 'dependents', 'multiple_lines', 'streaming_tv', 'streaming_movies', 'paperless_billing', 'payment_method', 'monthly_charges', 'churn']]"
   ]
  },
  {
   "cell_type": "code",
   "execution_count": null,
   "metadata": {
    "ExecuteTime": {
     "end_time": "2021-03-28T01:21:00.253146Z",
     "start_time": "2021-03-28T01:20:54.999Z"
    }
   },
   "outputs": [],
   "source": [
    "raw_feature_selection_df.head()"
   ]
  },
  {
   "cell_type": "markdown",
   "metadata": {},
   "source": [
    "### Save feature selection"
   ]
  },
  {
   "cell_type": "code",
   "execution_count": null,
   "metadata": {
    "ExecuteTime": {
     "end_time": "2021-03-28T01:21:00.256480Z",
     "start_time": "2021-03-28T01:20:55.010Z"
    }
   },
   "outputs": [],
   "source": [
    "raw_feature_selection_df.to_csv('../datasets/raw_feature_engineering.csv')"
   ]
  }
 ],
 "metadata": {
  "celltoolbar": "Slideshow",
  "kernelspec": {
   "display_name": "Python 3",
   "language": "python",
   "name": "python3"
  },
  "language_info": {
   "codemirror_mode": {
    "name": "ipython",
    "version": 3
   },
   "file_extension": ".py",
   "mimetype": "text/x-python",
   "name": "python",
   "nbconvert_exporter": "python",
   "pygments_lexer": "ipython3",
   "version": "3.8.5"
  },
  "toc": {
   "base_numbering": 1,
   "nav_menu": {},
   "number_sections": true,
   "sideBar": true,
   "skip_h1_title": false,
   "title_cell": "Table of Contents",
   "title_sidebar": "Contents",
   "toc_cell": false,
   "toc_position": {
    "height": "calc(100% - 180px)",
    "left": "10px",
    "top": "150px",
    "width": "276px"
   },
   "toc_section_display": true,
   "toc_window_display": true
  }
 },
 "nbformat": 4,
 "nbformat_minor": 4
}
