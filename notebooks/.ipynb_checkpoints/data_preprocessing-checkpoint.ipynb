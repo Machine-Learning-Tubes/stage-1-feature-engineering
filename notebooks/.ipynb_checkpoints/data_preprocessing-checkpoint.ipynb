{
 "cells": [
  {
   "cell_type": "markdown",
   "metadata": {},
   "source": [
    "# Import Modules"
   ]
  },
  {
   "cell_type": "code",
   "execution_count": 1,
   "metadata": {
    "ExecuteTime": {
     "end_time": "2021-03-25T02:50:40.012303Z",
     "start_time": "2021-03-25T02:50:37.373642Z"
    }
   },
   "outputs": [],
   "source": [
    "import numpy as np\n",
    "import pandas as pd\n",
    "import seaborn as sns;\n",
    "import matplotlib.pyplot as plt\n",
    "\n",
    "from sklearn import preprocessing\n",
    "from sklearn.decomposition import PCA\n",
    "\n",
    "pd.set_option('display.max_columns', 21)"
   ]
  },
  {
   "cell_type": "markdown",
   "metadata": {},
   "source": [
    "# Raw Dataset"
   ]
  },
  {
   "cell_type": "code",
   "execution_count": 2,
   "metadata": {
    "ExecuteTime": {
     "end_time": "2021-03-25T02:50:40.065705Z",
     "start_time": "2021-03-25T02:50:40.012303Z"
    }
   },
   "outputs": [],
   "source": [
    "raw_df = pd.read_csv(\"../datasets/WA_Fn-UseC_-Telco-Customer-Churn.csv\")"
   ]
  },
  {
   "cell_type": "markdown",
   "metadata": {},
   "source": [
    "## Table"
   ]
  },
  {
   "cell_type": "code",
   "execution_count": 3,
   "metadata": {
    "ExecuteTime": {
     "end_time": "2021-03-25T02:50:40.112612Z",
     "start_time": "2021-03-25T02:50:40.065705Z"
    }
   },
   "outputs": [
    {
     "data": {
      "text/html": [
       "<div>\n",
       "<style scoped>\n",
       "    .dataframe tbody tr th:only-of-type {\n",
       "        vertical-align: middle;\n",
       "    }\n",
       "\n",
       "    .dataframe tbody tr th {\n",
       "        vertical-align: top;\n",
       "    }\n",
       "\n",
       "    .dataframe thead th {\n",
       "        text-align: right;\n",
       "    }\n",
       "</style>\n",
       "<table border=\"1\" class=\"dataframe\">\n",
       "  <thead>\n",
       "    <tr style=\"text-align: right;\">\n",
       "      <th></th>\n",
       "      <th>customerID</th>\n",
       "      <th>gender</th>\n",
       "      <th>SeniorCitizen</th>\n",
       "      <th>Partner</th>\n",
       "      <th>Dependents</th>\n",
       "      <th>tenure</th>\n",
       "      <th>PhoneService</th>\n",
       "      <th>MultipleLines</th>\n",
       "      <th>InternetService</th>\n",
       "      <th>OnlineSecurity</th>\n",
       "      <th>OnlineBackup</th>\n",
       "      <th>DeviceProtection</th>\n",
       "      <th>TechSupport</th>\n",
       "      <th>StreamingTV</th>\n",
       "      <th>StreamingMovies</th>\n",
       "      <th>Contract</th>\n",
       "      <th>PaperlessBilling</th>\n",
       "      <th>PaymentMethod</th>\n",
       "      <th>MonthlyCharges</th>\n",
       "      <th>TotalCharges</th>\n",
       "      <th>Churn</th>\n",
       "    </tr>\n",
       "  </thead>\n",
       "  <tbody>\n",
       "    <tr>\n",
       "      <th>0</th>\n",
       "      <td>7590-VHVEG</td>\n",
       "      <td>Female</td>\n",
       "      <td>0</td>\n",
       "      <td>Yes</td>\n",
       "      <td>No</td>\n",
       "      <td>1</td>\n",
       "      <td>No</td>\n",
       "      <td>No phone service</td>\n",
       "      <td>DSL</td>\n",
       "      <td>No</td>\n",
       "      <td>Yes</td>\n",
       "      <td>No</td>\n",
       "      <td>No</td>\n",
       "      <td>No</td>\n",
       "      <td>No</td>\n",
       "      <td>Month-to-month</td>\n",
       "      <td>Yes</td>\n",
       "      <td>Electronic check</td>\n",
       "      <td>29.85</td>\n",
       "      <td>29.85</td>\n",
       "      <td>No</td>\n",
       "    </tr>\n",
       "    <tr>\n",
       "      <th>1</th>\n",
       "      <td>5575-GNVDE</td>\n",
       "      <td>Male</td>\n",
       "      <td>0</td>\n",
       "      <td>No</td>\n",
       "      <td>No</td>\n",
       "      <td>34</td>\n",
       "      <td>Yes</td>\n",
       "      <td>No</td>\n",
       "      <td>DSL</td>\n",
       "      <td>Yes</td>\n",
       "      <td>No</td>\n",
       "      <td>Yes</td>\n",
       "      <td>No</td>\n",
       "      <td>No</td>\n",
       "      <td>No</td>\n",
       "      <td>One year</td>\n",
       "      <td>No</td>\n",
       "      <td>Mailed check</td>\n",
       "      <td>56.95</td>\n",
       "      <td>1889.5</td>\n",
       "      <td>No</td>\n",
       "    </tr>\n",
       "    <tr>\n",
       "      <th>2</th>\n",
       "      <td>3668-QPYBK</td>\n",
       "      <td>Male</td>\n",
       "      <td>0</td>\n",
       "      <td>No</td>\n",
       "      <td>No</td>\n",
       "      <td>2</td>\n",
       "      <td>Yes</td>\n",
       "      <td>No</td>\n",
       "      <td>DSL</td>\n",
       "      <td>Yes</td>\n",
       "      <td>Yes</td>\n",
       "      <td>No</td>\n",
       "      <td>No</td>\n",
       "      <td>No</td>\n",
       "      <td>No</td>\n",
       "      <td>Month-to-month</td>\n",
       "      <td>Yes</td>\n",
       "      <td>Mailed check</td>\n",
       "      <td>53.85</td>\n",
       "      <td>108.15</td>\n",
       "      <td>Yes</td>\n",
       "    </tr>\n",
       "    <tr>\n",
       "      <th>3</th>\n",
       "      <td>7795-CFOCW</td>\n",
       "      <td>Male</td>\n",
       "      <td>0</td>\n",
       "      <td>No</td>\n",
       "      <td>No</td>\n",
       "      <td>45</td>\n",
       "      <td>No</td>\n",
       "      <td>No phone service</td>\n",
       "      <td>DSL</td>\n",
       "      <td>Yes</td>\n",
       "      <td>No</td>\n",
       "      <td>Yes</td>\n",
       "      <td>Yes</td>\n",
       "      <td>No</td>\n",
       "      <td>No</td>\n",
       "      <td>One year</td>\n",
       "      <td>No</td>\n",
       "      <td>Bank transfer (automatic)</td>\n",
       "      <td>42.30</td>\n",
       "      <td>1840.75</td>\n",
       "      <td>No</td>\n",
       "    </tr>\n",
       "    <tr>\n",
       "      <th>4</th>\n",
       "      <td>9237-HQITU</td>\n",
       "      <td>Female</td>\n",
       "      <td>0</td>\n",
       "      <td>No</td>\n",
       "      <td>No</td>\n",
       "      <td>2</td>\n",
       "      <td>Yes</td>\n",
       "      <td>No</td>\n",
       "      <td>Fiber optic</td>\n",
       "      <td>No</td>\n",
       "      <td>No</td>\n",
       "      <td>No</td>\n",
       "      <td>No</td>\n",
       "      <td>No</td>\n",
       "      <td>No</td>\n",
       "      <td>Month-to-month</td>\n",
       "      <td>Yes</td>\n",
       "      <td>Electronic check</td>\n",
       "      <td>70.70</td>\n",
       "      <td>151.65</td>\n",
       "      <td>Yes</td>\n",
       "    </tr>\n",
       "  </tbody>\n",
       "</table>\n",
       "</div>"
      ],
      "text/plain": [
       "   customerID  gender  SeniorCitizen Partner Dependents  tenure PhoneService  \\\n",
       "0  7590-VHVEG  Female              0     Yes         No       1           No   \n",
       "1  5575-GNVDE    Male              0      No         No      34          Yes   \n",
       "2  3668-QPYBK    Male              0      No         No       2          Yes   \n",
       "3  7795-CFOCW    Male              0      No         No      45           No   \n",
       "4  9237-HQITU  Female              0      No         No       2          Yes   \n",
       "\n",
       "      MultipleLines InternetService OnlineSecurity OnlineBackup  \\\n",
       "0  No phone service             DSL             No          Yes   \n",
       "1                No             DSL            Yes           No   \n",
       "2                No             DSL            Yes          Yes   \n",
       "3  No phone service             DSL            Yes           No   \n",
       "4                No     Fiber optic             No           No   \n",
       "\n",
       "  DeviceProtection TechSupport StreamingTV StreamingMovies        Contract  \\\n",
       "0               No          No          No              No  Month-to-month   \n",
       "1              Yes          No          No              No        One year   \n",
       "2               No          No          No              No  Month-to-month   \n",
       "3              Yes         Yes          No              No        One year   \n",
       "4               No          No          No              No  Month-to-month   \n",
       "\n",
       "  PaperlessBilling              PaymentMethod  MonthlyCharges TotalCharges  \\\n",
       "0              Yes           Electronic check           29.85        29.85   \n",
       "1               No               Mailed check           56.95       1889.5   \n",
       "2              Yes               Mailed check           53.85       108.15   \n",
       "3               No  Bank transfer (automatic)           42.30      1840.75   \n",
       "4              Yes           Electronic check           70.70       151.65   \n",
       "\n",
       "  Churn  \n",
       "0    No  \n",
       "1    No  \n",
       "2   Yes  \n",
       "3    No  \n",
       "4   Yes  "
      ]
     },
     "execution_count": 3,
     "metadata": {},
     "output_type": "execute_result"
    }
   ],
   "source": [
    "raw_df.head()"
   ]
  },
  {
   "cell_type": "markdown",
   "metadata": {},
   "source": [
    "# Data Cleaning"
   ]
  },
  {
   "cell_type": "markdown",
   "metadata": {},
   "source": [
    "## Rename column"
   ]
  },
  {
   "cell_type": "code",
   "execution_count": 4,
   "metadata": {
    "ExecuteTime": {
     "end_time": "2021-03-25T02:50:40.134775Z",
     "start_time": "2021-03-25T02:50:40.112612Z"
    }
   },
   "outputs": [],
   "source": [
    "raw_rename_columns_df = raw_df.rename(columns={'customerID' : 'customer_id',\n",
    "                                               'SeniorCitizen' : 'senior_citizen',\n",
    "                                               'Partner' : 'partner',\n",
    "                                               'Dependents' : 'dependents',\n",
    "                                               'PhoneService' : 'phone_service',\n",
    "                                               'MultipleLines' : 'multiple_lines',\n",
    "                                               'InternetService' : 'internet_service',\n",
    "                                               'OnlineSecurity' : 'online_security',\n",
    "                                               'OnlineBackup' : 'online_backup',\n",
    "                                               'DeviceProtection' : 'device_protection',\n",
    "                                               'TechSupport' : 'tech_support',\n",
    "                                               'StreamingTV' : 'streaming_tv',\n",
    "                                               'StreamingMovies' : 'streaming_movies',\n",
    "                                               'Contract' : 'contract',\n",
    "                                               'PaperlessBilling' : 'paperless_billing',\n",
    "                                               'PaymentMethod' : 'payment_method',\n",
    "                                               'MonthlyCharges' : 'monthly_charges',\n",
    "                                               'TotalCharges' : 'total_charges',\n",
    "                                               'Churn' : 'churn'})"
   ]
  },
  {
   "cell_type": "code",
   "execution_count": 5,
   "metadata": {
    "ExecuteTime": {
     "end_time": "2021-03-25T02:50:40.197279Z",
     "start_time": "2021-03-25T02:50:40.134775Z"
    }
   },
   "outputs": [
    {
     "data": {
      "text/html": [
       "<div>\n",
       "<style scoped>\n",
       "    .dataframe tbody tr th:only-of-type {\n",
       "        vertical-align: middle;\n",
       "    }\n",
       "\n",
       "    .dataframe tbody tr th {\n",
       "        vertical-align: top;\n",
       "    }\n",
       "\n",
       "    .dataframe thead th {\n",
       "        text-align: right;\n",
       "    }\n",
       "</style>\n",
       "<table border=\"1\" class=\"dataframe\">\n",
       "  <thead>\n",
       "    <tr style=\"text-align: right;\">\n",
       "      <th></th>\n",
       "      <th>customer_id</th>\n",
       "      <th>gender</th>\n",
       "      <th>senior_citizen</th>\n",
       "      <th>partner</th>\n",
       "      <th>dependents</th>\n",
       "      <th>tenure</th>\n",
       "      <th>phone_service</th>\n",
       "      <th>multiple_lines</th>\n",
       "      <th>internet_service</th>\n",
       "      <th>online_security</th>\n",
       "      <th>online_backup</th>\n",
       "      <th>device_protection</th>\n",
       "      <th>tech_support</th>\n",
       "      <th>streaming_tv</th>\n",
       "      <th>streaming_movies</th>\n",
       "      <th>contract</th>\n",
       "      <th>paperless_billing</th>\n",
       "      <th>payment_method</th>\n",
       "      <th>monthly_charges</th>\n",
       "      <th>total_charges</th>\n",
       "      <th>churn</th>\n",
       "    </tr>\n",
       "  </thead>\n",
       "  <tbody>\n",
       "    <tr>\n",
       "      <th>0</th>\n",
       "      <td>7590-VHVEG</td>\n",
       "      <td>Female</td>\n",
       "      <td>0</td>\n",
       "      <td>Yes</td>\n",
       "      <td>No</td>\n",
       "      <td>1</td>\n",
       "      <td>No</td>\n",
       "      <td>No phone service</td>\n",
       "      <td>DSL</td>\n",
       "      <td>No</td>\n",
       "      <td>Yes</td>\n",
       "      <td>No</td>\n",
       "      <td>No</td>\n",
       "      <td>No</td>\n",
       "      <td>No</td>\n",
       "      <td>Month-to-month</td>\n",
       "      <td>Yes</td>\n",
       "      <td>Electronic check</td>\n",
       "      <td>29.85</td>\n",
       "      <td>29.85</td>\n",
       "      <td>No</td>\n",
       "    </tr>\n",
       "    <tr>\n",
       "      <th>1</th>\n",
       "      <td>5575-GNVDE</td>\n",
       "      <td>Male</td>\n",
       "      <td>0</td>\n",
       "      <td>No</td>\n",
       "      <td>No</td>\n",
       "      <td>34</td>\n",
       "      <td>Yes</td>\n",
       "      <td>No</td>\n",
       "      <td>DSL</td>\n",
       "      <td>Yes</td>\n",
       "      <td>No</td>\n",
       "      <td>Yes</td>\n",
       "      <td>No</td>\n",
       "      <td>No</td>\n",
       "      <td>No</td>\n",
       "      <td>One year</td>\n",
       "      <td>No</td>\n",
       "      <td>Mailed check</td>\n",
       "      <td>56.95</td>\n",
       "      <td>1889.5</td>\n",
       "      <td>No</td>\n",
       "    </tr>\n",
       "    <tr>\n",
       "      <th>2</th>\n",
       "      <td>3668-QPYBK</td>\n",
       "      <td>Male</td>\n",
       "      <td>0</td>\n",
       "      <td>No</td>\n",
       "      <td>No</td>\n",
       "      <td>2</td>\n",
       "      <td>Yes</td>\n",
       "      <td>No</td>\n",
       "      <td>DSL</td>\n",
       "      <td>Yes</td>\n",
       "      <td>Yes</td>\n",
       "      <td>No</td>\n",
       "      <td>No</td>\n",
       "      <td>No</td>\n",
       "      <td>No</td>\n",
       "      <td>Month-to-month</td>\n",
       "      <td>Yes</td>\n",
       "      <td>Mailed check</td>\n",
       "      <td>53.85</td>\n",
       "      <td>108.15</td>\n",
       "      <td>Yes</td>\n",
       "    </tr>\n",
       "    <tr>\n",
       "      <th>3</th>\n",
       "      <td>7795-CFOCW</td>\n",
       "      <td>Male</td>\n",
       "      <td>0</td>\n",
       "      <td>No</td>\n",
       "      <td>No</td>\n",
       "      <td>45</td>\n",
       "      <td>No</td>\n",
       "      <td>No phone service</td>\n",
       "      <td>DSL</td>\n",
       "      <td>Yes</td>\n",
       "      <td>No</td>\n",
       "      <td>Yes</td>\n",
       "      <td>Yes</td>\n",
       "      <td>No</td>\n",
       "      <td>No</td>\n",
       "      <td>One year</td>\n",
       "      <td>No</td>\n",
       "      <td>Bank transfer (automatic)</td>\n",
       "      <td>42.30</td>\n",
       "      <td>1840.75</td>\n",
       "      <td>No</td>\n",
       "    </tr>\n",
       "    <tr>\n",
       "      <th>4</th>\n",
       "      <td>9237-HQITU</td>\n",
       "      <td>Female</td>\n",
       "      <td>0</td>\n",
       "      <td>No</td>\n",
       "      <td>No</td>\n",
       "      <td>2</td>\n",
       "      <td>Yes</td>\n",
       "      <td>No</td>\n",
       "      <td>Fiber optic</td>\n",
       "      <td>No</td>\n",
       "      <td>No</td>\n",
       "      <td>No</td>\n",
       "      <td>No</td>\n",
       "      <td>No</td>\n",
       "      <td>No</td>\n",
       "      <td>Month-to-month</td>\n",
       "      <td>Yes</td>\n",
       "      <td>Electronic check</td>\n",
       "      <td>70.70</td>\n",
       "      <td>151.65</td>\n",
       "      <td>Yes</td>\n",
       "    </tr>\n",
       "  </tbody>\n",
       "</table>\n",
       "</div>"
      ],
      "text/plain": [
       "  customer_id  gender  senior_citizen partner dependents  tenure  \\\n",
       "0  7590-VHVEG  Female               0     Yes         No       1   \n",
       "1  5575-GNVDE    Male               0      No         No      34   \n",
       "2  3668-QPYBK    Male               0      No         No       2   \n",
       "3  7795-CFOCW    Male               0      No         No      45   \n",
       "4  9237-HQITU  Female               0      No         No       2   \n",
       "\n",
       "  phone_service    multiple_lines internet_service online_security  \\\n",
       "0            No  No phone service              DSL              No   \n",
       "1           Yes                No              DSL             Yes   \n",
       "2           Yes                No              DSL             Yes   \n",
       "3            No  No phone service              DSL             Yes   \n",
       "4           Yes                No      Fiber optic              No   \n",
       "\n",
       "  online_backup device_protection tech_support streaming_tv streaming_movies  \\\n",
       "0           Yes                No           No           No               No   \n",
       "1            No               Yes           No           No               No   \n",
       "2           Yes                No           No           No               No   \n",
       "3            No               Yes          Yes           No               No   \n",
       "4            No                No           No           No               No   \n",
       "\n",
       "         contract paperless_billing             payment_method  \\\n",
       "0  Month-to-month               Yes           Electronic check   \n",
       "1        One year                No               Mailed check   \n",
       "2  Month-to-month               Yes               Mailed check   \n",
       "3        One year                No  Bank transfer (automatic)   \n",
       "4  Month-to-month               Yes           Electronic check   \n",
       "\n",
       "   monthly_charges total_charges churn  \n",
       "0            29.85         29.85    No  \n",
       "1            56.95        1889.5    No  \n",
       "2            53.85        108.15   Yes  \n",
       "3            42.30       1840.75    No  \n",
       "4            70.70        151.65   Yes  "
      ]
     },
     "execution_count": 5,
     "metadata": {},
     "output_type": "execute_result"
    }
   ],
   "source": [
    "raw_rename_columns_df.head(5)"
   ]
  },
  {
   "cell_type": "markdown",
   "metadata": {},
   "source": [
    "## Missing Value"
   ]
  },
  {
   "cell_type": "code",
   "execution_count": 6,
   "metadata": {
    "ExecuteTime": {
     "end_time": "2021-03-25T02:50:40.235054Z",
     "start_time": "2021-03-25T02:50:40.197279Z"
    }
   },
   "outputs": [
    {
     "data": {
      "text/html": [
       "<div>\n",
       "<style scoped>\n",
       "    .dataframe tbody tr th:only-of-type {\n",
       "        vertical-align: middle;\n",
       "    }\n",
       "\n",
       "    .dataframe tbody tr th {\n",
       "        vertical-align: top;\n",
       "    }\n",
       "\n",
       "    .dataframe thead th {\n",
       "        text-align: right;\n",
       "    }\n",
       "</style>\n",
       "<table border=\"1\" class=\"dataframe\">\n",
       "  <thead>\n",
       "    <tr style=\"text-align: right;\">\n",
       "      <th></th>\n",
       "      <th>Number of Missing Value (%)</th>\n",
       "    </tr>\n",
       "  </thead>\n",
       "  <tbody>\n",
       "    <tr>\n",
       "      <th>customer_id</th>\n",
       "      <td>0</td>\n",
       "    </tr>\n",
       "    <tr>\n",
       "      <th>gender</th>\n",
       "      <td>0</td>\n",
       "    </tr>\n",
       "    <tr>\n",
       "      <th>senior_citizen</th>\n",
       "      <td>0</td>\n",
       "    </tr>\n",
       "    <tr>\n",
       "      <th>partner</th>\n",
       "      <td>0</td>\n",
       "    </tr>\n",
       "    <tr>\n",
       "      <th>dependents</th>\n",
       "      <td>0</td>\n",
       "    </tr>\n",
       "    <tr>\n",
       "      <th>tenure</th>\n",
       "      <td>0</td>\n",
       "    </tr>\n",
       "    <tr>\n",
       "      <th>phone_service</th>\n",
       "      <td>0</td>\n",
       "    </tr>\n",
       "    <tr>\n",
       "      <th>multiple_lines</th>\n",
       "      <td>0</td>\n",
       "    </tr>\n",
       "    <tr>\n",
       "      <th>internet_service</th>\n",
       "      <td>0</td>\n",
       "    </tr>\n",
       "    <tr>\n",
       "      <th>online_security</th>\n",
       "      <td>0</td>\n",
       "    </tr>\n",
       "    <tr>\n",
       "      <th>online_backup</th>\n",
       "      <td>0</td>\n",
       "    </tr>\n",
       "    <tr>\n",
       "      <th>device_protection</th>\n",
       "      <td>0</td>\n",
       "    </tr>\n",
       "    <tr>\n",
       "      <th>tech_support</th>\n",
       "      <td>0</td>\n",
       "    </tr>\n",
       "    <tr>\n",
       "      <th>streaming_tv</th>\n",
       "      <td>0</td>\n",
       "    </tr>\n",
       "    <tr>\n",
       "      <th>streaming_movies</th>\n",
       "      <td>0</td>\n",
       "    </tr>\n",
       "    <tr>\n",
       "      <th>contract</th>\n",
       "      <td>0</td>\n",
       "    </tr>\n",
       "    <tr>\n",
       "      <th>paperless_billing</th>\n",
       "      <td>0</td>\n",
       "    </tr>\n",
       "    <tr>\n",
       "      <th>payment_method</th>\n",
       "      <td>0</td>\n",
       "    </tr>\n",
       "    <tr>\n",
       "      <th>monthly_charges</th>\n",
       "      <td>0</td>\n",
       "    </tr>\n",
       "    <tr>\n",
       "      <th>total_charges</th>\n",
       "      <td>0</td>\n",
       "    </tr>\n",
       "    <tr>\n",
       "      <th>churn</th>\n",
       "      <td>0</td>\n",
       "    </tr>\n",
       "  </tbody>\n",
       "</table>\n",
       "</div>"
      ],
      "text/plain": [
       "                   Number of Missing Value (%)\n",
       "customer_id                                  0\n",
       "gender                                       0\n",
       "senior_citizen                               0\n",
       "partner                                      0\n",
       "dependents                                   0\n",
       "tenure                                       0\n",
       "phone_service                                0\n",
       "multiple_lines                               0\n",
       "internet_service                             0\n",
       "online_security                              0\n",
       "online_backup                                0\n",
       "device_protection                            0\n",
       "tech_support                                 0\n",
       "streaming_tv                                 0\n",
       "streaming_movies                             0\n",
       "contract                                     0\n",
       "paperless_billing                            0\n",
       "payment_method                               0\n",
       "monthly_charges                              0\n",
       "total_charges                                0\n",
       "churn                                        0"
      ]
     },
     "execution_count": 6,
     "metadata": {},
     "output_type": "execute_result"
    }
   ],
   "source": [
    "raw_rename_columns_df.isna().sum().to_frame().rename(columns={0 : 'Number of Missing Value (%)'})"
   ]
  },
  {
   "cell_type": "markdown",
   "metadata": {},
   "source": [
    "## Duplicate Value"
   ]
  },
  {
   "cell_type": "code",
   "execution_count": 7,
   "metadata": {
    "ExecuteTime": {
     "end_time": "2021-03-25T02:50:40.281931Z",
     "start_time": "2021-03-25T02:50:40.235054Z"
    }
   },
   "outputs": [
    {
     "name": "stdout",
     "output_type": "stream",
     "text": [
      "Number of duplicate value : 0\n"
     ]
    }
   ],
   "source": [
    "print(f'Number of duplicate value : {raw_rename_columns_df.duplicated().sum()}')"
   ]
  },
  {
   "cell_type": "markdown",
   "metadata": {},
   "source": [
    "## Mismatch Value"
   ]
  },
  {
   "cell_type": "markdown",
   "metadata": {},
   "source": [
    "Pada fitur total_charges datatype nya adalah object, yang seharusnya float."
   ]
  },
  {
   "cell_type": "code",
   "execution_count": 8,
   "metadata": {
    "ExecuteTime": {
     "end_time": "2021-03-25T02:50:40.313216Z",
     "start_time": "2021-03-25T02:50:40.281931Z"
    }
   },
   "outputs": [
    {
     "data": {
      "text/html": [
       "<div>\n",
       "<style scoped>\n",
       "    .dataframe tbody tr th:only-of-type {\n",
       "        vertical-align: middle;\n",
       "    }\n",
       "\n",
       "    .dataframe tbody tr th {\n",
       "        vertical-align: top;\n",
       "    }\n",
       "\n",
       "    .dataframe thead th {\n",
       "        text-align: right;\n",
       "    }\n",
       "</style>\n",
       "<table border=\"1\" class=\"dataframe\">\n",
       "  <thead>\n",
       "    <tr style=\"text-align: right;\">\n",
       "      <th></th>\n",
       "      <th>Datatype</th>\n",
       "    </tr>\n",
       "  </thead>\n",
       "  <tbody>\n",
       "    <tr>\n",
       "      <th>customer_id</th>\n",
       "      <td>object</td>\n",
       "    </tr>\n",
       "    <tr>\n",
       "      <th>gender</th>\n",
       "      <td>object</td>\n",
       "    </tr>\n",
       "    <tr>\n",
       "      <th>senior_citizen</th>\n",
       "      <td>int64</td>\n",
       "    </tr>\n",
       "    <tr>\n",
       "      <th>partner</th>\n",
       "      <td>object</td>\n",
       "    </tr>\n",
       "    <tr>\n",
       "      <th>dependents</th>\n",
       "      <td>object</td>\n",
       "    </tr>\n",
       "    <tr>\n",
       "      <th>tenure</th>\n",
       "      <td>int64</td>\n",
       "    </tr>\n",
       "    <tr>\n",
       "      <th>phone_service</th>\n",
       "      <td>object</td>\n",
       "    </tr>\n",
       "    <tr>\n",
       "      <th>multiple_lines</th>\n",
       "      <td>object</td>\n",
       "    </tr>\n",
       "    <tr>\n",
       "      <th>internet_service</th>\n",
       "      <td>object</td>\n",
       "    </tr>\n",
       "    <tr>\n",
       "      <th>online_security</th>\n",
       "      <td>object</td>\n",
       "    </tr>\n",
       "    <tr>\n",
       "      <th>online_backup</th>\n",
       "      <td>object</td>\n",
       "    </tr>\n",
       "    <tr>\n",
       "      <th>device_protection</th>\n",
       "      <td>object</td>\n",
       "    </tr>\n",
       "    <tr>\n",
       "      <th>tech_support</th>\n",
       "      <td>object</td>\n",
       "    </tr>\n",
       "    <tr>\n",
       "      <th>streaming_tv</th>\n",
       "      <td>object</td>\n",
       "    </tr>\n",
       "    <tr>\n",
       "      <th>streaming_movies</th>\n",
       "      <td>object</td>\n",
       "    </tr>\n",
       "    <tr>\n",
       "      <th>contract</th>\n",
       "      <td>object</td>\n",
       "    </tr>\n",
       "    <tr>\n",
       "      <th>paperless_billing</th>\n",
       "      <td>object</td>\n",
       "    </tr>\n",
       "    <tr>\n",
       "      <th>payment_method</th>\n",
       "      <td>object</td>\n",
       "    </tr>\n",
       "    <tr>\n",
       "      <th>monthly_charges</th>\n",
       "      <td>float64</td>\n",
       "    </tr>\n",
       "    <tr>\n",
       "      <th>total_charges</th>\n",
       "      <td>object</td>\n",
       "    </tr>\n",
       "    <tr>\n",
       "      <th>churn</th>\n",
       "      <td>object</td>\n",
       "    </tr>\n",
       "  </tbody>\n",
       "</table>\n",
       "</div>"
      ],
      "text/plain": [
       "                  Datatype\n",
       "customer_id         object\n",
       "gender              object\n",
       "senior_citizen       int64\n",
       "partner             object\n",
       "dependents          object\n",
       "tenure               int64\n",
       "phone_service       object\n",
       "multiple_lines      object\n",
       "internet_service    object\n",
       "online_security     object\n",
       "online_backup       object\n",
       "device_protection   object\n",
       "tech_support        object\n",
       "streaming_tv        object\n",
       "streaming_movies    object\n",
       "contract            object\n",
       "paperless_billing   object\n",
       "payment_method      object\n",
       "monthly_charges    float64\n",
       "total_charges       object\n",
       "churn               object"
      ]
     },
     "execution_count": 8,
     "metadata": {},
     "output_type": "execute_result"
    }
   ],
   "source": [
    "raw_rename_columns_df.dtypes.to_frame().rename(columns={0 : 'Datatype'})"
   ]
  },
  {
   "cell_type": "code",
   "execution_count": 9,
   "metadata": {
    "ExecuteTime": {
     "end_time": "2021-03-25T02:50:40.334882Z",
     "start_time": "2021-03-25T02:50:40.313216Z"
    }
   },
   "outputs": [],
   "source": [
    "raw_rename_columns_df['total_charges'] = pd.to_numeric(raw_rename_columns_df['total_charges'], errors='coerce')\n",
    "raw_mismatch_value_df = raw_rename_columns_df"
   ]
  },
  {
   "cell_type": "code",
   "execution_count": 10,
   "metadata": {
    "ExecuteTime": {
     "end_time": "2021-03-25T02:50:40.350512Z",
     "start_time": "2021-03-25T02:50:40.334882Z"
    }
   },
   "outputs": [
    {
     "data": {
      "text/html": [
       "<div>\n",
       "<style scoped>\n",
       "    .dataframe tbody tr th:only-of-type {\n",
       "        vertical-align: middle;\n",
       "    }\n",
       "\n",
       "    .dataframe tbody tr th {\n",
       "        vertical-align: top;\n",
       "    }\n",
       "\n",
       "    .dataframe thead th {\n",
       "        text-align: right;\n",
       "    }\n",
       "</style>\n",
       "<table border=\"1\" class=\"dataframe\">\n",
       "  <thead>\n",
       "    <tr style=\"text-align: right;\">\n",
       "      <th></th>\n",
       "      <th>Datatype</th>\n",
       "    </tr>\n",
       "  </thead>\n",
       "  <tbody>\n",
       "    <tr>\n",
       "      <th>customer_id</th>\n",
       "      <td>object</td>\n",
       "    </tr>\n",
       "    <tr>\n",
       "      <th>gender</th>\n",
       "      <td>object</td>\n",
       "    </tr>\n",
       "    <tr>\n",
       "      <th>senior_citizen</th>\n",
       "      <td>int64</td>\n",
       "    </tr>\n",
       "    <tr>\n",
       "      <th>partner</th>\n",
       "      <td>object</td>\n",
       "    </tr>\n",
       "    <tr>\n",
       "      <th>dependents</th>\n",
       "      <td>object</td>\n",
       "    </tr>\n",
       "    <tr>\n",
       "      <th>tenure</th>\n",
       "      <td>int64</td>\n",
       "    </tr>\n",
       "    <tr>\n",
       "      <th>phone_service</th>\n",
       "      <td>object</td>\n",
       "    </tr>\n",
       "    <tr>\n",
       "      <th>multiple_lines</th>\n",
       "      <td>object</td>\n",
       "    </tr>\n",
       "    <tr>\n",
       "      <th>internet_service</th>\n",
       "      <td>object</td>\n",
       "    </tr>\n",
       "    <tr>\n",
       "      <th>online_security</th>\n",
       "      <td>object</td>\n",
       "    </tr>\n",
       "    <tr>\n",
       "      <th>online_backup</th>\n",
       "      <td>object</td>\n",
       "    </tr>\n",
       "    <tr>\n",
       "      <th>device_protection</th>\n",
       "      <td>object</td>\n",
       "    </tr>\n",
       "    <tr>\n",
       "      <th>tech_support</th>\n",
       "      <td>object</td>\n",
       "    </tr>\n",
       "    <tr>\n",
       "      <th>streaming_tv</th>\n",
       "      <td>object</td>\n",
       "    </tr>\n",
       "    <tr>\n",
       "      <th>streaming_movies</th>\n",
       "      <td>object</td>\n",
       "    </tr>\n",
       "    <tr>\n",
       "      <th>contract</th>\n",
       "      <td>object</td>\n",
       "    </tr>\n",
       "    <tr>\n",
       "      <th>paperless_billing</th>\n",
       "      <td>object</td>\n",
       "    </tr>\n",
       "    <tr>\n",
       "      <th>payment_method</th>\n",
       "      <td>object</td>\n",
       "    </tr>\n",
       "    <tr>\n",
       "      <th>monthly_charges</th>\n",
       "      <td>float64</td>\n",
       "    </tr>\n",
       "    <tr>\n",
       "      <th>total_charges</th>\n",
       "      <td>float64</td>\n",
       "    </tr>\n",
       "    <tr>\n",
       "      <th>churn</th>\n",
       "      <td>object</td>\n",
       "    </tr>\n",
       "  </tbody>\n",
       "</table>\n",
       "</div>"
      ],
      "text/plain": [
       "                  Datatype\n",
       "customer_id         object\n",
       "gender              object\n",
       "senior_citizen       int64\n",
       "partner             object\n",
       "dependents          object\n",
       "tenure               int64\n",
       "phone_service       object\n",
       "multiple_lines      object\n",
       "internet_service    object\n",
       "online_security     object\n",
       "online_backup       object\n",
       "device_protection   object\n",
       "tech_support        object\n",
       "streaming_tv        object\n",
       "streaming_movies    object\n",
       "contract            object\n",
       "paperless_billing   object\n",
       "payment_method      object\n",
       "monthly_charges    float64\n",
       "total_charges      float64\n",
       "churn               object"
      ]
     },
     "execution_count": 10,
     "metadata": {},
     "output_type": "execute_result"
    }
   ],
   "source": [
    "raw_rename_columns_df.dtypes.to_frame().rename(columns={0 : 'Datatype'})"
   ]
  },
  {
   "cell_type": "markdown",
   "metadata": {},
   "source": [
    "# Feature Engineering"
   ]
  },
  {
   "cell_type": "code",
   "execution_count": 11,
   "metadata": {
    "ExecuteTime": {
     "end_time": "2021-03-25T02:50:40.366135Z",
     "start_time": "2021-03-25T02:50:40.350512Z"
    }
   },
   "outputs": [],
   "source": [
    "raw_feature_tranformation_df = raw_mismatch_value_df"
   ]
  },
  {
   "cell_type": "code",
   "execution_count": 12,
   "metadata": {
    "ExecuteTime": {
     "end_time": "2021-03-25T02:50:40.397388Z",
     "start_time": "2021-03-25T02:50:40.366135Z"
    }
   },
   "outputs": [
    {
     "data": {
      "text/html": [
       "<div>\n",
       "<style scoped>\n",
       "    .dataframe tbody tr th:only-of-type {\n",
       "        vertical-align: middle;\n",
       "    }\n",
       "\n",
       "    .dataframe tbody tr th {\n",
       "        vertical-align: top;\n",
       "    }\n",
       "\n",
       "    .dataframe thead th {\n",
       "        text-align: right;\n",
       "    }\n",
       "</style>\n",
       "<table border=\"1\" class=\"dataframe\">\n",
       "  <thead>\n",
       "    <tr style=\"text-align: right;\">\n",
       "      <th></th>\n",
       "      <th>customer_id</th>\n",
       "      <th>gender</th>\n",
       "      <th>senior_citizen</th>\n",
       "      <th>partner</th>\n",
       "      <th>dependents</th>\n",
       "      <th>tenure</th>\n",
       "      <th>phone_service</th>\n",
       "      <th>multiple_lines</th>\n",
       "      <th>internet_service</th>\n",
       "      <th>online_security</th>\n",
       "      <th>online_backup</th>\n",
       "      <th>device_protection</th>\n",
       "      <th>tech_support</th>\n",
       "      <th>streaming_tv</th>\n",
       "      <th>streaming_movies</th>\n",
       "      <th>contract</th>\n",
       "      <th>paperless_billing</th>\n",
       "      <th>payment_method</th>\n",
       "      <th>monthly_charges</th>\n",
       "      <th>total_charges</th>\n",
       "      <th>churn</th>\n",
       "    </tr>\n",
       "  </thead>\n",
       "  <tbody>\n",
       "    <tr>\n",
       "      <th>0</th>\n",
       "      <td>7590-VHVEG</td>\n",
       "      <td>Female</td>\n",
       "      <td>0</td>\n",
       "      <td>Yes</td>\n",
       "      <td>No</td>\n",
       "      <td>1</td>\n",
       "      <td>No</td>\n",
       "      <td>No phone service</td>\n",
       "      <td>DSL</td>\n",
       "      <td>No</td>\n",
       "      <td>Yes</td>\n",
       "      <td>No</td>\n",
       "      <td>No</td>\n",
       "      <td>No</td>\n",
       "      <td>No</td>\n",
       "      <td>Month-to-month</td>\n",
       "      <td>Yes</td>\n",
       "      <td>Electronic check</td>\n",
       "      <td>29.85</td>\n",
       "      <td>29.85</td>\n",
       "      <td>No</td>\n",
       "    </tr>\n",
       "  </tbody>\n",
       "</table>\n",
       "</div>"
      ],
      "text/plain": [
       "  customer_id  gender  senior_citizen partner dependents  tenure  \\\n",
       "0  7590-VHVEG  Female               0     Yes         No       1   \n",
       "\n",
       "  phone_service    multiple_lines internet_service online_security  \\\n",
       "0            No  No phone service              DSL              No   \n",
       "\n",
       "  online_backup device_protection tech_support streaming_tv streaming_movies  \\\n",
       "0           Yes                No           No           No               No   \n",
       "\n",
       "         contract paperless_billing    payment_method  monthly_charges  \\\n",
       "0  Month-to-month               Yes  Electronic check            29.85   \n",
       "\n",
       "   total_charges churn  \n",
       "0          29.85    No  "
      ]
     },
     "execution_count": 12,
     "metadata": {},
     "output_type": "execute_result"
    }
   ],
   "source": [
    "raw_feature_tranformation_df.head(1)"
   ]
  },
  {
   "cell_type": "markdown",
   "metadata": {},
   "source": [
    "## Feature Transformation"
   ]
  },
  {
   "cell_type": "markdown",
   "metadata": {},
   "source": [
    "### Binary Lable"
   ]
  },
  {
   "cell_type": "markdown",
   "metadata": {},
   "source": [
    "#### gender"
   ]
  },
  {
   "cell_type": "code",
   "execution_count": 13,
   "metadata": {
    "ExecuteTime": {
     "end_time": "2021-03-25T02:50:40.413014Z",
     "start_time": "2021-03-25T02:50:40.397388Z"
    }
   },
   "outputs": [
    {
     "data": {
      "text/plain": [
       "array(['Female', 'Male'], dtype='<U6')"
      ]
     },
     "execution_count": 13,
     "metadata": {},
     "output_type": "execute_result"
    }
   ],
   "source": [
    "gender_lb = preprocessing.LabelBinarizer()\n",
    "gender_lb.fit(raw_feature_tranformation_df['gender'])\n",
    "gender_lb.classes_"
   ]
  },
  {
   "cell_type": "code",
   "execution_count": 14,
   "metadata": {
    "ExecuteTime": {
     "end_time": "2021-03-25T02:50:40.450789Z",
     "start_time": "2021-03-25T02:50:40.413014Z"
    }
   },
   "outputs": [],
   "source": [
    "raw_feature_tranformation_df['gender'] = gender_lb.transform(raw_mismatch_value_df['gender'])"
   ]
  },
  {
   "cell_type": "markdown",
   "metadata": {},
   "source": [
    "#### partner"
   ]
  },
  {
   "cell_type": "code",
   "execution_count": 15,
   "metadata": {
    "ExecuteTime": {
     "end_time": "2021-03-25T02:50:40.482043Z",
     "start_time": "2021-03-25T02:50:40.450789Z"
    }
   },
   "outputs": [
    {
     "data": {
      "text/plain": [
       "array(['No', 'Yes'], dtype='<U3')"
      ]
     },
     "execution_count": 15,
     "metadata": {},
     "output_type": "execute_result"
    }
   ],
   "source": [
    "partner_lb = preprocessing.LabelBinarizer()\n",
    "partner_lb.fit(raw_feature_tranformation_df['partner'])\n",
    "partner_lb.classes_"
   ]
  },
  {
   "cell_type": "code",
   "execution_count": 16,
   "metadata": {
    "ExecuteTime": {
     "end_time": "2021-03-25T02:50:40.497667Z",
     "start_time": "2021-03-25T02:50:40.482043Z"
    }
   },
   "outputs": [],
   "source": [
    "raw_feature_tranformation_df['partner'] = gender_lb.transform(raw_mismatch_value_df['partner'])"
   ]
  },
  {
   "cell_type": "markdown",
   "metadata": {},
   "source": [
    "#### dependents"
   ]
  },
  {
   "cell_type": "code",
   "execution_count": 17,
   "metadata": {
    "ExecuteTime": {
     "end_time": "2021-03-25T02:50:40.535441Z",
     "start_time": "2021-03-25T02:50:40.497667Z"
    }
   },
   "outputs": [
    {
     "data": {
      "text/plain": [
       "array(['No', 'Yes'], dtype='<U3')"
      ]
     },
     "execution_count": 17,
     "metadata": {},
     "output_type": "execute_result"
    }
   ],
   "source": [
    "dependents_lb = preprocessing.LabelBinarizer()\n",
    "dependents_lb.fit(raw_feature_tranformation_df['dependents'])\n",
    "dependents_lb.classes_"
   ]
  },
  {
   "cell_type": "code",
   "execution_count": 18,
   "metadata": {
    "ExecuteTime": {
     "end_time": "2021-03-25T02:50:40.551063Z",
     "start_time": "2021-03-25T02:50:40.535441Z"
    }
   },
   "outputs": [],
   "source": [
    "raw_feature_tranformation_df['dependents'] = gender_lb.transform(raw_mismatch_value_df['dependents'])"
   ]
  },
  {
   "cell_type": "markdown",
   "metadata": {},
   "source": [
    "#### phone_service"
   ]
  },
  {
   "cell_type": "code",
   "execution_count": 19,
   "metadata": {
    "ExecuteTime": {
     "end_time": "2021-03-25T02:50:40.582316Z",
     "start_time": "2021-03-25T02:50:40.551063Z"
    }
   },
   "outputs": [
    {
     "data": {
      "text/plain": [
       "array(['No', 'Yes'], dtype='<U3')"
      ]
     },
     "execution_count": 19,
     "metadata": {},
     "output_type": "execute_result"
    }
   ],
   "source": [
    "phone_service_lb = preprocessing.LabelBinarizer()\n",
    "phone_service_lb.fit(raw_feature_tranformation_df['phone_service'])\n",
    "phone_service_lb.classes_"
   ]
  },
  {
   "cell_type": "code",
   "execution_count": 20,
   "metadata": {
    "ExecuteTime": {
     "end_time": "2021-03-25T02:50:40.597941Z",
     "start_time": "2021-03-25T02:50:40.582316Z"
    }
   },
   "outputs": [],
   "source": [
    "raw_feature_tranformation_df['phone_service'] = gender_lb.transform(raw_mismatch_value_df['phone_service'])"
   ]
  },
  {
   "cell_type": "markdown",
   "metadata": {},
   "source": [
    "#### multiple_lines"
   ]
  },
  {
   "cell_type": "code",
   "execution_count": 21,
   "metadata": {
    "ExecuteTime": {
     "end_time": "2021-03-25T02:50:40.635719Z",
     "start_time": "2021-03-25T02:50:40.597941Z"
    }
   },
   "outputs": [
    {
     "data": {
      "text/plain": [
       "array(['No', 'No phone service', 'Yes'], dtype='<U16')"
      ]
     },
     "execution_count": 21,
     "metadata": {},
     "output_type": "execute_result"
    }
   ],
   "source": [
    "multiple_lines_lb = preprocessing.LabelBinarizer()\n",
    "multiple_lines_lb.fit(raw_feature_tranformation_df['multiple_lines'])\n",
    "multiple_lines_lb.classes_"
   ]
  },
  {
   "cell_type": "code",
   "execution_count": 22,
   "metadata": {
    "ExecuteTime": {
     "end_time": "2021-03-25T02:50:40.666970Z",
     "start_time": "2021-03-25T02:50:40.635719Z"
    }
   },
   "outputs": [],
   "source": [
    "raw_feature_tranformation_df['multiple_lines'] = multiple_lines_lb.transform(raw_mismatch_value_df['multiple_lines'])"
   ]
  },
  {
   "cell_type": "markdown",
   "metadata": {},
   "source": [
    "#### internet_service"
   ]
  },
  {
   "cell_type": "code",
   "execution_count": 23,
   "metadata": {
    "ExecuteTime": {
     "end_time": "2021-03-25T02:50:40.682597Z",
     "start_time": "2021-03-25T02:50:40.666970Z"
    }
   },
   "outputs": [
    {
     "data": {
      "text/plain": [
       "array(['DSL', 'Fiber optic', 'No'], dtype=object)"
      ]
     },
     "execution_count": 23,
     "metadata": {},
     "output_type": "execute_result"
    }
   ],
   "source": [
    "internet_sevice_le = preprocessing.LabelEncoder()\n",
    "internet_sevice_le.fit(raw_feature_tranformation_df['internet_service'])\n",
    "internet_sevice_le.classes_"
   ]
  },
  {
   "cell_type": "code",
   "execution_count": 24,
   "metadata": {
    "ExecuteTime": {
     "end_time": "2021-03-25T02:50:40.698221Z",
     "start_time": "2021-03-25T02:50:40.682597Z"
    }
   },
   "outputs": [],
   "source": [
    "raw_feature_tranformation_df['internet_service'] = internet_sevice_le.transform(raw_mismatch_value_df['internet_service'])"
   ]
  },
  {
   "cell_type": "code",
   "execution_count": 25,
   "metadata": {
    "ExecuteTime": {
     "end_time": "2021-03-25T02:50:40.736013Z",
     "start_time": "2021-03-25T02:50:40.698221Z"
    },
    "scrolled": true
   },
   "outputs": [
    {
     "data": {
      "text/html": [
       "<div>\n",
       "<style scoped>\n",
       "    .dataframe tbody tr th:only-of-type {\n",
       "        vertical-align: middle;\n",
       "    }\n",
       "\n",
       "    .dataframe tbody tr th {\n",
       "        vertical-align: top;\n",
       "    }\n",
       "\n",
       "    .dataframe thead th {\n",
       "        text-align: right;\n",
       "    }\n",
       "</style>\n",
       "<table border=\"1\" class=\"dataframe\">\n",
       "  <thead>\n",
       "    <tr style=\"text-align: right;\">\n",
       "      <th></th>\n",
       "      <th>customer_id</th>\n",
       "      <th>gender</th>\n",
       "      <th>senior_citizen</th>\n",
       "      <th>partner</th>\n",
       "      <th>dependents</th>\n",
       "      <th>tenure</th>\n",
       "      <th>phone_service</th>\n",
       "      <th>multiple_lines</th>\n",
       "      <th>internet_service</th>\n",
       "      <th>online_security</th>\n",
       "      <th>online_backup</th>\n",
       "      <th>device_protection</th>\n",
       "      <th>tech_support</th>\n",
       "      <th>streaming_tv</th>\n",
       "      <th>streaming_movies</th>\n",
       "      <th>contract</th>\n",
       "      <th>paperless_billing</th>\n",
       "      <th>payment_method</th>\n",
       "      <th>monthly_charges</th>\n",
       "      <th>total_charges</th>\n",
       "      <th>churn</th>\n",
       "    </tr>\n",
       "  </thead>\n",
       "  <tbody>\n",
       "    <tr>\n",
       "      <th>0</th>\n",
       "      <td>7590-VHVEG</td>\n",
       "      <td>0</td>\n",
       "      <td>0</td>\n",
       "      <td>0</td>\n",
       "      <td>0</td>\n",
       "      <td>1</td>\n",
       "      <td>0</td>\n",
       "      <td>0</td>\n",
       "      <td>0</td>\n",
       "      <td>No</td>\n",
       "      <td>Yes</td>\n",
       "      <td>No</td>\n",
       "      <td>No</td>\n",
       "      <td>No</td>\n",
       "      <td>No</td>\n",
       "      <td>Month-to-month</td>\n",
       "      <td>Yes</td>\n",
       "      <td>Electronic check</td>\n",
       "      <td>29.85</td>\n",
       "      <td>29.85</td>\n",
       "      <td>No</td>\n",
       "    </tr>\n",
       "  </tbody>\n",
       "</table>\n",
       "</div>"
      ],
      "text/plain": [
       "  customer_id  gender  senior_citizen  partner  dependents  tenure  \\\n",
       "0  7590-VHVEG       0               0        0           0       1   \n",
       "\n",
       "   phone_service  multiple_lines  internet_service online_security  \\\n",
       "0              0               0                 0              No   \n",
       "\n",
       "  online_backup device_protection tech_support streaming_tv streaming_movies  \\\n",
       "0           Yes                No           No           No               No   \n",
       "\n",
       "         contract paperless_billing    payment_method  monthly_charges  \\\n",
       "0  Month-to-month               Yes  Electronic check            29.85   \n",
       "\n",
       "   total_charges churn  \n",
       "0          29.85    No  "
      ]
     },
     "execution_count": 25,
     "metadata": {},
     "output_type": "execute_result"
    }
   ],
   "source": [
    "raw_feature_tranformation_df.head(1)"
   ]
  },
  {
   "cell_type": "markdown",
   "metadata": {},
   "source": [
    "#### online_security"
   ]
  },
  {
   "cell_type": "code",
   "execution_count": 26,
   "metadata": {
    "ExecuteTime": {
     "end_time": "2021-03-25T02:50:40.751674Z",
     "start_time": "2021-03-25T02:50:40.736013Z"
    }
   },
   "outputs": [
    {
     "data": {
      "text/plain": [
       "array(['No', 'No internet service', 'Yes'], dtype=object)"
      ]
     },
     "execution_count": 26,
     "metadata": {},
     "output_type": "execute_result"
    }
   ],
   "source": [
    "online_security_lb = preprocessing.LabelEncoder()\n",
    "online_security_lb.fit(raw_feature_tranformation_df['online_security'])\n",
    "online_security_lb.classes_"
   ]
  },
  {
   "cell_type": "code",
   "execution_count": 27,
   "metadata": {
    "ExecuteTime": {
     "end_time": "2021-03-25T02:50:40.782892Z",
     "start_time": "2021-03-25T02:50:40.751674Z"
    }
   },
   "outputs": [],
   "source": [
    "raw_feature_tranformation_df['online_security'] = online_security_lb.transform(raw_mismatch_value_df['online_security'])"
   ]
  },
  {
   "cell_type": "markdown",
   "metadata": {
    "ExecuteTime": {
     "end_time": "2021-03-21T15:09:30.063145Z",
     "start_time": "2021-03-21T15:09:30.048584Z"
    }
   },
   "source": [
    "#### online_backup"
   ]
  },
  {
   "cell_type": "code",
   "execution_count": 28,
   "metadata": {
    "ExecuteTime": {
     "end_time": "2021-03-25T02:50:40.814142Z",
     "start_time": "2021-03-25T02:50:40.782892Z"
    }
   },
   "outputs": [
    {
     "data": {
      "text/plain": [
       "array(['No', 'No internet service', 'Yes'], dtype=object)"
      ]
     },
     "execution_count": 28,
     "metadata": {},
     "output_type": "execute_result"
    }
   ],
   "source": [
    "online_backup_lb = preprocessing.LabelEncoder()\n",
    "online_backup_lb.fit(raw_feature_tranformation_df['online_backup'])\n",
    "online_backup_lb.classes_"
   ]
  },
  {
   "cell_type": "code",
   "execution_count": 29,
   "metadata": {
    "ExecuteTime": {
     "end_time": "2021-03-25T02:50:40.836295Z",
     "start_time": "2021-03-25T02:50:40.814142Z"
    }
   },
   "outputs": [],
   "source": [
    "raw_feature_tranformation_df['online_backup'] = online_backup_lb.transform(raw_mismatch_value_df['online_backup'])"
   ]
  },
  {
   "cell_type": "markdown",
   "metadata": {},
   "source": [
    "#### device_protection"
   ]
  },
  {
   "cell_type": "code",
   "execution_count": 30,
   "metadata": {
    "ExecuteTime": {
     "end_time": "2021-03-25T02:50:40.851921Z",
     "start_time": "2021-03-25T02:50:40.836295Z"
    }
   },
   "outputs": [
    {
     "data": {
      "text/plain": [
       "array(['No', 'No internet service', 'Yes'], dtype='<U19')"
      ]
     },
     "execution_count": 30,
     "metadata": {},
     "output_type": "execute_result"
    }
   ],
   "source": [
    "device_protection_lb = preprocessing.LabelBinarizer()\n",
    "device_protection_lb.fit(raw_feature_tranformation_df['device_protection'])\n",
    "device_protection_lb.classes_"
   ]
  },
  {
   "cell_type": "code",
   "execution_count": 31,
   "metadata": {
    "ExecuteTime": {
     "end_time": "2021-03-25T02:50:40.883175Z",
     "start_time": "2021-03-25T02:50:40.851921Z"
    }
   },
   "outputs": [],
   "source": [
    "raw_feature_tranformation_df['device_protection'] = device_protection_lb.transform(raw_mismatch_value_df['device_protection'])"
   ]
  },
  {
   "cell_type": "markdown",
   "metadata": {},
   "source": [
    "#### tech_support"
   ]
  },
  {
   "cell_type": "code",
   "execution_count": 32,
   "metadata": {
    "ExecuteTime": {
     "end_time": "2021-03-25T02:50:40.914420Z",
     "start_time": "2021-03-25T02:50:40.883175Z"
    }
   },
   "outputs": [
    {
     "data": {
      "text/plain": [
       "array(['No', 'No internet service', 'Yes'], dtype='<U19')"
      ]
     },
     "execution_count": 32,
     "metadata": {},
     "output_type": "execute_result"
    }
   ],
   "source": [
    "tech_support_lb = preprocessing.LabelBinarizer()\n",
    "tech_support_lb.fit(raw_feature_tranformation_df['tech_support'])\n",
    "tech_support_lb.classes_"
   ]
  },
  {
   "cell_type": "code",
   "execution_count": 33,
   "metadata": {
    "ExecuteTime": {
     "end_time": "2021-03-25T02:50:40.936576Z",
     "start_time": "2021-03-25T02:50:40.914420Z"
    }
   },
   "outputs": [],
   "source": [
    "raw_feature_tranformation_df['tech_support'] = device_protection_lb.transform(raw_mismatch_value_df['tech_support'])"
   ]
  },
  {
   "cell_type": "markdown",
   "metadata": {},
   "source": [
    "#### streaming_movies"
   ]
  },
  {
   "cell_type": "code",
   "execution_count": 34,
   "metadata": {
    "ExecuteTime": {
     "end_time": "2021-03-25T02:50:40.967824Z",
     "start_time": "2021-03-25T02:50:40.936576Z"
    }
   },
   "outputs": [
    {
     "data": {
      "text/plain": [
       "array(['No', 'No internet service', 'Yes'], dtype='<U19')"
      ]
     },
     "execution_count": 34,
     "metadata": {},
     "output_type": "execute_result"
    }
   ],
   "source": [
    "streaming_tv_lb = preprocessing.LabelBinarizer()\n",
    "streaming_tv_lb.fit(raw_feature_tranformation_df['streaming_tv'])\n",
    "streaming_tv_lb.classes_"
   ]
  },
  {
   "cell_type": "code",
   "execution_count": 35,
   "metadata": {
    "ExecuteTime": {
     "end_time": "2021-03-25T02:50:40.983453Z",
     "start_time": "2021-03-25T02:50:40.967824Z"
    }
   },
   "outputs": [],
   "source": [
    "raw_feature_tranformation_df['streaming_tv'] = streaming_tv_lb.transform(raw_mismatch_value_df['streaming_tv'])"
   ]
  },
  {
   "cell_type": "markdown",
   "metadata": {},
   "source": [
    "#### streaming_movies"
   ]
  },
  {
   "cell_type": "code",
   "execution_count": 36,
   "metadata": {
    "ExecuteTime": {
     "end_time": "2021-03-25T02:50:41.014701Z",
     "start_time": "2021-03-25T02:50:40.983453Z"
    }
   },
   "outputs": [
    {
     "data": {
      "text/plain": [
       "array(['No', 'No internet service', 'Yes'], dtype='<U19')"
      ]
     },
     "execution_count": 36,
     "metadata": {},
     "output_type": "execute_result"
    }
   ],
   "source": [
    "streaming_movies_lb = preprocessing.LabelBinarizer()\n",
    "streaming_movies_lb.fit(raw_feature_tranformation_df['streaming_movies'])\n",
    "streaming_movies_lb.classes_"
   ]
  },
  {
   "cell_type": "code",
   "execution_count": 37,
   "metadata": {
    "ExecuteTime": {
     "end_time": "2021-03-25T02:50:41.036854Z",
     "start_time": "2021-03-25T02:50:41.014701Z"
    }
   },
   "outputs": [],
   "source": [
    "raw_feature_tranformation_df['streaming_movies'] = streaming_tv_lb.transform(raw_mismatch_value_df['streaming_movies'])"
   ]
  },
  {
   "cell_type": "markdown",
   "metadata": {},
   "source": [
    "#### paperless_billing"
   ]
  },
  {
   "cell_type": "code",
   "execution_count": 38,
   "metadata": {
    "ExecuteTime": {
     "end_time": "2021-03-25T02:50:41.068100Z",
     "start_time": "2021-03-25T02:50:41.036854Z"
    }
   },
   "outputs": [
    {
     "data": {
      "text/plain": [
       "array(['No', 'Yes'], dtype='<U3')"
      ]
     },
     "execution_count": 38,
     "metadata": {},
     "output_type": "execute_result"
    }
   ],
   "source": [
    "paperless_billing_lb = preprocessing.LabelBinarizer()\n",
    "paperless_billing_lb.fit(raw_feature_tranformation_df['paperless_billing'])\n",
    "paperless_billing_lb.classes_"
   ]
  },
  {
   "cell_type": "code",
   "execution_count": 39,
   "metadata": {
    "ExecuteTime": {
     "end_time": "2021-03-25T02:50:41.099354Z",
     "start_time": "2021-03-25T02:50:41.068100Z"
    }
   },
   "outputs": [],
   "source": [
    "raw_feature_tranformation_df['paperless_billing'] = paperless_billing_lb.transform(raw_mismatch_value_df['paperless_billing'])"
   ]
  },
  {
   "cell_type": "markdown",
   "metadata": {},
   "source": [
    "#### churn"
   ]
  },
  {
   "cell_type": "code",
   "execution_count": 40,
   "metadata": {
    "ExecuteTime": {
     "end_time": "2021-03-25T02:50:41.137128Z",
     "start_time": "2021-03-25T02:50:41.099354Z"
    }
   },
   "outputs": [
    {
     "data": {
      "text/plain": [
       "array(['No', 'Yes'], dtype='<U3')"
      ]
     },
     "execution_count": 40,
     "metadata": {},
     "output_type": "execute_result"
    }
   ],
   "source": [
    "churn_lb = preprocessing.LabelBinarizer()\n",
    "churn_lb.fit(raw_feature_tranformation_df['churn'])\n",
    "churn_lb.classes_"
   ]
  },
  {
   "cell_type": "code",
   "execution_count": 41,
   "metadata": {
    "ExecuteTime": {
     "end_time": "2021-03-25T02:50:41.152754Z",
     "start_time": "2021-03-25T02:50:41.137128Z"
    }
   },
   "outputs": [],
   "source": [
    "raw_feature_tranformation_df['churn'] = churn_lb.transform(raw_mismatch_value_df['churn'])"
   ]
  },
  {
   "cell_type": "markdown",
   "metadata": {},
   "source": [
    "### Multiple Lable"
   ]
  },
  {
   "cell_type": "code",
   "execution_count": 42,
   "metadata": {
    "ExecuteTime": {
     "end_time": "2021-03-25T02:50:41.184003Z",
     "start_time": "2021-03-25T02:50:41.152754Z"
    }
   },
   "outputs": [
    {
     "data": {
      "text/html": [
       "<div>\n",
       "<style scoped>\n",
       "    .dataframe tbody tr th:only-of-type {\n",
       "        vertical-align: middle;\n",
       "    }\n",
       "\n",
       "    .dataframe tbody tr th {\n",
       "        vertical-align: top;\n",
       "    }\n",
       "\n",
       "    .dataframe thead th {\n",
       "        text-align: right;\n",
       "    }\n",
       "</style>\n",
       "<table border=\"1\" class=\"dataframe\">\n",
       "  <thead>\n",
       "    <tr style=\"text-align: right;\">\n",
       "      <th></th>\n",
       "      <th>customer_id</th>\n",
       "      <th>gender</th>\n",
       "      <th>senior_citizen</th>\n",
       "      <th>partner</th>\n",
       "      <th>dependents</th>\n",
       "      <th>tenure</th>\n",
       "      <th>phone_service</th>\n",
       "      <th>multiple_lines</th>\n",
       "      <th>internet_service</th>\n",
       "      <th>online_security</th>\n",
       "      <th>online_backup</th>\n",
       "      <th>device_protection</th>\n",
       "      <th>tech_support</th>\n",
       "      <th>streaming_tv</th>\n",
       "      <th>streaming_movies</th>\n",
       "      <th>contract</th>\n",
       "      <th>paperless_billing</th>\n",
       "      <th>payment_method</th>\n",
       "      <th>monthly_charges</th>\n",
       "      <th>total_charges</th>\n",
       "      <th>churn</th>\n",
       "    </tr>\n",
       "  </thead>\n",
       "  <tbody>\n",
       "    <tr>\n",
       "      <th>0</th>\n",
       "      <td>7590-VHVEG</td>\n",
       "      <td>0</td>\n",
       "      <td>0</td>\n",
       "      <td>0</td>\n",
       "      <td>0</td>\n",
       "      <td>1</td>\n",
       "      <td>0</td>\n",
       "      <td>0</td>\n",
       "      <td>0</td>\n",
       "      <td>0</td>\n",
       "      <td>2</td>\n",
       "      <td>1</td>\n",
       "      <td>1</td>\n",
       "      <td>1</td>\n",
       "      <td>1</td>\n",
       "      <td>Month-to-month</td>\n",
       "      <td>1</td>\n",
       "      <td>Electronic check</td>\n",
       "      <td>29.85</td>\n",
       "      <td>29.85</td>\n",
       "      <td>0</td>\n",
       "    </tr>\n",
       "  </tbody>\n",
       "</table>\n",
       "</div>"
      ],
      "text/plain": [
       "  customer_id  gender  senior_citizen  partner  dependents  tenure  \\\n",
       "0  7590-VHVEG       0               0        0           0       1   \n",
       "\n",
       "   phone_service  multiple_lines  internet_service  online_security  \\\n",
       "0              0               0                 0                0   \n",
       "\n",
       "   online_backup  device_protection  tech_support  streaming_tv  \\\n",
       "0              2                  1             1             1   \n",
       "\n",
       "   streaming_movies        contract  paperless_billing    payment_method  \\\n",
       "0                 1  Month-to-month                  1  Electronic check   \n",
       "\n",
       "   monthly_charges  total_charges  churn  \n",
       "0            29.85          29.85      0  "
      ]
     },
     "execution_count": 42,
     "metadata": {},
     "output_type": "execute_result"
    }
   ],
   "source": [
    "raw_feature_tranformation_df.head(1)"
   ]
  },
  {
   "cell_type": "markdown",
   "metadata": {},
   "source": [
    "#### contract"
   ]
  },
  {
   "cell_type": "code",
   "execution_count": 43,
   "metadata": {
    "ExecuteTime": {
     "end_time": "2021-03-25T02:50:41.199628Z",
     "start_time": "2021-03-25T02:50:41.184003Z"
    }
   },
   "outputs": [
    {
     "data": {
      "text/plain": [
       "array(['Month-to-month', 'One year', 'Two year'], dtype=object)"
      ]
     },
     "execution_count": 43,
     "metadata": {},
     "output_type": "execute_result"
    }
   ],
   "source": [
    "contract_le = preprocessing.LabelEncoder()\n",
    "contract_le.fit(raw_feature_tranformation_df['contract'])\n",
    "contract_le.classes_"
   ]
  },
  {
   "cell_type": "code",
   "execution_count": 44,
   "metadata": {
    "ExecuteTime": {
     "end_time": "2021-03-25T02:50:41.215254Z",
     "start_time": "2021-03-25T02:50:41.199628Z"
    }
   },
   "outputs": [],
   "source": [
    "raw_feature_tranformation_df['contract'] = contract_le.transform(raw_mismatch_value_df['contract'])"
   ]
  },
  {
   "cell_type": "markdown",
   "metadata": {},
   "source": [
    "#### payment_method"
   ]
  },
  {
   "cell_type": "code",
   "execution_count": 45,
   "metadata": {
    "ExecuteTime": {
     "end_time": "2021-03-25T02:50:41.237405Z",
     "start_time": "2021-03-25T02:50:41.215254Z"
    }
   },
   "outputs": [
    {
     "data": {
      "text/plain": [
       "array(['Bank transfer (automatic)', 'Credit card (automatic)',\n",
       "       'Electronic check', 'Mailed check'], dtype=object)"
      ]
     },
     "execution_count": 45,
     "metadata": {},
     "output_type": "execute_result"
    }
   ],
   "source": [
    "payment_method_le = preprocessing.LabelEncoder()\n",
    "payment_method_le.fit(raw_feature_tranformation_df['payment_method'])\n",
    "payment_method_le.classes_"
   ]
  },
  {
   "cell_type": "code",
   "execution_count": 46,
   "metadata": {
    "ExecuteTime": {
     "end_time": "2021-03-25T02:50:41.253029Z",
     "start_time": "2021-03-25T02:50:41.237405Z"
    }
   },
   "outputs": [],
   "source": [
    "raw_feature_tranformation_df['payment_method'] = payment_method_le.transform(raw_mismatch_value_df['payment_method'])"
   ]
  },
  {
   "cell_type": "markdown",
   "metadata": {},
   "source": [
    "### New feature"
   ]
  },
  {
   "cell_type": "markdown",
   "metadata": {},
   "source": [
    "#### total_charges\n",
    "Nilai dari feature tidak sesuai tidak sesuai dengan hasil kalkulasi dari tenure * monthly_charges. Maka akan dibuat dibuat fitur baru dari hasil perkalian tenure dan monthly_charges"
   ]
  },
  {
   "cell_type": "code",
   "execution_count": 47,
   "metadata": {
    "ExecuteTime": {
     "end_time": "2021-03-25T02:50:41.284280Z",
     "start_time": "2021-03-25T02:50:41.253029Z"
    }
   },
   "outputs": [
    {
     "data": {
      "text/html": [
       "<div>\n",
       "<style scoped>\n",
       "    .dataframe tbody tr th:only-of-type {\n",
       "        vertical-align: middle;\n",
       "    }\n",
       "\n",
       "    .dataframe tbody tr th {\n",
       "        vertical-align: top;\n",
       "    }\n",
       "\n",
       "    .dataframe thead th {\n",
       "        text-align: right;\n",
       "    }\n",
       "</style>\n",
       "<table border=\"1\" class=\"dataframe\">\n",
       "  <thead>\n",
       "    <tr style=\"text-align: right;\">\n",
       "      <th></th>\n",
       "      <th>customer_id</th>\n",
       "      <th>gender</th>\n",
       "      <th>senior_citizen</th>\n",
       "      <th>partner</th>\n",
       "      <th>dependents</th>\n",
       "      <th>tenure</th>\n",
       "      <th>phone_service</th>\n",
       "      <th>multiple_lines</th>\n",
       "      <th>internet_service</th>\n",
       "      <th>online_security</th>\n",
       "      <th>online_backup</th>\n",
       "      <th>device_protection</th>\n",
       "      <th>tech_support</th>\n",
       "      <th>streaming_tv</th>\n",
       "      <th>streaming_movies</th>\n",
       "      <th>contract</th>\n",
       "      <th>paperless_billing</th>\n",
       "      <th>payment_method</th>\n",
       "      <th>monthly_charges</th>\n",
       "      <th>churn</th>\n",
       "    </tr>\n",
       "  </thead>\n",
       "  <tbody>\n",
       "    <tr>\n",
       "      <th>0</th>\n",
       "      <td>7590-VHVEG</td>\n",
       "      <td>0</td>\n",
       "      <td>0</td>\n",
       "      <td>0</td>\n",
       "      <td>0</td>\n",
       "      <td>1</td>\n",
       "      <td>0</td>\n",
       "      <td>0</td>\n",
       "      <td>0</td>\n",
       "      <td>0</td>\n",
       "      <td>2</td>\n",
       "      <td>1</td>\n",
       "      <td>1</td>\n",
       "      <td>1</td>\n",
       "      <td>1</td>\n",
       "      <td>0</td>\n",
       "      <td>1</td>\n",
       "      <td>2</td>\n",
       "      <td>29.85</td>\n",
       "      <td>0</td>\n",
       "    </tr>\n",
       "    <tr>\n",
       "      <th>1</th>\n",
       "      <td>5575-GNVDE</td>\n",
       "      <td>1</td>\n",
       "      <td>0</td>\n",
       "      <td>0</td>\n",
       "      <td>0</td>\n",
       "      <td>34</td>\n",
       "      <td>0</td>\n",
       "      <td>1</td>\n",
       "      <td>0</td>\n",
       "      <td>2</td>\n",
       "      <td>0</td>\n",
       "      <td>0</td>\n",
       "      <td>1</td>\n",
       "      <td>1</td>\n",
       "      <td>1</td>\n",
       "      <td>1</td>\n",
       "      <td>0</td>\n",
       "      <td>3</td>\n",
       "      <td>56.95</td>\n",
       "      <td>0</td>\n",
       "    </tr>\n",
       "    <tr>\n",
       "      <th>2</th>\n",
       "      <td>3668-QPYBK</td>\n",
       "      <td>1</td>\n",
       "      <td>0</td>\n",
       "      <td>0</td>\n",
       "      <td>0</td>\n",
       "      <td>2</td>\n",
       "      <td>0</td>\n",
       "      <td>1</td>\n",
       "      <td>0</td>\n",
       "      <td>2</td>\n",
       "      <td>2</td>\n",
       "      <td>1</td>\n",
       "      <td>1</td>\n",
       "      <td>1</td>\n",
       "      <td>1</td>\n",
       "      <td>0</td>\n",
       "      <td>1</td>\n",
       "      <td>3</td>\n",
       "      <td>53.85</td>\n",
       "      <td>1</td>\n",
       "    </tr>\n",
       "    <tr>\n",
       "      <th>3</th>\n",
       "      <td>7795-CFOCW</td>\n",
       "      <td>1</td>\n",
       "      <td>0</td>\n",
       "      <td>0</td>\n",
       "      <td>0</td>\n",
       "      <td>45</td>\n",
       "      <td>0</td>\n",
       "      <td>0</td>\n",
       "      <td>0</td>\n",
       "      <td>2</td>\n",
       "      <td>0</td>\n",
       "      <td>0</td>\n",
       "      <td>0</td>\n",
       "      <td>1</td>\n",
       "      <td>1</td>\n",
       "      <td>1</td>\n",
       "      <td>0</td>\n",
       "      <td>0</td>\n",
       "      <td>42.30</td>\n",
       "      <td>0</td>\n",
       "    </tr>\n",
       "    <tr>\n",
       "      <th>4</th>\n",
       "      <td>9237-HQITU</td>\n",
       "      <td>0</td>\n",
       "      <td>0</td>\n",
       "      <td>0</td>\n",
       "      <td>0</td>\n",
       "      <td>2</td>\n",
       "      <td>0</td>\n",
       "      <td>1</td>\n",
       "      <td>1</td>\n",
       "      <td>0</td>\n",
       "      <td>0</td>\n",
       "      <td>1</td>\n",
       "      <td>1</td>\n",
       "      <td>1</td>\n",
       "      <td>1</td>\n",
       "      <td>0</td>\n",
       "      <td>1</td>\n",
       "      <td>2</td>\n",
       "      <td>70.70</td>\n",
       "      <td>1</td>\n",
       "    </tr>\n",
       "  </tbody>\n",
       "</table>\n",
       "</div>"
      ],
      "text/plain": [
       "  customer_id  gender  senior_citizen  partner  dependents  tenure  \\\n",
       "0  7590-VHVEG       0               0        0           0       1   \n",
       "1  5575-GNVDE       1               0        0           0      34   \n",
       "2  3668-QPYBK       1               0        0           0       2   \n",
       "3  7795-CFOCW       1               0        0           0      45   \n",
       "4  9237-HQITU       0               0        0           0       2   \n",
       "\n",
       "   phone_service  multiple_lines  internet_service  online_security  \\\n",
       "0              0               0                 0                0   \n",
       "1              0               1                 0                2   \n",
       "2              0               1                 0                2   \n",
       "3              0               0                 0                2   \n",
       "4              0               1                 1                0   \n",
       "\n",
       "   online_backup  device_protection  tech_support  streaming_tv  \\\n",
       "0              2                  1             1             1   \n",
       "1              0                  0             1             1   \n",
       "2              2                  1             1             1   \n",
       "3              0                  0             0             1   \n",
       "4              0                  1             1             1   \n",
       "\n",
       "   streaming_movies  contract  paperless_billing  payment_method  \\\n",
       "0                 1         0                  1               2   \n",
       "1                 1         1                  0               3   \n",
       "2                 1         0                  1               3   \n",
       "3                 1         1                  0               0   \n",
       "4                 1         0                  1               2   \n",
       "\n",
       "   monthly_charges  churn  \n",
       "0            29.85      0  \n",
       "1            56.95      0  \n",
       "2            53.85      1  \n",
       "3            42.30      0  \n",
       "4            70.70      1  "
      ]
     },
     "execution_count": 47,
     "metadata": {},
     "output_type": "execute_result"
    }
   ],
   "source": [
    "raw_feature_tranformation_df.drop(['total_charges'], axis=1).head()"
   ]
  },
  {
   "cell_type": "code",
   "execution_count": 48,
   "metadata": {
    "ExecuteTime": {
     "end_time": "2021-03-25T02:50:41.315529Z",
     "start_time": "2021-03-25T02:50:41.284280Z"
    }
   },
   "outputs": [],
   "source": [
    "raw_feature_tranformation_df['total_charges'] = raw_feature_tranformation_df['tenure'] * raw_feature_tranformation_df['monthly_charges']"
   ]
  },
  {
   "cell_type": "code",
   "execution_count": 49,
   "metadata": {
    "ExecuteTime": {
     "end_time": "2021-03-25T02:50:41.337685Z",
     "start_time": "2021-03-25T02:50:41.315529Z"
    }
   },
   "outputs": [
    {
     "data": {
      "text/html": [
       "<div>\n",
       "<style scoped>\n",
       "    .dataframe tbody tr th:only-of-type {\n",
       "        vertical-align: middle;\n",
       "    }\n",
       "\n",
       "    .dataframe tbody tr th {\n",
       "        vertical-align: top;\n",
       "    }\n",
       "\n",
       "    .dataframe thead th {\n",
       "        text-align: right;\n",
       "    }\n",
       "</style>\n",
       "<table border=\"1\" class=\"dataframe\">\n",
       "  <thead>\n",
       "    <tr style=\"text-align: right;\">\n",
       "      <th></th>\n",
       "      <th>customer_id</th>\n",
       "      <th>gender</th>\n",
       "      <th>senior_citizen</th>\n",
       "      <th>partner</th>\n",
       "      <th>dependents</th>\n",
       "      <th>tenure</th>\n",
       "      <th>phone_service</th>\n",
       "      <th>multiple_lines</th>\n",
       "      <th>internet_service</th>\n",
       "      <th>online_security</th>\n",
       "      <th>online_backup</th>\n",
       "      <th>device_protection</th>\n",
       "      <th>tech_support</th>\n",
       "      <th>streaming_tv</th>\n",
       "      <th>streaming_movies</th>\n",
       "      <th>contract</th>\n",
       "      <th>paperless_billing</th>\n",
       "      <th>payment_method</th>\n",
       "      <th>monthly_charges</th>\n",
       "      <th>total_charges</th>\n",
       "      <th>churn</th>\n",
       "    </tr>\n",
       "  </thead>\n",
       "  <tbody>\n",
       "    <tr>\n",
       "      <th>0</th>\n",
       "      <td>7590-VHVEG</td>\n",
       "      <td>0</td>\n",
       "      <td>0</td>\n",
       "      <td>0</td>\n",
       "      <td>0</td>\n",
       "      <td>1</td>\n",
       "      <td>0</td>\n",
       "      <td>0</td>\n",
       "      <td>0</td>\n",
       "      <td>0</td>\n",
       "      <td>2</td>\n",
       "      <td>1</td>\n",
       "      <td>1</td>\n",
       "      <td>1</td>\n",
       "      <td>1</td>\n",
       "      <td>0</td>\n",
       "      <td>1</td>\n",
       "      <td>2</td>\n",
       "      <td>29.85</td>\n",
       "      <td>29.85</td>\n",
       "      <td>0</td>\n",
       "    </tr>\n",
       "    <tr>\n",
       "      <th>1</th>\n",
       "      <td>5575-GNVDE</td>\n",
       "      <td>1</td>\n",
       "      <td>0</td>\n",
       "      <td>0</td>\n",
       "      <td>0</td>\n",
       "      <td>34</td>\n",
       "      <td>0</td>\n",
       "      <td>1</td>\n",
       "      <td>0</td>\n",
       "      <td>2</td>\n",
       "      <td>0</td>\n",
       "      <td>0</td>\n",
       "      <td>1</td>\n",
       "      <td>1</td>\n",
       "      <td>1</td>\n",
       "      <td>1</td>\n",
       "      <td>0</td>\n",
       "      <td>3</td>\n",
       "      <td>56.95</td>\n",
       "      <td>1936.30</td>\n",
       "      <td>0</td>\n",
       "    </tr>\n",
       "    <tr>\n",
       "      <th>2</th>\n",
       "      <td>3668-QPYBK</td>\n",
       "      <td>1</td>\n",
       "      <td>0</td>\n",
       "      <td>0</td>\n",
       "      <td>0</td>\n",
       "      <td>2</td>\n",
       "      <td>0</td>\n",
       "      <td>1</td>\n",
       "      <td>0</td>\n",
       "      <td>2</td>\n",
       "      <td>2</td>\n",
       "      <td>1</td>\n",
       "      <td>1</td>\n",
       "      <td>1</td>\n",
       "      <td>1</td>\n",
       "      <td>0</td>\n",
       "      <td>1</td>\n",
       "      <td>3</td>\n",
       "      <td>53.85</td>\n",
       "      <td>107.70</td>\n",
       "      <td>1</td>\n",
       "    </tr>\n",
       "    <tr>\n",
       "      <th>3</th>\n",
       "      <td>7795-CFOCW</td>\n",
       "      <td>1</td>\n",
       "      <td>0</td>\n",
       "      <td>0</td>\n",
       "      <td>0</td>\n",
       "      <td>45</td>\n",
       "      <td>0</td>\n",
       "      <td>0</td>\n",
       "      <td>0</td>\n",
       "      <td>2</td>\n",
       "      <td>0</td>\n",
       "      <td>0</td>\n",
       "      <td>0</td>\n",
       "      <td>1</td>\n",
       "      <td>1</td>\n",
       "      <td>1</td>\n",
       "      <td>0</td>\n",
       "      <td>0</td>\n",
       "      <td>42.30</td>\n",
       "      <td>1903.50</td>\n",
       "      <td>0</td>\n",
       "    </tr>\n",
       "    <tr>\n",
       "      <th>4</th>\n",
       "      <td>9237-HQITU</td>\n",
       "      <td>0</td>\n",
       "      <td>0</td>\n",
       "      <td>0</td>\n",
       "      <td>0</td>\n",
       "      <td>2</td>\n",
       "      <td>0</td>\n",
       "      <td>1</td>\n",
       "      <td>1</td>\n",
       "      <td>0</td>\n",
       "      <td>0</td>\n",
       "      <td>1</td>\n",
       "      <td>1</td>\n",
       "      <td>1</td>\n",
       "      <td>1</td>\n",
       "      <td>0</td>\n",
       "      <td>1</td>\n",
       "      <td>2</td>\n",
       "      <td>70.70</td>\n",
       "      <td>141.40</td>\n",
       "      <td>1</td>\n",
       "    </tr>\n",
       "  </tbody>\n",
       "</table>\n",
       "</div>"
      ],
      "text/plain": [
       "  customer_id  gender  senior_citizen  partner  dependents  tenure  \\\n",
       "0  7590-VHVEG       0               0        0           0       1   \n",
       "1  5575-GNVDE       1               0        0           0      34   \n",
       "2  3668-QPYBK       1               0        0           0       2   \n",
       "3  7795-CFOCW       1               0        0           0      45   \n",
       "4  9237-HQITU       0               0        0           0       2   \n",
       "\n",
       "   phone_service  multiple_lines  internet_service  online_security  \\\n",
       "0              0               0                 0                0   \n",
       "1              0               1                 0                2   \n",
       "2              0               1                 0                2   \n",
       "3              0               0                 0                2   \n",
       "4              0               1                 1                0   \n",
       "\n",
       "   online_backup  device_protection  tech_support  streaming_tv  \\\n",
       "0              2                  1             1             1   \n",
       "1              0                  0             1             1   \n",
       "2              2                  1             1             1   \n",
       "3              0                  0             0             1   \n",
       "4              0                  1             1             1   \n",
       "\n",
       "   streaming_movies  contract  paperless_billing  payment_method  \\\n",
       "0                 1         0                  1               2   \n",
       "1                 1         1                  0               3   \n",
       "2                 1         0                  1               3   \n",
       "3                 1         1                  0               0   \n",
       "4                 1         0                  1               2   \n",
       "\n",
       "   monthly_charges  total_charges  churn  \n",
       "0            29.85          29.85      0  \n",
       "1            56.95        1936.30      0  \n",
       "2            53.85         107.70      1  \n",
       "3            42.30        1903.50      0  \n",
       "4            70.70         141.40      1  "
      ]
     },
     "execution_count": 49,
     "metadata": {},
     "output_type": "execute_result"
    }
   ],
   "source": [
    "raw_feature_tranformation_df[['customer_id', 'gender', 'senior_citizen', 'partner', 'dependents',\n",
    "                              'tenure', 'phone_service', 'multiple_lines', 'internet_service',\n",
    "                              'online_security', 'online_backup', 'device_protection', 'tech_support',\n",
    "                              'streaming_tv', 'streaming_movies', 'contract', 'paperless_billing',\n",
    "                              'payment_method', 'monthly_charges', 'total_charges', 'churn',\n",
    "                             ]].head()"
   ]
  },
  {
   "cell_type": "code",
   "execution_count": 50,
   "metadata": {
    "ExecuteTime": {
     "end_time": "2021-03-25T02:50:41.353308Z",
     "start_time": "2021-03-25T02:50:41.337685Z"
    }
   },
   "outputs": [
    {
     "data": {
      "text/plain": [
       "0"
      ]
     },
     "execution_count": 50,
     "metadata": {},
     "output_type": "execute_result"
    }
   ],
   "source": [
    "raw_feature_tranformation_df['customer_id'].duplicated().sum()"
   ]
  },
  {
   "cell_type": "markdown",
   "metadata": {},
   "source": [
    "## Feature Extraction"
   ]
  },
  {
   "cell_type": "code",
   "execution_count": 51,
   "metadata": {
    "ExecuteTime": {
     "end_time": "2021-03-25T02:50:41.368933Z",
     "start_time": "2021-03-25T02:50:41.353308Z"
    }
   },
   "outputs": [],
   "source": [
    "raw_feature_extraction_df = raw_feature_tranformation_df.drop(['customer_id', 'churn'], axis=1)"
   ]
  },
  {
   "cell_type": "markdown",
   "metadata": {},
   "source": [
    "### Principal Component Analysis"
   ]
  },
  {
   "cell_type": "code",
   "execution_count": 52,
   "metadata": {
    "ExecuteTime": {
     "end_time": "2021-03-25T02:50:41.453583Z",
     "start_time": "2021-03-25T02:50:41.368933Z"
    }
   },
   "outputs": [
    {
     "data": {
      "text/plain": [
       "PCA(n_components=19)"
      ]
     },
     "execution_count": 52,
     "metadata": {},
     "output_type": "execute_result"
    }
   ],
   "source": [
    "pca = PCA(n_components=19)\n",
    "pca.fit(raw_feature_extraction_df)"
   ]
  },
  {
   "cell_type": "code",
   "execution_count": 53,
   "metadata": {
    "ExecuteTime": {
     "end_time": "2021-03-25T02:50:41.469210Z",
     "start_time": "2021-03-25T02:50:41.453583Z"
    }
   },
   "outputs": [
    {
     "name": "stdout",
     "output_type": "stream",
     "text": [
      "1 component : 99.9860%\n",
      "2 component : 0.0122%\n",
      "3 component : 0.0017%\n",
      "4 component : 0.0000%\n",
      "5 component : 0.0000%\n",
      "6 component : 0.0000%\n",
      "7 component : 0.0000%\n",
      "8 component : 0.0000%\n",
      "9 component : 0.0000%\n",
      "10 component : 0.0000%\n",
      "11 component : 0.0000%\n",
      "12 component : 0.0000%\n",
      "13 component : 0.0000%\n",
      "14 component : 0.0000%\n",
      "15 component : 0.0000%\n",
      "16 component : 0.0000%\n",
      "17 component : 0.0000%\n",
      "18 component : 0.0000%\n",
      "19 component : 0.0000%\n"
     ]
    }
   ],
   "source": [
    "for component, explained_variance_ratio in enumerate(pca.explained_variance_ratio_):\n",
    "    print(f'{component + 1} component : {(explained_variance_ratio * 100):.4f}%')"
   ]
  },
  {
   "cell_type": "markdown",
   "metadata": {},
   "source": [
    "Dengan 1 component, explained variance yang dihasilkan sebesar 99.986%. Sehingga berhasil mereduksi dimensi sebanyak 18 dimensi, yang dimana dimensi awal sebanyak 19 dimensi."
   ]
  },
  {
   "cell_type": "markdown",
   "metadata": {
    "ExecuteTime": {
     "end_time": "2021-03-22T14:53:54.820525Z",
     "start_time": "2021-03-22T14:53:54.804922Z"
    }
   },
   "source": [
    "### Explained Variance Ratio Plot"
   ]
  },
  {
   "cell_type": "code",
   "execution_count": 54,
   "metadata": {
    "ExecuteTime": {
     "end_time": "2021-03-25T02:50:41.754430Z",
     "start_time": "2021-03-25T02:50:41.469210Z"
    }
   },
   "outputs": [
    {
     "data": {
      "image/png": "[encoded data removed]",
      "text/plain": [
       "<Figure size 432x288 with 1 Axes>"
      ]
     },
     "metadata": {
      "needs_background": "light"
     },
     "output_type": "display_data"
    }
   ],
   "source": [
    "pca = PCA().fit(raw_feature_extraction_df)\n",
    "\n",
    "plt.plot(np.cumsum(pca.explained_variance_ratio_))\n",
    "\n",
    "plt.xlabel('Number of components')\n",
    "plt.ylabel('Cumulative explained variance');"
   ]
  },
  {
   "cell_type": "markdown",
   "metadata": {
    "ExecuteTime": {
     "end_time": "2021-03-22T15:54:21.929060Z",
     "start_time": "2021-03-22T15:54:21.913420Z"
    }
   },
   "source": [
    "### Show Component in Table"
   ]
  },
  {
   "cell_type": "code",
   "execution_count": 55,
   "metadata": {
    "ExecuteTime": {
     "end_time": "2021-03-25T02:50:41.801301Z",
     "start_time": "2021-03-25T02:50:41.754430Z"
    },
    "scrolled": true
   },
   "outputs": [
    {
     "data": {
      "text/html": [
       "<div>\n",
       "<style scoped>\n",
       "    .dataframe tbody tr th:only-of-type {\n",
       "        vertical-align: middle;\n",
       "    }\n",
       "\n",
       "    .dataframe tbody tr th {\n",
       "        vertical-align: top;\n",
       "    }\n",
       "\n",
       "    .dataframe thead th {\n",
       "        text-align: right;\n",
       "    }\n",
       "</style>\n",
       "<table border=\"1\" class=\"dataframe\">\n",
       "  <thead>\n",
       "    <tr style=\"text-align: right;\">\n",
       "      <th></th>\n",
       "      <th>PC1</th>\n",
       "      <th>PC2</th>\n",
       "      <th>PC3</th>\n",
       "      <th>PC4</th>\n",
       "      <th>PC5</th>\n",
       "      <th>PC6</th>\n",
       "      <th>PC7</th>\n",
       "      <th>PC8</th>\n",
       "      <th>PC9</th>\n",
       "      <th>PC10</th>\n",
       "      <th>PC11</th>\n",
       "      <th>PC12</th>\n",
       "      <th>PC13</th>\n",
       "      <th>PC14</th>\n",
       "      <th>PC15</th>\n",
       "      <th>PC16</th>\n",
       "      <th>PC17</th>\n",
       "      <th>PC18</th>\n",
       "      <th>PC19</th>\n",
       "    </tr>\n",
       "  </thead>\n",
       "  <tbody>\n",
       "    <tr>\n",
       "      <th>0</th>\n",
       "      <td>-2250.140045</td>\n",
       "      <td>-8.858334</td>\n",
       "      <td>-16.866177</td>\n",
       "      <td>0.537938</td>\n",
       "      <td>0.863554</td>\n",
       "      <td>0.285455</td>\n",
       "      <td>2.012932</td>\n",
       "      <td>0.231845</td>\n",
       "      <td>-0.575978</td>\n",
       "      <td>-0.659881</td>\n",
       "      <td>-0.069719</td>\n",
       "      <td>-0.326789</td>\n",
       "      <td>-0.046973</td>\n",
       "      <td>0.067055</td>\n",
       "      <td>-0.258124</td>\n",
       "      <td>-0.061853</td>\n",
       "      <td>6.197170e-16</td>\n",
       "      <td>-2.189512e-16</td>\n",
       "      <td>1.793760e-17</td>\n",
       "    </tr>\n",
       "    <tr>\n",
       "      <th>1</th>\n",
       "      <td>-343.307955</td>\n",
       "      <td>-6.421186</td>\n",
       "      <td>2.050109</td>\n",
       "      <td>-1.210040</td>\n",
       "      <td>1.000175</td>\n",
       "      <td>1.622959</td>\n",
       "      <td>-0.808348</td>\n",
       "      <td>0.177327</td>\n",
       "      <td>0.534054</td>\n",
       "      <td>0.606820</td>\n",
       "      <td>0.105766</td>\n",
       "      <td>0.098789</td>\n",
       "      <td>0.762816</td>\n",
       "      <td>0.361595</td>\n",
       "      <td>-0.218744</td>\n",
       "      <td>0.022169</td>\n",
       "      <td>-4.577052e-16</td>\n",
       "      <td>-3.956107e-17</td>\n",
       "      <td>-1.393597e-17</td>\n",
       "    </tr>\n",
       "    <tr>\n",
       "      <th>2</th>\n",
       "      <td>-2172.079419</td>\n",
       "      <td>11.903544</td>\n",
       "      <td>-6.320750</td>\n",
       "      <td>-0.750781</td>\n",
       "      <td>-0.114083</td>\n",
       "      <td>2.107724</td>\n",
       "      <td>1.208150</td>\n",
       "      <td>-0.365683</td>\n",
       "      <td>0.512765</td>\n",
       "      <td>-0.080937</td>\n",
       "      <td>-0.611786</td>\n",
       "      <td>-0.021365</td>\n",
       "      <td>0.010818</td>\n",
       "      <td>0.263277</td>\n",
       "      <td>-0.169433</td>\n",
       "      <td>-0.046724</td>\n",
       "      <td>5.885327e-14</td>\n",
       "      <td>-1.918190e-15</td>\n",
       "      <td>-4.194464e-16</td>\n",
       "    </tr>\n",
       "    <tr>\n",
       "      <th>3</th>\n",
       "      <td>-376.133063</td>\n",
       "      <td>-24.310237</td>\n",
       "      <td>5.894243</td>\n",
       "      <td>1.654425</td>\n",
       "      <td>0.794520</td>\n",
       "      <td>1.311847</td>\n",
       "      <td>-0.810647</td>\n",
       "      <td>0.070013</td>\n",
       "      <td>0.514845</td>\n",
       "      <td>-0.080275</td>\n",
       "      <td>0.615834</td>\n",
       "      <td>0.118805</td>\n",
       "      <td>0.488248</td>\n",
       "      <td>-0.602599</td>\n",
       "      <td>0.071657</td>\n",
       "      <td>0.055378</td>\n",
       "      <td>8.627036e-15</td>\n",
       "      <td>-3.170283e-15</td>\n",
       "      <td>2.315724e-15</td>\n",
       "    </tr>\n",
       "    <tr>\n",
       "      <th>4</th>\n",
       "      <td>-2138.236555</td>\n",
       "      <td>26.903713</td>\n",
       "      <td>0.763079</td>\n",
       "      <td>0.029638</td>\n",
       "      <td>0.496248</td>\n",
       "      <td>-0.233726</td>\n",
       "      <td>-0.172891</td>\n",
       "      <td>0.012398</td>\n",
       "      <td>-0.493317</td>\n",
       "      <td>0.447699</td>\n",
       "      <td>-0.573066</td>\n",
       "      <td>-0.398175</td>\n",
       "      <td>0.050407</td>\n",
       "      <td>-0.100429</td>\n",
       "      <td>-0.230195</td>\n",
       "      <td>-0.069092</td>\n",
       "      <td>-1.214342e-16</td>\n",
       "      <td>-1.627578e-16</td>\n",
       "      <td>-4.286859e-18</td>\n",
       "    </tr>\n",
       "  </tbody>\n",
       "</table>\n",
       "</div>"
      ],
      "text/plain": [
       "           PC1        PC2        PC3       PC4       PC5       PC6       PC7  \\\n",
       "0 -2250.140045  -8.858334 -16.866177  0.537938  0.863554  0.285455  2.012932   \n",
       "1  -343.307955  -6.421186   2.050109 -1.210040  1.000175  1.622959 -0.808348   \n",
       "2 -2172.079419  11.903544  -6.320750 -0.750781 -0.114083  2.107724  1.208150   \n",
       "3  -376.133063 -24.310237   5.894243  1.654425  0.794520  1.311847 -0.810647   \n",
       "4 -2138.236555  26.903713   0.763079  0.029638  0.496248 -0.233726 -0.172891   \n",
       "\n",
       "        PC8       PC9      PC10      PC11      PC12      PC13      PC14  \\\n",
       "0  0.231845 -0.575978 -0.659881 -0.069719 -0.326789 -0.046973  0.067055   \n",
       "1  0.177327  0.534054  0.606820  0.105766  0.098789  0.762816  0.361595   \n",
       "2 -0.365683  0.512765 -0.080937 -0.611786 -0.021365  0.010818  0.263277   \n",
       "3  0.070013  0.514845 -0.080275  0.615834  0.118805  0.488248 -0.602599   \n",
       "4  0.012398 -0.493317  0.447699 -0.573066 -0.398175  0.050407 -0.100429   \n",
       "\n",
       "       PC15      PC16          PC17          PC18          PC19  \n",
       "0 -0.258124 -0.061853  6.197170e-16 -2.189512e-16  1.793760e-17  \n",
       "1 -0.218744  0.022169 -4.577052e-16 -3.956107e-17 -1.393597e-17  \n",
       "2 -0.169433 -0.046724  5.885327e-14 -1.918190e-15 -4.194464e-16  \n",
       "3  0.071657  0.055378  8.627036e-15 -3.170283e-15  2.315724e-15  \n",
       "4 -0.230195 -0.069092 -1.214342e-16 -1.627578e-16 -4.286859e-18  "
      ]
     },
     "execution_count": 55,
     "metadata": {},
     "output_type": "execute_result"
    }
   ],
   "source": [
    "pca = PCA()\n",
    "\n",
    "X_pca = pca.fit_transform(raw_feature_extraction_df)\n",
    "\n",
    "component_names = [f\"PC{i+1}\" for i in range(X_pca.shape[1])]\n",
    "X_pca = pd.DataFrame(X_pca, columns=component_names)\n",
    "\n",
    "X_pca.head()"
   ]
  },
  {
   "cell_type": "markdown",
   "metadata": {},
   "source": [
    "### Factor Loading"
   ]
  },
  {
   "cell_type": "code",
   "execution_count": 56,
   "metadata": {
    "ExecuteTime": {
     "end_time": "2021-03-25T02:50:41.854709Z",
     "start_time": "2021-03-25T02:50:41.801301Z"
    },
    "scrolled": false
   },
   "outputs": [
    {
     "data": {
      "text/html": [
       "<div>\n",
       "<style scoped>\n",
       "    .dataframe tbody tr th:only-of-type {\n",
       "        vertical-align: middle;\n",
       "    }\n",
       "\n",
       "    .dataframe tbody tr th {\n",
       "        vertical-align: top;\n",
       "    }\n",
       "\n",
       "    .dataframe thead th {\n",
       "        text-align: right;\n",
       "    }\n",
       "</style>\n",
       "<table border=\"1\" class=\"dataframe\">\n",
       "  <thead>\n",
       "    <tr style=\"text-align: right;\">\n",
       "      <th></th>\n",
       "      <th>PC1</th>\n",
       "      <th>PC2</th>\n",
       "      <th>PC3</th>\n",
       "      <th>PC4</th>\n",
       "      <th>PC5</th>\n",
       "      <th>PC6</th>\n",
       "      <th>PC7</th>\n",
       "      <th>PC8</th>\n",
       "      <th>PC9</th>\n",
       "      <th>PC10</th>\n",
       "      <th>PC11</th>\n",
       "      <th>PC12</th>\n",
       "      <th>PC13</th>\n",
       "      <th>PC14</th>\n",
       "      <th>PC15</th>\n",
       "      <th>PC16</th>\n",
       "      <th>PC17</th>\n",
       "      <th>PC18</th>\n",
       "      <th>PC19</th>\n",
       "    </tr>\n",
       "  </thead>\n",
       "  <tbody>\n",
       "    <tr>\n",
       "      <th>gender</th>\n",
       "      <td>-6.753369e-09</td>\n",
       "      <td>-3.572193e-04</td>\n",
       "      <td>-4.761319e-04</td>\n",
       "      <td>-1.077697e-02</td>\n",
       "      <td>2.182351e-02</td>\n",
       "      <td>-1.397326e-02</td>\n",
       "      <td>-1.531263e-03</td>\n",
       "      <td>1.420921e-02</td>\n",
       "      <td>9.967306e-01</td>\n",
       "      <td>-7.024061e-02</td>\n",
       "      <td>-2.106550e-02</td>\n",
       "      <td>-5.973240e-03</td>\n",
       "      <td>-7.180509e-03</td>\n",
       "      <td>-7.017264e-03</td>\n",
       "      <td>3.711184e-03</td>\n",
       "      <td>-2.854268e-03</td>\n",
       "      <td>-1.650787e-16</td>\n",
       "      <td>-8.188793e-16</td>\n",
       "      <td>-1.822432e-16</td>\n",
       "    </tr>\n",
       "    <tr>\n",
       "      <th>senior_citizen</th>\n",
       "      <td>1.680736e-05</td>\n",
       "      <td>2.866770e-03</td>\n",
       "      <td>2.244735e-03</td>\n",
       "      <td>4.735772e-03</td>\n",
       "      <td>4.111486e-02</td>\n",
       "      <td>-6.172048e-02</td>\n",
       "      <td>2.798029e-02</td>\n",
       "      <td>-1.222496e-01</td>\n",
       "      <td>-6.721324e-03</td>\n",
       "      <td>-9.938473e-02</td>\n",
       "      <td>2.527944e-02</td>\n",
       "      <td>-1.569901e-01</td>\n",
       "      <td>1.600722e-01</td>\n",
       "      <td>3.028032e-01</td>\n",
       "      <td>8.829723e-01</td>\n",
       "      <td>2.158150e-01</td>\n",
       "      <td>2.962234e-15</td>\n",
       "      <td>6.700568e-15</td>\n",
       "      <td>1.507318e-15</td>\n",
       "    </tr>\n",
       "    <tr>\n",
       "      <th>partner</th>\n",
       "      <td>-0.000000e+00</td>\n",
       "      <td>-8.049117e-16</td>\n",
       "      <td>-3.920475e-16</td>\n",
       "      <td>-8.109832e-16</td>\n",
       "      <td>-8.586881e-16</td>\n",
       "      <td>-1.805847e-15</td>\n",
       "      <td>-6.359388e-16</td>\n",
       "      <td>-3.359184e-15</td>\n",
       "      <td>-7.619502e-16</td>\n",
       "      <td>-4.950467e-16</td>\n",
       "      <td>2.866631e-15</td>\n",
       "      <td>-4.804046e-15</td>\n",
       "      <td>6.377711e-15</td>\n",
       "      <td>5.397050e-15</td>\n",
       "      <td>3.864368e-15</td>\n",
       "      <td>-5.145624e-16</td>\n",
       "      <td>-1.784018e-01</td>\n",
       "      <td>-9.607595e-01</td>\n",
       "      <td>-2.124004e-01</td>\n",
       "    </tr>\n",
       "    <tr>\n",
       "      <th>dependents</th>\n",
       "      <td>2.710505e-20</td>\n",
       "      <td>2.775558e-17</td>\n",
       "      <td>-3.330669e-16</td>\n",
       "      <td>-1.110223e-16</td>\n",
       "      <td>-0.000000e+00</td>\n",
       "      <td>1.665335e-16</td>\n",
       "      <td>4.822531e-16</td>\n",
       "      <td>2.359224e-16</td>\n",
       "      <td>-3.035766e-17</td>\n",
       "      <td>-1.526557e-16</td>\n",
       "      <td>9.020562e-17</td>\n",
       "      <td>2.168404e-16</td>\n",
       "      <td>3.712308e-16</td>\n",
       "      <td>3.400058e-16</td>\n",
       "      <td>1.436351e-15</td>\n",
       "      <td>1.856154e-16</td>\n",
       "      <td>-9.838559e-01</td>\n",
       "      <td>1.710717e-01</td>\n",
       "      <td>5.255588e-02</td>\n",
       "    </tr>\n",
       "    <tr>\n",
       "      <th>tenure</th>\n",
       "      <td>8.962857e-03</td>\n",
       "      <td>-4.419918e-01</td>\n",
       "      <td>8.963800e-01</td>\n",
       "      <td>-2.088114e-02</td>\n",
       "      <td>1.154759e-02</td>\n",
       "      <td>-8.182898e-04</td>\n",
       "      <td>6.065257e-03</td>\n",
       "      <td>-1.745246e-02</td>\n",
       "      <td>4.188367e-04</td>\n",
       "      <td>4.318539e-03</td>\n",
       "      <td>1.835837e-03</td>\n",
       "      <td>1.091208e-02</td>\n",
       "      <td>-3.575379e-04</td>\n",
       "      <td>-3.582540e-03</td>\n",
       "      <td>-2.195591e-04</td>\n",
       "      <td>-1.865566e-04</td>\n",
       "      <td>9.414238e-17</td>\n",
       "      <td>-5.557567e-18</td>\n",
       "      <td>6.348897e-18</td>\n",
       "    </tr>\n",
       "    <tr>\n",
       "      <th>phone_service</th>\n",
       "      <td>-0.000000e+00</td>\n",
       "      <td>0.000000e+00</td>\n",
       "      <td>0.000000e+00</td>\n",
       "      <td>-1.110223e-16</td>\n",
       "      <td>8.326673e-17</td>\n",
       "      <td>1.665335e-16</td>\n",
       "      <td>2.359224e-16</td>\n",
       "      <td>2.498002e-16</td>\n",
       "      <td>-6.938894e-18</td>\n",
       "      <td>-0.000000e+00</td>\n",
       "      <td>1.110223e-16</td>\n",
       "      <td>1.804112e-16</td>\n",
       "      <td>-2.775558e-17</td>\n",
       "      <td>-3.885781e-16</td>\n",
       "      <td>5.551115e-17</td>\n",
       "      <td>-2.220446e-16</td>\n",
       "      <td>1.415787e-02</td>\n",
       "      <td>-2.183474e-01</td>\n",
       "      <td>9.757684e-01</td>\n",
       "    </tr>\n",
       "    <tr>\n",
       "      <th>multiple_lines</th>\n",
       "      <td>-8.741826e-05</td>\n",
       "      <td>-1.764310e-03</td>\n",
       "      <td>-5.696035e-03</td>\n",
       "      <td>-2.700293e-02</td>\n",
       "      <td>-1.024555e-01</td>\n",
       "      <td>3.185854e-03</td>\n",
       "      <td>-5.284583e-02</td>\n",
       "      <td>-8.091735e-03</td>\n",
       "      <td>4.407564e-02</td>\n",
       "      <td>7.094690e-01</td>\n",
       "      <td>-5.460185e-01</td>\n",
       "      <td>3.547980e-01</td>\n",
       "      <td>2.397581e-02</td>\n",
       "      <td>2.218970e-01</td>\n",
       "      <td>8.132809e-02</td>\n",
       "      <td>1.164995e-02</td>\n",
       "      <td>-4.606945e-16</td>\n",
       "      <td>-1.759853e-15</td>\n",
       "      <td>-4.213638e-16</td>\n",
       "    </tr>\n",
       "    <tr>\n",
       "      <th>internet_service</th>\n",
       "      <td>-5.735368e-05</td>\n",
       "      <td>-8.103677e-03</td>\n",
       "      <td>-2.082550e-03</td>\n",
       "      <td>-1.279681e-01</td>\n",
       "      <td>-4.982366e-01</td>\n",
       "      <td>-4.536032e-01</td>\n",
       "      <td>-2.238822e-01</td>\n",
       "      <td>-3.940878e-01</td>\n",
       "      <td>1.600493e-02</td>\n",
       "      <td>1.749302e-01</td>\n",
       "      <td>-4.596583e-02</td>\n",
       "      <td>-5.190682e-01</td>\n",
       "      <td>-3.039485e-03</td>\n",
       "      <td>-1.225169e-01</td>\n",
       "      <td>-7.707862e-02</td>\n",
       "      <td>-2.771266e-02</td>\n",
       "      <td>6.360891e-16</td>\n",
       "      <td>3.946820e-15</td>\n",
       "      <td>8.271940e-16</td>\n",
       "    </tr>\n",
       "    <tr>\n",
       "      <th>online_security</th>\n",
       "      <td>9.611093e-05</td>\n",
       "      <td>-9.842196e-03</td>\n",
       "      <td>-3.563893e-03</td>\n",
       "      <td>-1.776767e-03</td>\n",
       "      <td>-3.094382e-01</td>\n",
       "      <td>8.118263e-01</td>\n",
       "      <td>-3.321640e-01</td>\n",
       "      <td>-3.496702e-01</td>\n",
       "      <td>1.654622e-02</td>\n",
       "      <td>-8.400109e-02</td>\n",
       "      <td>-1.312834e-02</td>\n",
       "      <td>-4.266651e-02</td>\n",
       "      <td>-3.636970e-03</td>\n",
       "      <td>5.563145e-02</td>\n",
       "      <td>-3.005416e-03</td>\n",
       "      <td>5.594579e-03</td>\n",
       "      <td>3.036142e-17</td>\n",
       "      <td>6.534357e-16</td>\n",
       "      <td>1.956589e-16</td>\n",
       "    </tr>\n",
       "    <tr>\n",
       "      <th>online_backup</th>\n",
       "      <td>1.456334e-04</td>\n",
       "      <td>-5.652883e-03</td>\n",
       "      <td>-3.217151e-03</td>\n",
       "      <td>-4.194347e-02</td>\n",
       "      <td>-4.929242e-01</td>\n",
       "      <td>1.491814e-01</td>\n",
       "      <td>8.551184e-01</td>\n",
       "      <td>-2.072939e-02</td>\n",
       "      <td>1.349512e-02</td>\n",
       "      <td>-1.078881e-02</td>\n",
       "      <td>4.620174e-03</td>\n",
       "      <td>-8.816680e-03</td>\n",
       "      <td>-3.696593e-03</td>\n",
       "      <td>2.832393e-02</td>\n",
       "      <td>-6.322981e-03</td>\n",
       "      <td>-7.639895e-03</td>\n",
       "      <td>3.676060e-16</td>\n",
       "      <td>-1.546086e-16</td>\n",
       "      <td>-4.472162e-17</td>\n",
       "    </tr>\n",
       "    <tr>\n",
       "      <th>device_protection</th>\n",
       "      <td>-4.108684e-05</td>\n",
       "      <td>7.644186e-03</td>\n",
       "      <td>2.545624e-03</td>\n",
       "      <td>4.485835e-02</td>\n",
       "      <td>2.571430e-01</td>\n",
       "      <td>9.881662e-02</td>\n",
       "      <td>1.251313e-01</td>\n",
       "      <td>-8.314635e-02</td>\n",
       "      <td>-6.484643e-03</td>\n",
       "      <td>9.947806e-02</td>\n",
       "      <td>-1.378227e-01</td>\n",
       "      <td>-3.078385e-01</td>\n",
       "      <td>-8.744989e-01</td>\n",
       "      <td>4.970069e-02</td>\n",
       "      <td>8.798232e-02</td>\n",
       "      <td>-2.841451e-02</td>\n",
       "      <td>-9.089003e-16</td>\n",
       "      <td>-3.944386e-15</td>\n",
       "      <td>-8.761714e-16</td>\n",
       "    </tr>\n",
       "    <tr>\n",
       "      <th>tech_support</th>\n",
       "      <td>-1.819238e-05</td>\n",
       "      <td>9.774481e-03</td>\n",
       "      <td>4.260588e-03</td>\n",
       "      <td>3.369098e-02</td>\n",
       "      <td>2.418918e-01</td>\n",
       "      <td>-1.514328e-02</td>\n",
       "      <td>1.073913e-01</td>\n",
       "      <td>-1.928911e-01</td>\n",
       "      <td>5.002706e-03</td>\n",
       "      <td>-5.746075e-03</td>\n",
       "      <td>4.082370e-02</td>\n",
       "      <td>-2.612280e-01</td>\n",
       "      <td>1.971454e-01</td>\n",
       "      <td>7.935514e-01</td>\n",
       "      <td>-3.885527e-01</td>\n",
       "      <td>-4.174210e-02</td>\n",
       "      <td>8.480304e-16</td>\n",
       "      <td>5.492716e-15</td>\n",
       "      <td>1.387324e-15</td>\n",
       "    </tr>\n",
       "    <tr>\n",
       "      <th>streaming_tv</th>\n",
       "      <td>-4.233200e-05</td>\n",
       "      <td>3.758905e-03</td>\n",
       "      <td>5.233572e-04</td>\n",
       "      <td>6.961632e-02</td>\n",
       "      <td>2.938751e-01</td>\n",
       "      <td>1.905933e-01</td>\n",
       "      <td>1.437248e-01</td>\n",
       "      <td>-2.582593e-02</td>\n",
       "      <td>9.451819e-03</td>\n",
       "      <td>2.457958e-01</td>\n",
       "      <td>-5.955658e-02</td>\n",
       "      <td>-3.469323e-01</td>\n",
       "      <td>3.174505e-01</td>\n",
       "      <td>-2.612975e-01</td>\n",
       "      <td>1.589322e-01</td>\n",
       "      <td>-6.873154e-01</td>\n",
       "      <td>4.124062e-16</td>\n",
       "      <td>2.213830e-15</td>\n",
       "      <td>4.697439e-16</td>\n",
       "    </tr>\n",
       "    <tr>\n",
       "      <th>streaming_movies</th>\n",
       "      <td>-4.354029e-05</td>\n",
       "      <td>3.877182e-03</td>\n",
       "      <td>6.091174e-04</td>\n",
       "      <td>6.608284e-02</td>\n",
       "      <td>2.881478e-01</td>\n",
       "      <td>1.852805e-01</td>\n",
       "      <td>1.530092e-01</td>\n",
       "      <td>-2.416386e-02</td>\n",
       "      <td>1.298338e-02</td>\n",
       "      <td>2.491375e-01</td>\n",
       "      <td>-9.936733e-02</td>\n",
       "      <td>-3.510830e-01</td>\n",
       "      <td>2.457175e-01</td>\n",
       "      <td>-3.180377e-01</td>\n",
       "      <td>-1.446533e-01</td>\n",
       "      <td>6.902486e-01</td>\n",
       "      <td>-3.250663e-16</td>\n",
       "      <td>-4.216496e-16</td>\n",
       "      <td>3.727770e-17</td>\n",
       "    </tr>\n",
       "    <tr>\n",
       "      <th>contract</th>\n",
       "      <td>1.645316e-04</td>\n",
       "      <td>-1.748969e-02</td>\n",
       "      <td>1.761028e-02</td>\n",
       "      <td>-1.956235e-02</td>\n",
       "      <td>-2.745554e-01</td>\n",
       "      <td>1.278434e-01</td>\n",
       "      <td>-1.715055e-01</td>\n",
       "      <td>7.978614e-01</td>\n",
       "      <td>-1.215661e-02</td>\n",
       "      <td>-4.092697e-02</td>\n",
       "      <td>-1.930037e-01</td>\n",
       "      <td>-4.138469e-01</td>\n",
       "      <td>1.387393e-02</td>\n",
       "      <td>1.753259e-01</td>\n",
       "      <td>2.050666e-03</td>\n",
       "      <td>1.196712e-03</td>\n",
       "      <td>5.207870e-17</td>\n",
       "      <td>-3.883295e-17</td>\n",
       "      <td>4.353996e-17</td>\n",
       "    </tr>\n",
       "    <tr>\n",
       "      <th>paperless_billing</th>\n",
       "      <td>3.447052e-05</td>\n",
       "      <td>6.328467e-03</td>\n",
       "      <td>3.185673e-03</td>\n",
       "      <td>1.939923e-02</td>\n",
       "      <td>7.761287e-02</td>\n",
       "      <td>-7.738575e-02</td>\n",
       "      <td>5.617310e-02</td>\n",
       "      <td>-1.552980e-01</td>\n",
       "      <td>-5.611318e-02</td>\n",
       "      <td>-5.565668e-01</td>\n",
       "      <td>-7.918902e-01</td>\n",
       "      <td>-7.505411e-03</td>\n",
       "      <td>9.319675e-02</td>\n",
       "      <td>-8.768594e-02</td>\n",
       "      <td>-5.317395e-02</td>\n",
       "      <td>-3.200882e-02</td>\n",
       "      <td>-3.996383e-16</td>\n",
       "      <td>-1.403564e-15</td>\n",
       "      <td>-2.495713e-16</td>\n",
       "    </tr>\n",
       "    <tr>\n",
       "      <th>payment_method</th>\n",
       "      <td>-1.563066e-04</td>\n",
       "      <td>2.825646e-03</td>\n",
       "      <td>-2.313588e-02</td>\n",
       "      <td>-9.835278e-01</td>\n",
       "      <td>1.563083e-01</td>\n",
       "      <td>7.676970e-02</td>\n",
       "      <td>2.914657e-02</td>\n",
       "      <td>1.981389e-02</td>\n",
       "      <td>-1.432206e-02</td>\n",
       "      <td>-1.316397e-02</td>\n",
       "      <td>-6.474610e-03</td>\n",
       "      <td>-5.744079e-03</td>\n",
       "      <td>8.148984e-03</td>\n",
       "      <td>-5.424049e-03</td>\n",
       "      <td>3.426919e-03</td>\n",
       "      <td>-9.756129e-04</td>\n",
       "      <td>2.299993e-16</td>\n",
       "      <td>4.494666e-16</td>\n",
       "      <td>1.050252e-16</td>\n",
       "    </tr>\n",
       "    <tr>\n",
       "      <th>monthly_charges</th>\n",
       "      <td>8.656787e-03</td>\n",
       "      <td>8.965968e-01</td>\n",
       "      <td>4.420589e-01</td>\n",
       "      <td>-1.055255e-02</td>\n",
       "      <td>-1.934219e-02</td>\n",
       "      <td>6.066840e-03</td>\n",
       "      <td>-4.818470e-03</td>\n",
       "      <td>3.868071e-03</td>\n",
       "      <td>1.232180e-03</td>\n",
       "      <td>4.684172e-03</td>\n",
       "      <td>2.465048e-03</td>\n",
       "      <td>1.804610e-03</td>\n",
       "      <td>1.765692e-03</td>\n",
       "      <td>-5.166340e-03</td>\n",
       "      <td>3.100352e-04</td>\n",
       "      <td>-1.511440e-04</td>\n",
       "      <td>-1.562333e-16</td>\n",
       "      <td>-8.816264e-16</td>\n",
       "      <td>-1.962762e-16</td>\n",
       "    </tr>\n",
       "    <tr>\n",
       "      <th>total_charges</th>\n",
       "      <td>9.999223e-01</td>\n",
       "      <td>-3.795409e-03</td>\n",
       "      <td>-1.186809e-02</td>\n",
       "      <td>1.321138e-04</td>\n",
       "      <td>2.341454e-04</td>\n",
       "      <td>-1.560957e-04</td>\n",
       "      <td>-7.251614e-05</td>\n",
       "      <td>6.416466e-06</td>\n",
       "      <td>-1.060072e-05</td>\n",
       "      <td>5.321236e-05</td>\n",
       "      <td>-4.172897e-05</td>\n",
       "      <td>-8.408476e-05</td>\n",
       "      <td>-2.439192e-05</td>\n",
       "      <td>3.954480e-05</td>\n",
       "      <td>-1.265185e-05</td>\n",
       "      <td>-8.576366e-07</td>\n",
       "      <td>-1.273079e-17</td>\n",
       "      <td>-1.122516e-16</td>\n",
       "      <td>-1.420322e-17</td>\n",
       "    </tr>\n",
       "  </tbody>\n",
       "</table>\n",
       "</div>"
      ],
      "text/plain": [
       "                            PC1           PC2           PC3           PC4  \\\n",
       "gender            -6.753369e-09 -3.572193e-04 -4.761319e-04 -1.077697e-02   \n",
       "senior_citizen     1.680736e-05  2.866770e-03  2.244735e-03  4.735772e-03   \n",
       "partner           -0.000000e+00 -8.049117e-16 -3.920475e-16 -8.109832e-16   \n",
       "dependents         2.710505e-20  2.775558e-17 -3.330669e-16 -1.110223e-16   \n",
       "tenure             8.962857e-03 -4.419918e-01  8.963800e-01 -2.088114e-02   \n",
       "phone_service     -0.000000e+00  0.000000e+00  0.000000e+00 -1.110223e-16   \n",
       "multiple_lines    -8.741826e-05 -1.764310e-03 -5.696035e-03 -2.700293e-02   \n",
       "internet_service  -5.735368e-05 -8.103677e-03 -2.082550e-03 -1.279681e-01   \n",
       "online_security    9.611093e-05 -9.842196e-03 -3.563893e-03 -1.776767e-03   \n",
       "online_backup      1.456334e-04 -5.652883e-03 -3.217151e-03 -4.194347e-02   \n",
       "device_protection -4.108684e-05  7.644186e-03  2.545624e-03  4.485835e-02   \n",
       "tech_support      -1.819238e-05  9.774481e-03  4.260588e-03  3.369098e-02   \n",
       "streaming_tv      -4.233200e-05  3.758905e-03  5.233572e-04  6.961632e-02   \n",
       "streaming_movies  -4.354029e-05  3.877182e-03  6.091174e-04  6.608284e-02   \n",
       "contract           1.645316e-04 -1.748969e-02  1.761028e-02 -1.956235e-02   \n",
       "paperless_billing  3.447052e-05  6.328467e-03  3.185673e-03  1.939923e-02   \n",
       "payment_method    -1.563066e-04  2.825646e-03 -2.313588e-02 -9.835278e-01   \n",
       "monthly_charges    8.656787e-03  8.965968e-01  4.420589e-01 -1.055255e-02   \n",
       "total_charges      9.999223e-01 -3.795409e-03 -1.186809e-02  1.321138e-04   \n",
       "\n",
       "                            PC5           PC6           PC7           PC8  \\\n",
       "gender             2.182351e-02 -1.397326e-02 -1.531263e-03  1.420921e-02   \n",
       "senior_citizen     4.111486e-02 -6.172048e-02  2.798029e-02 -1.222496e-01   \n",
       "partner           -8.586881e-16 -1.805847e-15 -6.359388e-16 -3.359184e-15   \n",
       "dependents        -0.000000e+00  1.665335e-16  4.822531e-16  2.359224e-16   \n",
       "tenure             1.154759e-02 -8.182898e-04  6.065257e-03 -1.745246e-02   \n",
       "phone_service      8.326673e-17  1.665335e-16  2.359224e-16  2.498002e-16   \n",
       "multiple_lines    -1.024555e-01  3.185854e-03 -5.284583e-02 -8.091735e-03   \n",
       "internet_service  -4.982366e-01 -4.536032e-01 -2.238822e-01 -3.940878e-01   \n",
       "online_security   -3.094382e-01  8.118263e-01 -3.321640e-01 -3.496702e-01   \n",
       "online_backup     -4.929242e-01  1.491814e-01  8.551184e-01 -2.072939e-02   \n",
       "device_protection  2.571430e-01  9.881662e-02  1.251313e-01 -8.314635e-02   \n",
       "tech_support       2.418918e-01 -1.514328e-02  1.073913e-01 -1.928911e-01   \n",
       "streaming_tv       2.938751e-01  1.905933e-01  1.437248e-01 -2.582593e-02   \n",
       "streaming_movies   2.881478e-01  1.852805e-01  1.530092e-01 -2.416386e-02   \n",
       "contract          -2.745554e-01  1.278434e-01 -1.715055e-01  7.978614e-01   \n",
       "paperless_billing  7.761287e-02 -7.738575e-02  5.617310e-02 -1.552980e-01   \n",
       "payment_method     1.563083e-01  7.676970e-02  2.914657e-02  1.981389e-02   \n",
       "monthly_charges   -1.934219e-02  6.066840e-03 -4.818470e-03  3.868071e-03   \n",
       "total_charges      2.341454e-04 -1.560957e-04 -7.251614e-05  6.416466e-06   \n",
       "\n",
       "                            PC9          PC10          PC11          PC12  \\\n",
       "gender             9.967306e-01 -7.024061e-02 -2.106550e-02 -5.973240e-03   \n",
       "senior_citizen    -6.721324e-03 -9.938473e-02  2.527944e-02 -1.569901e-01   \n",
       "partner           -7.619502e-16 -4.950467e-16  2.866631e-15 -4.804046e-15   \n",
       "dependents        -3.035766e-17 -1.526557e-16  9.020562e-17  2.168404e-16   \n",
       "tenure             4.188367e-04  4.318539e-03  1.835837e-03  1.091208e-02   \n",
       "phone_service     -6.938894e-18 -0.000000e+00  1.110223e-16  1.804112e-16   \n",
       "multiple_lines     4.407564e-02  7.094690e-01 -5.460185e-01  3.547980e-01   \n",
       "internet_service   1.600493e-02  1.749302e-01 -4.596583e-02 -5.190682e-01   \n",
       "online_security    1.654622e-02 -8.400109e-02 -1.312834e-02 -4.266651e-02   \n",
       "online_backup      1.349512e-02 -1.078881e-02  4.620174e-03 -8.816680e-03   \n",
       "device_protection -6.484643e-03  9.947806e-02 -1.378227e-01 -3.078385e-01   \n",
       "tech_support       5.002706e-03 -5.746075e-03  4.082370e-02 -2.612280e-01   \n",
       "streaming_tv       9.451819e-03  2.457958e-01 -5.955658e-02 -3.469323e-01   \n",
       "streaming_movies   1.298338e-02  2.491375e-01 -9.936733e-02 -3.510830e-01   \n",
       "contract          -1.215661e-02 -4.092697e-02 -1.930037e-01 -4.138469e-01   \n",
       "paperless_billing -5.611318e-02 -5.565668e-01 -7.918902e-01 -7.505411e-03   \n",
       "payment_method    -1.432206e-02 -1.316397e-02 -6.474610e-03 -5.744079e-03   \n",
       "monthly_charges    1.232180e-03  4.684172e-03  2.465048e-03  1.804610e-03   \n",
       "total_charges     -1.060072e-05  5.321236e-05 -4.172897e-05 -8.408476e-05   \n",
       "\n",
       "                           PC13          PC14          PC15          PC16  \\\n",
       "gender            -7.180509e-03 -7.017264e-03  3.711184e-03 -2.854268e-03   \n",
       "senior_citizen     1.600722e-01  3.028032e-01  8.829723e-01  2.158150e-01   \n",
       "partner            6.377711e-15  5.397050e-15  3.864368e-15 -5.145624e-16   \n",
       "dependents         3.712308e-16  3.400058e-16  1.436351e-15  1.856154e-16   \n",
       "tenure            -3.575379e-04 -3.582540e-03 -2.195591e-04 -1.865566e-04   \n",
       "phone_service     -2.775558e-17 -3.885781e-16  5.551115e-17 -2.220446e-16   \n",
       "multiple_lines     2.397581e-02  2.218970e-01  8.132809e-02  1.164995e-02   \n",
       "internet_service  -3.039485e-03 -1.225169e-01 -7.707862e-02 -2.771266e-02   \n",
       "online_security   -3.636970e-03  5.563145e-02 -3.005416e-03  5.594579e-03   \n",
       "online_backup     -3.696593e-03  2.832393e-02 -6.322981e-03 -7.639895e-03   \n",
       "device_protection -8.744989e-01  4.970069e-02  8.798232e-02 -2.841451e-02   \n",
       "tech_support       1.971454e-01  7.935514e-01 -3.885527e-01 -4.174210e-02   \n",
       "streaming_tv       3.174505e-01 -2.612975e-01  1.589322e-01 -6.873154e-01   \n",
       "streaming_movies   2.457175e-01 -3.180377e-01 -1.446533e-01  6.902486e-01   \n",
       "contract           1.387393e-02  1.753259e-01  2.050666e-03  1.196712e-03   \n",
       "paperless_billing  9.319675e-02 -8.768594e-02 -5.317395e-02 -3.200882e-02   \n",
       "payment_method     8.148984e-03 -5.424049e-03  3.426919e-03 -9.756129e-04   \n",
       "monthly_charges    1.765692e-03 -5.166340e-03  3.100352e-04 -1.511440e-04   \n",
       "total_charges     -2.439192e-05  3.954480e-05 -1.265185e-05 -8.576366e-07   \n",
       "\n",
       "                           PC17          PC18          PC19  \n",
       "gender            -1.650787e-16 -8.188793e-16 -1.822432e-16  \n",
       "senior_citizen     2.962234e-15  6.700568e-15  1.507318e-15  \n",
       "partner           -1.784018e-01 -9.607595e-01 -2.124004e-01  \n",
       "dependents        -9.838559e-01  1.710717e-01  5.255588e-02  \n",
       "tenure             9.414238e-17 -5.557567e-18  6.348897e-18  \n",
       "phone_service      1.415787e-02 -2.183474e-01  9.757684e-01  \n",
       "multiple_lines    -4.606945e-16 -1.759853e-15 -4.213638e-16  \n",
       "internet_service   6.360891e-16  3.946820e-15  8.271940e-16  \n",
       "online_security    3.036142e-17  6.534357e-16  1.956589e-16  \n",
       "online_backup      3.676060e-16 -1.546086e-16 -4.472162e-17  \n",
       "device_protection -9.089003e-16 -3.944386e-15 -8.761714e-16  \n",
       "tech_support       8.480304e-16  5.492716e-15  1.387324e-15  \n",
       "streaming_tv       4.124062e-16  2.213830e-15  4.697439e-16  \n",
       "streaming_movies  -3.250663e-16 -4.216496e-16  3.727770e-17  \n",
       "contract           5.207870e-17 -3.883295e-17  4.353996e-17  \n",
       "paperless_billing -3.996383e-16 -1.403564e-15 -2.495713e-16  \n",
       "payment_method     2.299993e-16  4.494666e-16  1.050252e-16  \n",
       "monthly_charges   -1.562333e-16 -8.816264e-16 -1.962762e-16  \n",
       "total_charges     -1.273079e-17 -1.122516e-16 -1.420322e-17  "
      ]
     },
     "execution_count": 56,
     "metadata": {},
     "output_type": "execute_result"
    }
   ],
   "source": [
    "loadings = pd.DataFrame(\n",
    "    pca.components_.T,\n",
    "    columns=component_names,\n",
    "    index=raw_feature_extraction_df.columns,\n",
    ")\n",
    "\n",
    "loadings"
   ]
  },
  {
   "cell_type": "markdown",
   "metadata": {},
   "source": [
    "### Concate PCA Value with Churn Feature"
   ]
  },
  {
   "cell_type": "code",
   "execution_count": 58,
   "metadata": {
    "ExecuteTime": {
     "end_time": "2021-03-25T02:50:41.917199Z",
     "start_time": "2021-03-25T02:50:41.870324Z"
    }
   },
   "outputs": [
    {
     "data": {
      "text/html": [
       "<div>\n",
       "<style scoped>\n",
       "    .dataframe tbody tr th:only-of-type {\n",
       "        vertical-align: middle;\n",
       "    }\n",
       "\n",
       "    .dataframe tbody tr th {\n",
       "        vertical-align: top;\n",
       "    }\n",
       "\n",
       "    .dataframe thead th {\n",
       "        text-align: right;\n",
       "    }\n",
       "</style>\n",
       "<table border=\"1\" class=\"dataframe\">\n",
       "  <thead>\n",
       "    <tr style=\"text-align: right;\">\n",
       "      <th></th>\n",
       "      <th>PC1</th>\n",
       "      <th>PC2</th>\n",
       "      <th>PC3</th>\n",
       "      <th>PC4</th>\n",
       "      <th>PC5</th>\n",
       "      <th>PC6</th>\n",
       "      <th>PC7</th>\n",
       "      <th>PC8</th>\n",
       "      <th>PC9</th>\n",
       "      <th>PC10</th>\n",
       "      <th>PC11</th>\n",
       "      <th>PC12</th>\n",
       "      <th>PC13</th>\n",
       "      <th>PC14</th>\n",
       "      <th>PC15</th>\n",
       "      <th>PC16</th>\n",
       "      <th>PC17</th>\n",
       "      <th>PC18</th>\n",
       "      <th>PC19</th>\n",
       "      <th>churn</th>\n",
       "    </tr>\n",
       "  </thead>\n",
       "  <tbody>\n",
       "    <tr>\n",
       "      <th>0</th>\n",
       "      <td>-2250.140045</td>\n",
       "      <td>-8.858334</td>\n",
       "      <td>-16.866177</td>\n",
       "      <td>0.537938</td>\n",
       "      <td>0.863554</td>\n",
       "      <td>0.285455</td>\n",
       "      <td>2.012932</td>\n",
       "      <td>0.231845</td>\n",
       "      <td>-0.575978</td>\n",
       "      <td>-0.659881</td>\n",
       "      <td>-0.069719</td>\n",
       "      <td>-0.326789</td>\n",
       "      <td>-0.046973</td>\n",
       "      <td>0.067055</td>\n",
       "      <td>-0.258124</td>\n",
       "      <td>-0.061853</td>\n",
       "      <td>6.197170e-16</td>\n",
       "      <td>-2.189512e-16</td>\n",
       "      <td>1.793760e-17</td>\n",
       "      <td>0</td>\n",
       "    </tr>\n",
       "    <tr>\n",
       "      <th>1</th>\n",
       "      <td>-343.307955</td>\n",
       "      <td>-6.421186</td>\n",
       "      <td>2.050109</td>\n",
       "      <td>-1.210040</td>\n",
       "      <td>1.000175</td>\n",
       "      <td>1.622959</td>\n",
       "      <td>-0.808348</td>\n",
       "      <td>0.177327</td>\n",
       "      <td>0.534054</td>\n",
       "      <td>0.606820</td>\n",
       "      <td>0.105766</td>\n",
       "      <td>0.098789</td>\n",
       "      <td>0.762816</td>\n",
       "      <td>0.361595</td>\n",
       "      <td>-0.218744</td>\n",
       "      <td>0.022169</td>\n",
       "      <td>-4.577052e-16</td>\n",
       "      <td>-3.956107e-17</td>\n",
       "      <td>-1.393597e-17</td>\n",
       "      <td>0</td>\n",
       "    </tr>\n",
       "    <tr>\n",
       "      <th>2</th>\n",
       "      <td>-2172.079419</td>\n",
       "      <td>11.903544</td>\n",
       "      <td>-6.320750</td>\n",
       "      <td>-0.750781</td>\n",
       "      <td>-0.114083</td>\n",
       "      <td>2.107724</td>\n",
       "      <td>1.208150</td>\n",
       "      <td>-0.365683</td>\n",
       "      <td>0.512765</td>\n",
       "      <td>-0.080937</td>\n",
       "      <td>-0.611786</td>\n",
       "      <td>-0.021365</td>\n",
       "      <td>0.010818</td>\n",
       "      <td>0.263277</td>\n",
       "      <td>-0.169433</td>\n",
       "      <td>-0.046724</td>\n",
       "      <td>5.885327e-14</td>\n",
       "      <td>-1.918190e-15</td>\n",
       "      <td>-4.194464e-16</td>\n",
       "      <td>1</td>\n",
       "    </tr>\n",
       "    <tr>\n",
       "      <th>3</th>\n",
       "      <td>-376.133063</td>\n",
       "      <td>-24.310237</td>\n",
       "      <td>5.894243</td>\n",
       "      <td>1.654425</td>\n",
       "      <td>0.794520</td>\n",
       "      <td>1.311847</td>\n",
       "      <td>-0.810647</td>\n",
       "      <td>0.070013</td>\n",
       "      <td>0.514845</td>\n",
       "      <td>-0.080275</td>\n",
       "      <td>0.615834</td>\n",
       "      <td>0.118805</td>\n",
       "      <td>0.488248</td>\n",
       "      <td>-0.602599</td>\n",
       "      <td>0.071657</td>\n",
       "      <td>0.055378</td>\n",
       "      <td>8.627036e-15</td>\n",
       "      <td>-3.170283e-15</td>\n",
       "      <td>2.315724e-15</td>\n",
       "      <td>0</td>\n",
       "    </tr>\n",
       "    <tr>\n",
       "      <th>4</th>\n",
       "      <td>-2138.236555</td>\n",
       "      <td>26.903713</td>\n",
       "      <td>0.763079</td>\n",
       "      <td>0.029638</td>\n",
       "      <td>0.496248</td>\n",
       "      <td>-0.233726</td>\n",
       "      <td>-0.172891</td>\n",
       "      <td>0.012398</td>\n",
       "      <td>-0.493317</td>\n",
       "      <td>0.447699</td>\n",
       "      <td>-0.573066</td>\n",
       "      <td>-0.398175</td>\n",
       "      <td>0.050407</td>\n",
       "      <td>-0.100429</td>\n",
       "      <td>-0.230195</td>\n",
       "      <td>-0.069092</td>\n",
       "      <td>-1.214342e-16</td>\n",
       "      <td>-1.627578e-16</td>\n",
       "      <td>-4.286859e-18</td>\n",
       "      <td>1</td>\n",
       "    </tr>\n",
       "  </tbody>\n",
       "</table>\n",
       "</div>"
      ],
      "text/plain": [
       "           PC1        PC2        PC3       PC4       PC5       PC6       PC7  \\\n",
       "0 -2250.140045  -8.858334 -16.866177  0.537938  0.863554  0.285455  2.012932   \n",
       "1  -343.307955  -6.421186   2.050109 -1.210040  1.000175  1.622959 -0.808348   \n",
       "2 -2172.079419  11.903544  -6.320750 -0.750781 -0.114083  2.107724  1.208150   \n",
       "3  -376.133063 -24.310237   5.894243  1.654425  0.794520  1.311847 -0.810647   \n",
       "4 -2138.236555  26.903713   0.763079  0.029638  0.496248 -0.233726 -0.172891   \n",
       "\n",
       "        PC8       PC9      PC10      PC11      PC12      PC13      PC14  \\\n",
       "0  0.231845 -0.575978 -0.659881 -0.069719 -0.326789 -0.046973  0.067055   \n",
       "1  0.177327  0.534054  0.606820  0.105766  0.098789  0.762816  0.361595   \n",
       "2 -0.365683  0.512765 -0.080937 -0.611786 -0.021365  0.010818  0.263277   \n",
       "3  0.070013  0.514845 -0.080275  0.615834  0.118805  0.488248 -0.602599   \n",
       "4  0.012398 -0.493317  0.447699 -0.573066 -0.398175  0.050407 -0.100429   \n",
       "\n",
       "       PC15      PC16          PC17          PC18          PC19  churn  \n",
       "0 -0.258124 -0.061853  6.197170e-16 -2.189512e-16  1.793760e-17      0  \n",
       "1 -0.218744  0.022169 -4.577052e-16 -3.956107e-17 -1.393597e-17      0  \n",
       "2 -0.169433 -0.046724  5.885327e-14 -1.918190e-15 -4.194464e-16      1  \n",
       "3  0.071657  0.055378  8.627036e-15 -3.170283e-15  2.315724e-15      0  \n",
       "4 -0.230195 -0.069092 -1.214342e-16 -1.627578e-16 -4.286859e-18      1  "
      ]
     },
     "execution_count": 58,
     "metadata": {},
     "output_type": "execute_result"
    }
   ],
   "source": [
    "PCA_df = pd.concat([X_pca, raw_feature_tranformation_df['churn']], axis=1)\n",
    "PCA_df.head()"
   ]
  },
  {
   "cell_type": "markdown",
   "metadata": {},
   "source": [
    "### Save PCA Value"
   ]
  },
  {
   "cell_type": "code",
   "execution_count": 59,
   "metadata": {
    "ExecuteTime": {
     "end_time": "2021-03-25T02:50:41.939349Z",
     "start_time": "2021-03-25T02:50:41.917199Z"
    }
   },
   "outputs": [],
   "source": [
    "# PCA_df.to_csv('../datasets/PCA_df.csv', index=False)"
   ]
  },
  {
   "cell_type": "markdown",
   "metadata": {
    "ExecuteTime": {
     "end_time": "2021-03-21T13:25:23.036536Z",
     "start_time": "2021-03-21T13:25:23.026745Z"
    }
   },
   "source": [
    "## Feature Selection"
   ]
  },
  {
   "cell_type": "code",
   "execution_count": 60,
   "metadata": {
    "ExecuteTime": {
     "end_time": "2021-03-25T02:50:41.954975Z",
     "start_time": "2021-03-25T02:50:41.939349Z"
    }
   },
   "outputs": [],
   "source": [
    "raw_feature_selection_df = raw_feature_tranformation_df"
   ]
  },
  {
   "cell_type": "markdown",
   "metadata": {},
   "source": [
    "### Pearson Correlation"
   ]
  },
  {
   "cell_type": "code",
   "execution_count": 61,
   "metadata": {
    "ExecuteTime": {
     "end_time": "2021-03-25T02:50:45.929218Z",
     "start_time": "2021-03-25T02:50:41.954975Z"
    }
   },
   "outputs": [
    {
     "data": {
      "text/plain": [
       "<AxesSubplot:>"
      ]
     },
     "execution_count": 61,
     "metadata": {},
     "output_type": "execute_result"
    },
    {
     "data": {
      "image/png": "[encoded data removed]",
      "text/plain": [
       "<Figure size 1440x1440 with 2 Axes>"
      ]
     },
     "metadata": {},
     "output_type": "display_data"
    }
   ],
   "source": [
    "sns.set(rc={'figure.figsize':(20, 20)})\n",
    "sns.heatmap(raw_feature_selection_df.corr(), annot=True)"
   ]
  },
  {
   "cell_type": "markdown",
   "metadata": {},
   "source": [
    "### Spearman Correlation (Non-Linier)"
   ]
  },
  {
   "cell_type": "code",
   "execution_count": 62,
   "metadata": {
    "ExecuteTime": {
     "end_time": "2021-03-25T02:50:51.416986Z",
     "start_time": "2021-03-25T02:50:45.941362Z"
    }
   },
   "outputs": [
    {
     "data": {
      "text/plain": [
       "<AxesSubplot:>"
      ]
     },
     "execution_count": 62,
     "metadata": {},
     "output_type": "execute_result"
    },
    {
     "data": {
      "image/png": "[encoded data removed]",
      "text/plain": [
       "<Figure size 1440x1440 with 2 Axes>"
      ]
     },
     "metadata": {},
     "output_type": "display_data"
    }
   ],
   "source": [
    "sns.heatmap(raw_feature_selection_df.corr('spearman'), annot=True)"
   ]
  },
  {
   "cell_type": "markdown",
   "metadata": {},
   "source": [
    "### Seleksi fitur berdasarkan korelasi yang positif terhadap target churn"
   ]
  },
  {
   "cell_type": "code",
   "execution_count": 63,
   "metadata": {
    "ExecuteTime": {
     "end_time": "2021-03-25T02:50:51.437242Z",
     "start_time": "2021-03-25T02:50:51.419025Z"
    }
   },
   "outputs": [],
   "source": [
    "raw_feature_selection_df = raw_feature_tranformation_df[['senior_citizen', 'dependents', 'multiple_lines', 'streaming_tv', 'streaming_movies', 'paperless_billing', 'payment_method', 'monthly_charges', 'churn']]"
   ]
  },
  {
   "cell_type": "code",
   "execution_count": 64,
   "metadata": {
    "ExecuteTime": {
     "end_time": "2021-03-25T02:50:51.462942Z",
     "start_time": "2021-03-25T02:50:51.437242Z"
    }
   },
   "outputs": [
    {
     "data": {
      "text/html": [
       "<div>\n",
       "<style scoped>\n",
       "    .dataframe tbody tr th:only-of-type {\n",
       "        vertical-align: middle;\n",
       "    }\n",
       "\n",
       "    .dataframe tbody tr th {\n",
       "        vertical-align: top;\n",
       "    }\n",
       "\n",
       "    .dataframe thead th {\n",
       "        text-align: right;\n",
       "    }\n",
       "</style>\n",
       "<table border=\"1\" class=\"dataframe\">\n",
       "  <thead>\n",
       "    <tr style=\"text-align: right;\">\n",
       "      <th></th>\n",
       "      <th>senior_citizen</th>\n",
       "      <th>dependents</th>\n",
       "      <th>multiple_lines</th>\n",
       "      <th>streaming_tv</th>\n",
       "      <th>streaming_movies</th>\n",
       "      <th>paperless_billing</th>\n",
       "      <th>payment_method</th>\n",
       "      <th>monthly_charges</th>\n",
       "      <th>churn</th>\n",
       "    </tr>\n",
       "  </thead>\n",
       "  <tbody>\n",
       "    <tr>\n",
       "      <th>0</th>\n",
       "      <td>0</td>\n",
       "      <td>0</td>\n",
       "      <td>0</td>\n",
       "      <td>1</td>\n",
       "      <td>1</td>\n",
       "      <td>1</td>\n",
       "      <td>2</td>\n",
       "      <td>29.85</td>\n",
       "      <td>0</td>\n",
       "    </tr>\n",
       "    <tr>\n",
       "      <th>1</th>\n",
       "      <td>0</td>\n",
       "      <td>0</td>\n",
       "      <td>1</td>\n",
       "      <td>1</td>\n",
       "      <td>1</td>\n",
       "      <td>0</td>\n",
       "      <td>3</td>\n",
       "      <td>56.95</td>\n",
       "      <td>0</td>\n",
       "    </tr>\n",
       "    <tr>\n",
       "      <th>2</th>\n",
       "      <td>0</td>\n",
       "      <td>0</td>\n",
       "      <td>1</td>\n",
       "      <td>1</td>\n",
       "      <td>1</td>\n",
       "      <td>1</td>\n",
       "      <td>3</td>\n",
       "      <td>53.85</td>\n",
       "      <td>1</td>\n",
       "    </tr>\n",
       "    <tr>\n",
       "      <th>3</th>\n",
       "      <td>0</td>\n",
       "      <td>0</td>\n",
       "      <td>0</td>\n",
       "      <td>1</td>\n",
       "      <td>1</td>\n",
       "      <td>0</td>\n",
       "      <td>0</td>\n",
       "      <td>42.30</td>\n",
       "      <td>0</td>\n",
       "    </tr>\n",
       "    <tr>\n",
       "      <th>4</th>\n",
       "      <td>0</td>\n",
       "      <td>0</td>\n",
       "      <td>1</td>\n",
       "      <td>1</td>\n",
       "      <td>1</td>\n",
       "      <td>1</td>\n",
       "      <td>2</td>\n",
       "      <td>70.70</td>\n",
       "      <td>1</td>\n",
       "    </tr>\n",
       "    <tr>\n",
       "      <th>...</th>\n",
       "      <td>...</td>\n",
       "      <td>...</td>\n",
       "      <td>...</td>\n",
       "      <td>...</td>\n",
       "      <td>...</td>\n",
       "      <td>...</td>\n",
       "      <td>...</td>\n",
       "      <td>...</td>\n",
       "      <td>...</td>\n",
       "    </tr>\n",
       "    <tr>\n",
       "      <th>7038</th>\n",
       "      <td>0</td>\n",
       "      <td>0</td>\n",
       "      <td>0</td>\n",
       "      <td>0</td>\n",
       "      <td>0</td>\n",
       "      <td>1</td>\n",
       "      <td>3</td>\n",
       "      <td>84.80</td>\n",
       "      <td>0</td>\n",
       "    </tr>\n",
       "    <tr>\n",
       "      <th>7039</th>\n",
       "      <td>0</td>\n",
       "      <td>0</td>\n",
       "      <td>0</td>\n",
       "      <td>0</td>\n",
       "      <td>0</td>\n",
       "      <td>1</td>\n",
       "      <td>1</td>\n",
       "      <td>103.20</td>\n",
       "      <td>0</td>\n",
       "    </tr>\n",
       "    <tr>\n",
       "      <th>7040</th>\n",
       "      <td>0</td>\n",
       "      <td>0</td>\n",
       "      <td>0</td>\n",
       "      <td>1</td>\n",
       "      <td>1</td>\n",
       "      <td>1</td>\n",
       "      <td>2</td>\n",
       "      <td>29.60</td>\n",
       "      <td>0</td>\n",
       "    </tr>\n",
       "    <tr>\n",
       "      <th>7041</th>\n",
       "      <td>1</td>\n",
       "      <td>0</td>\n",
       "      <td>0</td>\n",
       "      <td>1</td>\n",
       "      <td>1</td>\n",
       "      <td>1</td>\n",
       "      <td>3</td>\n",
       "      <td>74.40</td>\n",
       "      <td>1</td>\n",
       "    </tr>\n",
       "    <tr>\n",
       "      <th>7042</th>\n",
       "      <td>0</td>\n",
       "      <td>0</td>\n",
       "      <td>1</td>\n",
       "      <td>0</td>\n",
       "      <td>0</td>\n",
       "      <td>1</td>\n",
       "      <td>0</td>\n",
       "      <td>105.65</td>\n",
       "      <td>0</td>\n",
       "    </tr>\n",
       "  </tbody>\n",
       "</table>\n",
       "<p>7043 rows × 9 columns</p>\n",
       "</div>"
      ],
      "text/plain": [
       "      senior_citizen  dependents  multiple_lines  streaming_tv  \\\n",
       "0                  0           0               0             1   \n",
       "1                  0           0               1             1   \n",
       "2                  0           0               1             1   \n",
       "3                  0           0               0             1   \n",
       "4                  0           0               1             1   \n",
       "...              ...         ...             ...           ...   \n",
       "7038               0           0               0             0   \n",
       "7039               0           0               0             0   \n",
       "7040               0           0               0             1   \n",
       "7041               1           0               0             1   \n",
       "7042               0           0               1             0   \n",
       "\n",
       "      streaming_movies  paperless_billing  payment_method  monthly_charges  \\\n",
       "0                    1                  1               2            29.85   \n",
       "1                    1                  0               3            56.95   \n",
       "2                    1                  1               3            53.85   \n",
       "3                    1                  0               0            42.30   \n",
       "4                    1                  1               2            70.70   \n",
       "...                ...                ...             ...              ...   \n",
       "7038                 0                  1               3            84.80   \n",
       "7039                 0                  1               1           103.20   \n",
       "7040                 1                  1               2            29.60   \n",
       "7041                 1                  1               3            74.40   \n",
       "7042                 0                  1               0           105.65   \n",
       "\n",
       "      churn  \n",
       "0         0  \n",
       "1         0  \n",
       "2         1  \n",
       "3         0  \n",
       "4         1  \n",
       "...     ...  \n",
       "7038      0  \n",
       "7039      0  \n",
       "7040      0  \n",
       "7041      1  \n",
       "7042      0  \n",
       "\n",
       "[7043 rows x 9 columns]"
      ]
     },
     "execution_count": 64,
     "metadata": {},
     "output_type": "execute_result"
    }
   ],
   "source": [
    "raw_feature_selection_df"
   ]
  },
  {
   "cell_type": "markdown",
   "metadata": {},
   "source": [
    "### Save feature selecetion"
   ]
  },
  {
   "cell_type": "code",
   "execution_count": 65,
   "metadata": {
    "ExecuteTime": {
     "end_time": "2021-03-25T02:50:51.478551Z",
     "start_time": "2021-03-25T02:50:51.462942Z"
    }
   },
   "outputs": [],
   "source": [
    "# raw_feature_selection_df.to_csv('../datasets/raw_feature_engineering.csv')"
   ]
  }
 ],
 "metadata": {
  "kernelspec": {
   "display_name": "Python 3",
   "language": "python",
   "name": "python3"
  },
  "language_info": {
   "codemirror_mode": {
    "name": "ipython",
    "version": 3
   },
   "file_extension": ".py",
   "mimetype": "text/x-python",
   "name": "python",
   "nbconvert_exporter": "python",
   "pygments_lexer": "ipython3",
   "version": "3.8.5"
  },
  "toc": {
   "base_numbering": 1,
   "nav_menu": {},
   "number_sections": true,
   "sideBar": true,
   "skip_h1_title": false,
   "title_cell": "Table of Contents",
   "title_sidebar": "Contents",
   "toc_cell": false,
   "toc_position": {
    "height": "calc(100% - 180px)",
    "left": "10px",
    "top": "150px",
    "width": "307px"
   },
   "toc_section_display": true,
   "toc_window_display": true
  }
 },
 "nbformat": 4,
 "nbformat_minor": 4
}
