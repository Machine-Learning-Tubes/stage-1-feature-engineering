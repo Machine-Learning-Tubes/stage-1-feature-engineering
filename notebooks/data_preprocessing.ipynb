{
 "cells": [
  {
   "cell_type": "markdown",
   "metadata": {
    "slideshow": {
     "slide_type": "slide"
    }
   },
   "source": [
    "# Import Modules"
   ]
  },
  {
   "cell_type": "code",
   "execution_count": null,
   "metadata": {
    "ExecuteTime": {
     "start_time": "2021-03-28T01:23:24.679Z"
    }
   },
   "outputs": [],
   "source": [
    "import numpy as np\n",
    "import pandas as pd\n",
    "import seaborn as sns;\n",
    "import matplotlib.pyplot as plt\n",
    "\n",
    "from sklearn import preprocessing\n",
    "from sklearn.decomposition import PCA\n",
    "\n",
    "pd.set_option('display.max_columns', 21)"
   ]
  },
  {
   "cell_type": "markdown",
   "metadata": {
    "slideshow": {
     "slide_type": "slide"
    }
   },
   "source": [
    "# Raw Dataset"
   ]
  },
  {
   "cell_type": "code",
   "execution_count": null,
   "metadata": {
    "ExecuteTime": {
     "start_time": "2021-03-28T01:23:24.683Z"
    }
   },
   "outputs": [],
   "source": [
    "raw_df = pd.read_csv(\"../datasets/WA_Fn-UseC_-Telco-Customer-Churn.csv\")"
   ]
  },
  {
   "cell_type": "markdown",
   "metadata": {},
   "source": [
    "## Table"
   ]
  },
  {
   "cell_type": "code",
   "execution_count": null,
   "metadata": {
    "ExecuteTime": {
     "start_time": "2021-03-28T01:23:24.688Z"
    }
   },
   "outputs": [],
   "source": [
    "raw_df.head()"
   ]
  },
  {
   "cell_type": "markdown",
   "metadata": {
    "slideshow": {
     "slide_type": "slide"
    }
   },
   "source": [
    "# Data Cleaning"
   ]
  },
  {
   "cell_type": "markdown",
   "metadata": {},
   "source": [
    "## Rename column"
   ]
  },
  {
   "cell_type": "code",
   "execution_count": null,
   "metadata": {
    "ExecuteTime": {
     "start_time": "2021-03-28T01:23:24.694Z"
    }
   },
   "outputs": [],
   "source": [
    "raw_rename_columns_df = raw_df.rename(columns={'customerID' : 'customer_id',\n",
    "                                               'SeniorCitizen' : 'senior_citizen',\n",
    "                                               'Partner' : 'partner',\n",
    "                                               'Dependents' : 'dependents',\n",
    "                                               'PhoneService' : 'phone_service',\n",
    "                                               'MultipleLines' : 'multiple_lines',\n",
    "                                               'InternetService' : 'internet_service',\n",
    "                                               'OnlineSecurity' : 'online_security',\n",
    "                                               'OnlineBackup' : 'online_backup',\n",
    "                                               'DeviceProtection' : 'device_protection',\n",
    "                                               'TechSupport' : 'tech_support',\n",
    "                                               'StreamingTV' : 'streaming_tv',\n",
    "                                               'StreamingMovies' : 'streaming_movies',\n",
    "                                               'Contract' : 'contract',\n",
    "                                               'PaperlessBilling' : 'paperless_billing',\n",
    "                                               'PaymentMethod' : 'payment_method',\n",
    "                                               'MonthlyCharges' : 'monthly_charges',\n",
    "                                               'TotalCharges' : 'total_charges',\n",
    "                                               'Churn' : 'churn'})"
   ]
  },
  {
   "cell_type": "code",
   "execution_count": null,
   "metadata": {
    "ExecuteTime": {
     "start_time": "2021-03-28T01:23:24.698Z"
    },
    "scrolled": true
   },
   "outputs": [],
   "source": [
    "raw_rename_columns_df.head(5)"
   ]
  },
  {
   "cell_type": "markdown",
   "metadata": {},
   "source": [
    "## Outlier"
   ]
  },
  {
   "cell_type": "markdown",
   "metadata": {},
   "source": [
    "### \n",
    "Tidak ada outlier"
   ]
  },
  {
   "cell_type": "code",
   "execution_count": null,
   "metadata": {
    "ExecuteTime": {
     "start_time": "2021-03-28T01:23:24.702Z"
    }
   },
   "outputs": [],
   "source": [
    "sns.set(rc={'figure.figsize':(10, 5)})\n",
    "ax = sns.boxplot(x=raw_rename_columns_df[\"tenure\"])"
   ]
  },
  {
   "cell_type": "markdown",
   "metadata": {},
   "source": [
    "### monthly_charges\n",
    "Tidak ada outlier"
   ]
  },
  {
   "cell_type": "code",
   "execution_count": null,
   "metadata": {
    "ExecuteTime": {
     "start_time": "2021-03-28T01:23:24.707Z"
    }
   },
   "outputs": [],
   "source": [
    "sns.set(rc={'figure.figsize':(10, 5)})\n",
    "ax = sns.boxplot(x=raw_rename_columns_df[\"monthly_charges\"])"
   ]
  },
  {
   "cell_type": "markdown",
   "metadata": {
    "ExecuteTime": {
     "end_time": "2021-03-27T09:11:59.920711Z",
     "start_time": "2021-03-27T09:11:59.911236Z"
    }
   },
   "source": [
    "### total_charges\n",
    "Tidak ada outlier"
   ]
  },
  {
   "cell_type": "code",
   "execution_count": null,
   "metadata": {
    "ExecuteTime": {
     "start_time": "2021-03-28T01:23:24.711Z"
    }
   },
   "outputs": [],
   "source": [
    "sns.set(rc={'figure.figsize':(10, 5)})\n",
    "ax = sns.boxplot(x=pd.to_numeric(raw_rename_columns_df['total_charges'], errors='coerce'))"
   ]
  },
  {
   "cell_type": "markdown",
   "metadata": {},
   "source": [
    "## Missing Value"
   ]
  },
  {
   "cell_type": "code",
   "execution_count": null,
   "metadata": {
    "ExecuteTime": {
     "start_time": "2021-03-28T01:23:24.716Z"
    }
   },
   "outputs": [],
   "source": [
    "raw_rename_columns_df.isna().sum().to_frame().rename(columns={0 : 'Number of Missing Value (%)'})"
   ]
  },
  {
   "cell_type": "markdown",
   "metadata": {},
   "source": [
    "## Duplicate Value"
   ]
  },
  {
   "cell_type": "code",
   "execution_count": null,
   "metadata": {
    "ExecuteTime": {
     "start_time": "2021-03-28T01:23:24.720Z"
    }
   },
   "outputs": [],
   "source": [
    "print(f'Number of duplicate value : {raw_rename_columns_df.duplicated().sum()}')"
   ]
  },
  {
   "cell_type": "markdown",
   "metadata": {},
   "source": [
    "## Mismatch Value\n",
    "Pada fitur total_charges datatype nya adalah object, yang seharusnya float."
   ]
  },
  {
   "cell_type": "code",
   "execution_count": null,
   "metadata": {
    "ExecuteTime": {
     "start_time": "2021-03-28T01:23:24.725Z"
    }
   },
   "outputs": [],
   "source": [
    "raw_rename_columns_df.dtypes.to_frame().rename(columns={0 : 'Datatype'})"
   ]
  },
  {
   "cell_type": "code",
   "execution_count": null,
   "metadata": {
    "ExecuteTime": {
     "start_time": "2021-03-28T01:23:24.730Z"
    }
   },
   "outputs": [],
   "source": [
    "raw_rename_columns_df['total_charges'] = pd.to_numeric(raw_rename_columns_df['total_charges'], errors='coerce')\n",
    "raw_mismatch_value_df = raw_rename_columns_df"
   ]
  },
  {
   "cell_type": "code",
   "execution_count": null,
   "metadata": {
    "ExecuteTime": {
     "start_time": "2021-03-28T01:23:24.735Z"
    }
   },
   "outputs": [],
   "source": [
    "raw_rename_columns_df.dtypes.to_frame().rename(columns={0 : 'Datatype'})"
   ]
  },
  {
   "cell_type": "markdown",
   "metadata": {
    "slideshow": {
     "slide_type": "slide"
    }
   },
   "source": [
    "# Feature Engineering"
   ]
  },
  {
   "cell_type": "code",
   "execution_count": null,
   "metadata": {
    "ExecuteTime": {
     "start_time": "2021-03-28T01:23:24.741Z"
    }
   },
   "outputs": [],
   "source": [
    "raw_feature_tranformation_df = raw_mismatch_value_df"
   ]
  },
  {
   "cell_type": "code",
   "execution_count": null,
   "metadata": {
    "ExecuteTime": {
     "start_time": "2021-03-28T01:23:24.745Z"
    }
   },
   "outputs": [],
   "source": [
    "raw_feature_tranformation_df.head(1)"
   ]
  },
  {
   "cell_type": "markdown",
   "metadata": {
    "slideshow": {
     "slide_type": "-"
    }
   },
   "source": [
    "## Feature Transformation"
   ]
  },
  {
   "cell_type": "markdown",
   "metadata": {},
   "source": [
    "### Binary Lable"
   ]
  },
  {
   "cell_type": "markdown",
   "metadata": {},
   "source": [
    "#### gender"
   ]
  },
  {
   "cell_type": "code",
   "execution_count": null,
   "metadata": {
    "ExecuteTime": {
     "start_time": "2021-03-28T01:23:24.749Z"
    }
   },
   "outputs": [],
   "source": [
    "gender_lb = preprocessing.LabelBinarizer()\n",
    "gender_lb.fit(raw_feature_tranformation_df['gender'])\n",
    "gender_lb.classes_"
   ]
  },
  {
   "cell_type": "code",
   "execution_count": null,
   "metadata": {
    "ExecuteTime": {
     "start_time": "2021-03-28T01:23:24.753Z"
    }
   },
   "outputs": [],
   "source": [
    "raw_feature_tranformation_df['gender'] = gender_lb.transform(raw_mismatch_value_df['gender'])"
   ]
  },
  {
   "cell_type": "markdown",
   "metadata": {},
   "source": [
    "#### partner"
   ]
  },
  {
   "cell_type": "code",
   "execution_count": null,
   "metadata": {
    "ExecuteTime": {
     "start_time": "2021-03-28T01:23:24.757Z"
    }
   },
   "outputs": [],
   "source": [
    "partner_lb = preprocessing.LabelBinarizer()\n",
    "partner_lb.fit(raw_feature_tranformation_df['partner'])\n",
    "partner_lb.classes_"
   ]
  },
  {
   "cell_type": "code",
   "execution_count": null,
   "metadata": {
    "ExecuteTime": {
     "start_time": "2021-03-28T01:23:24.760Z"
    }
   },
   "outputs": [],
   "source": [
    "raw_feature_tranformation_df['partner'] = gender_lb.transform(raw_mismatch_value_df['partner'])"
   ]
  },
  {
   "cell_type": "markdown",
   "metadata": {},
   "source": [
    "#### dependents"
   ]
  },
  {
   "cell_type": "code",
   "execution_count": null,
   "metadata": {
    "ExecuteTime": {
     "start_time": "2021-03-28T01:23:24.764Z"
    }
   },
   "outputs": [],
   "source": [
    "dependents_lb = preprocessing.LabelBinarizer()\n",
    "dependents_lb.fit(raw_feature_tranformation_df['dependents'])\n",
    "dependents_lb.classes_"
   ]
  },
  {
   "cell_type": "code",
   "execution_count": null,
   "metadata": {
    "ExecuteTime": {
     "start_time": "2021-03-28T01:23:24.767Z"
    }
   },
   "outputs": [],
   "source": [
    "raw_feature_tranformation_df['dependents'] = gender_lb.transform(raw_mismatch_value_df['dependents'])"
   ]
  },
  {
   "cell_type": "markdown",
   "metadata": {},
   "source": [
    "#### phone_service"
   ]
  },
  {
   "cell_type": "code",
   "execution_count": null,
   "metadata": {
    "ExecuteTime": {
     "start_time": "2021-03-28T01:23:24.772Z"
    }
   },
   "outputs": [],
   "source": [
    "phone_service_lb = preprocessing.LabelBinarizer()\n",
    "phone_service_lb.fit(raw_feature_tranformation_df['phone_service'])\n",
    "phone_service_lb.classes_"
   ]
  },
  {
   "cell_type": "code",
   "execution_count": null,
   "metadata": {
    "ExecuteTime": {
     "start_time": "2021-03-28T01:23:24.775Z"
    }
   },
   "outputs": [],
   "source": [
    "raw_feature_tranformation_df['phone_service'] = gender_lb.transform(raw_mismatch_value_df['phone_service'])"
   ]
  },
  {
   "cell_type": "markdown",
   "metadata": {},
   "source": [
    "#### paperless_billing"
   ]
  },
  {
   "cell_type": "code",
   "execution_count": null,
   "metadata": {
    "ExecuteTime": {
     "start_time": "2021-03-28T01:23:24.778Z"
    }
   },
   "outputs": [],
   "source": [
    "paperless_billing_lb = preprocessing.LabelBinarizer()\n",
    "paperless_billing_lb.fit(raw_feature_tranformation_df['paperless_billing'])\n",
    "paperless_billing_lb.classes_"
   ]
  },
  {
   "cell_type": "code",
   "execution_count": null,
   "metadata": {
    "ExecuteTime": {
     "start_time": "2021-03-28T01:23:24.782Z"
    }
   },
   "outputs": [],
   "source": [
    "raw_feature_tranformation_df['paperless_billing'] = paperless_billing_lb.transform(raw_mismatch_value_df['paperless_billing'])"
   ]
  },
  {
   "cell_type": "markdown",
   "metadata": {},
   "source": [
    "#### churn"
   ]
  },
  {
   "cell_type": "code",
   "execution_count": null,
   "metadata": {
    "ExecuteTime": {
     "start_time": "2021-03-28T01:23:24.786Z"
    }
   },
   "outputs": [],
   "source": [
    "churn_lb = preprocessing.LabelBinarizer()\n",
    "churn_lb.fit(raw_feature_tranformation_df['churn'])\n",
    "churn_lb.classes_"
   ]
  },
  {
   "cell_type": "code",
   "execution_count": null,
   "metadata": {
    "ExecuteTime": {
     "start_time": "2021-03-28T01:23:24.790Z"
    }
   },
   "outputs": [],
   "source": [
    "raw_feature_tranformation_df['churn'] = churn_lb.transform(raw_mismatch_value_df['churn'])"
   ]
  },
  {
   "cell_type": "markdown",
   "metadata": {},
   "source": [
    "### Multiple Lable"
   ]
  },
  {
   "cell_type": "markdown",
   "metadata": {},
   "source": [
    "#### multiple_lines"
   ]
  },
  {
   "cell_type": "code",
   "execution_count": null,
   "metadata": {
    "ExecuteTime": {
     "start_time": "2021-03-28T01:23:24.793Z"
    }
   },
   "outputs": [],
   "source": [
    "multiple_lines_lb = preprocessing.LabelBinarizer()\n",
    "multiple_lines_lb.fit(raw_feature_tranformation_df['multiple_lines'])\n",
    "multiple_lines_lb.classes_"
   ]
  },
  {
   "cell_type": "code",
   "execution_count": null,
   "metadata": {
    "ExecuteTime": {
     "start_time": "2021-03-28T01:23:24.797Z"
    }
   },
   "outputs": [],
   "source": [
    "raw_feature_tranformation_df['multiple_lines'] = multiple_lines_lb.transform(raw_mismatch_value_df['multiple_lines'])"
   ]
  },
  {
   "cell_type": "markdown",
   "metadata": {},
   "source": [
    "#### internet_service"
   ]
  },
  {
   "cell_type": "code",
   "execution_count": null,
   "metadata": {
    "ExecuteTime": {
     "start_time": "2021-03-28T01:23:24.801Z"
    }
   },
   "outputs": [],
   "source": [
    "internet_sevice_le = preprocessing.LabelEncoder()\n",
    "internet_sevice_le.fit(raw_feature_tranformation_df['internet_service'])\n",
    "internet_sevice_le.classes_"
   ]
  },
  {
   "cell_type": "code",
   "execution_count": null,
   "metadata": {
    "ExecuteTime": {
     "start_time": "2021-03-28T01:23:24.804Z"
    }
   },
   "outputs": [],
   "source": [
    "raw_feature_tranformation_df['internet_service'] = internet_sevice_le.transform(raw_mismatch_value_df['internet_service'])"
   ]
  },
  {
   "cell_type": "markdown",
   "metadata": {},
   "source": [
    "#### online_security"
   ]
  },
  {
   "cell_type": "code",
   "execution_count": null,
   "metadata": {
    "ExecuteTime": {
     "start_time": "2021-03-28T01:23:24.808Z"
    }
   },
   "outputs": [],
   "source": [
    "online_security_lb = preprocessing.LabelEncoder()\n",
    "online_security_lb.fit(raw_feature_tranformation_df['online_security'])\n",
    "online_security_lb.classes_"
   ]
  },
  {
   "cell_type": "code",
   "execution_count": null,
   "metadata": {
    "ExecuteTime": {
     "start_time": "2021-03-28T01:23:24.811Z"
    }
   },
   "outputs": [],
   "source": [
    "raw_feature_tranformation_df['online_security'] = online_security_lb.transform(raw_mismatch_value_df['online_security'])"
   ]
  },
  {
   "cell_type": "markdown",
   "metadata": {
    "ExecuteTime": {
     "end_time": "2021-03-21T15:09:30.063145Z",
     "start_time": "2021-03-21T15:09:30.048584Z"
    }
   },
   "source": [
    "#### online_backup"
   ]
  },
  {
   "cell_type": "code",
   "execution_count": null,
   "metadata": {
    "ExecuteTime": {
     "start_time": "2021-03-28T01:23:24.815Z"
    }
   },
   "outputs": [],
   "source": [
    "online_backup_lb = preprocessing.LabelEncoder()\n",
    "online_backup_lb.fit(raw_feature_tranformation_df['online_backup'])\n",
    "online_backup_lb.classes_"
   ]
  },
  {
   "cell_type": "code",
   "execution_count": null,
   "metadata": {
    "ExecuteTime": {
     "start_time": "2021-03-28T01:23:24.818Z"
    }
   },
   "outputs": [],
   "source": [
    "raw_feature_tranformation_df['online_backup'] = online_backup_lb.transform(raw_mismatch_value_df['online_backup'])"
   ]
  },
  {
   "cell_type": "markdown",
   "metadata": {},
   "source": [
    "#### device_protection"
   ]
  },
  {
   "cell_type": "code",
   "execution_count": null,
   "metadata": {
    "ExecuteTime": {
     "start_time": "2021-03-28T01:23:24.822Z"
    }
   },
   "outputs": [],
   "source": [
    "device_protection_lb = preprocessing.LabelBinarizer()\n",
    "device_protection_lb.fit(raw_feature_tranformation_df['device_protection'])\n",
    "device_protection_lb.classes_"
   ]
  },
  {
   "cell_type": "code",
   "execution_count": null,
   "metadata": {
    "ExecuteTime": {
     "start_time": "2021-03-28T01:23:24.826Z"
    }
   },
   "outputs": [],
   "source": [
    "raw_feature_tranformation_df['device_protection'] = device_protection_lb.transform(raw_mismatch_value_df['device_protection'])"
   ]
  },
  {
   "cell_type": "markdown",
   "metadata": {},
   "source": [
    "#### tech_support"
   ]
  },
  {
   "cell_type": "code",
   "execution_count": null,
   "metadata": {
    "ExecuteTime": {
     "start_time": "2021-03-28T01:23:24.830Z"
    }
   },
   "outputs": [],
   "source": [
    "tech_support_lb = preprocessing.LabelBinarizer()\n",
    "tech_support_lb.fit(raw_feature_tranformation_df['tech_support'])\n",
    "tech_support_lb.classes_"
   ]
  },
  {
   "cell_type": "code",
   "execution_count": null,
   "metadata": {
    "ExecuteTime": {
     "start_time": "2021-03-28T01:23:24.834Z"
    }
   },
   "outputs": [],
   "source": [
    "raw_feature_tranformation_df['tech_support'] = device_protection_lb.transform(raw_mismatch_value_df['tech_support'])"
   ]
  },
  {
   "cell_type": "markdown",
   "metadata": {},
   "source": [
    "#### streaming_movies"
   ]
  },
  {
   "cell_type": "code",
   "execution_count": null,
   "metadata": {
    "ExecuteTime": {
     "start_time": "2021-03-28T01:23:24.837Z"
    }
   },
   "outputs": [],
   "source": [
    "streaming_tv_lb = preprocessing.LabelBinarizer()\n",
    "streaming_tv_lb.fit(raw_feature_tranformation_df['streaming_tv'])\n",
    "streaming_tv_lb.classes_"
   ]
  },
  {
   "cell_type": "code",
   "execution_count": null,
   "metadata": {
    "ExecuteTime": {
     "start_time": "2021-03-28T01:23:24.841Z"
    }
   },
   "outputs": [],
   "source": [
    "raw_feature_tranformation_df['streaming_tv'] = streaming_tv_lb.transform(raw_mismatch_value_df['streaming_tv'])"
   ]
  },
  {
   "cell_type": "markdown",
   "metadata": {},
   "source": [
    "#### streaming_movies"
   ]
  },
  {
   "cell_type": "code",
   "execution_count": null,
   "metadata": {
    "ExecuteTime": {
     "start_time": "2021-03-28T01:23:24.846Z"
    }
   },
   "outputs": [],
   "source": [
    "streaming_movies_lb = preprocessing.LabelBinarizer()\n",
    "streaming_movies_lb.fit(raw_feature_tranformation_df['streaming_movies'])\n",
    "streaming_movies_lb.classes_"
   ]
  },
  {
   "cell_type": "code",
   "execution_count": null,
   "metadata": {
    "ExecuteTime": {
     "start_time": "2021-03-28T01:23:24.849Z"
    }
   },
   "outputs": [],
   "source": [
    "raw_feature_tranformation_df['streaming_movies'] = streaming_tv_lb.transform(raw_mismatch_value_df['streaming_movies'])"
   ]
  },
  {
   "cell_type": "markdown",
   "metadata": {},
   "source": [
    "#### contract"
   ]
  },
  {
   "cell_type": "code",
   "execution_count": null,
   "metadata": {
    "ExecuteTime": {
     "start_time": "2021-03-28T01:23:24.853Z"
    }
   },
   "outputs": [],
   "source": [
    "contract_le = preprocessing.LabelEncoder()\n",
    "contract_le.fit(raw_feature_tranformation_df['contract'])\n",
    "contract_le.classes_"
   ]
  },
  {
   "cell_type": "code",
   "execution_count": null,
   "metadata": {
    "ExecuteTime": {
     "start_time": "2021-03-28T01:23:24.856Z"
    }
   },
   "outputs": [],
   "source": [
    "raw_feature_tranformation_df['contract'] = contract_le.transform(raw_mismatch_value_df['contract'])"
   ]
  },
  {
   "cell_type": "markdown",
   "metadata": {},
   "source": [
    "#### payment_method"
   ]
  },
  {
   "cell_type": "code",
   "execution_count": null,
   "metadata": {
    "ExecuteTime": {
     "start_time": "2021-03-28T01:23:24.860Z"
    }
   },
   "outputs": [],
   "source": [
    "payment_method_le = preprocessing.LabelEncoder()\n",
    "payment_method_le.fit(raw_feature_tranformation_df['payment_method'])\n",
    "payment_method_le.classes_"
   ]
  },
  {
   "cell_type": "code",
   "execution_count": null,
   "metadata": {
    "ExecuteTime": {
     "start_time": "2021-03-28T01:23:24.863Z"
    }
   },
   "outputs": [],
   "source": [
    "raw_feature_tranformation_df['payment_method'] = payment_method_le.transform(raw_mismatch_value_df['payment_method'])"
   ]
  },
  {
   "cell_type": "markdown",
   "metadata": {},
   "source": [
    "### New feature"
   ]
  },
  {
   "cell_type": "markdown",
   "metadata": {},
   "source": [
    "#### total_charges\n",
    "Nilai dari feature tidak sesuai tidak sesuai dengan hasil kalkulasi dari tenure * monthly_charges. Maka akan dibuat dibuat fitur baru dari hasil perkalian tenure dan monthly_charges"
   ]
  },
  {
   "cell_type": "code",
   "execution_count": null,
   "metadata": {
    "ExecuteTime": {
     "start_time": "2021-03-28T01:23:24.867Z"
    }
   },
   "outputs": [],
   "source": [
    "raw_feature_tranformation_df.drop(['total_charges'], axis=1).head()"
   ]
  },
  {
   "cell_type": "code",
   "execution_count": null,
   "metadata": {
    "ExecuteTime": {
     "start_time": "2021-03-28T01:23:24.871Z"
    }
   },
   "outputs": [],
   "source": [
    "raw_feature_tranformation_df['total_charges'] = raw_feature_tranformation_df['tenure'] * raw_feature_tranformation_df['monthly_charges']"
   ]
  },
  {
   "cell_type": "code",
   "execution_count": null,
   "metadata": {
    "ExecuteTime": {
     "start_time": "2021-03-28T01:23:24.874Z"
    }
   },
   "outputs": [],
   "source": [
    "raw_feature_tranformation_df[['customer_id', 'gender', 'senior_citizen', 'partner', 'dependents',\n",
    "                              'tenure', 'phone_service', 'multiple_lines', 'internet_service',\n",
    "                              'online_security', 'online_backup', 'device_protection', 'tech_support',\n",
    "                              'streaming_tv', 'streaming_movies', 'contract', 'paperless_billing',\n",
    "                              'payment_method', 'monthly_charges', 'total_charges', 'churn',\n",
    "                             ]].head()"
   ]
  },
  {
   "cell_type": "code",
   "execution_count": null,
   "metadata": {
    "ExecuteTime": {
     "start_time": "2021-03-28T01:23:24.878Z"
    }
   },
   "outputs": [],
   "source": [
    "raw_feature_tranformation_df['customer_id'].duplicated().sum()"
   ]
  },
  {
   "cell_type": "markdown",
   "metadata": {},
   "source": [
    "## Feature Extraction"
   ]
  },
  {
   "cell_type": "code",
   "execution_count": null,
   "metadata": {
    "ExecuteTime": {
     "start_time": "2021-03-28T01:23:24.883Z"
    }
   },
   "outputs": [],
   "source": [
    "raw_feature_extraction_df = raw_feature_tranformation_df.drop(['customer_id', 'churn'], axis=1)"
   ]
  },
  {
   "cell_type": "markdown",
   "metadata": {},
   "source": [
    "### Principal Component Analysis"
   ]
  },
  {
   "cell_type": "code",
   "execution_count": null,
   "metadata": {
    "ExecuteTime": {
     "start_time": "2021-03-28T01:23:24.887Z"
    }
   },
   "outputs": [],
   "source": [
    "pca = PCA(n_components=19)\n",
    "pca.fit(raw_feature_extraction_df)"
   ]
  },
  {
   "cell_type": "code",
   "execution_count": null,
   "metadata": {
    "ExecuteTime": {
     "start_time": "2021-03-28T01:23:24.890Z"
    }
   },
   "outputs": [],
   "source": [
    "for component, explained_variance_ratio in enumerate(pca.explained_variance_ratio_):\n",
    "    print(f'{component + 1} component : {(explained_variance_ratio * 100):.4f}%')"
   ]
  },
  {
   "cell_type": "markdown",
   "metadata": {},
   "source": [
    "Dengan 1 component, explained variance yang dihasilkan sebesar 99.986%. Sehingga berhasil mereduksi dimensi sebanyak 18 dimensi, yang dimana dimensi awal sebanyak 19 dimensi."
   ]
  },
  {
   "cell_type": "markdown",
   "metadata": {
    "ExecuteTime": {
     "end_time": "2021-03-22T14:53:54.820525Z",
     "start_time": "2021-03-22T14:53:54.804922Z"
    }
   },
   "source": [
    "### Explained Variance Ratio Plot"
   ]
  },
  {
   "cell_type": "code",
   "execution_count": null,
   "metadata": {
    "ExecuteTime": {
     "start_time": "2021-03-28T01:23:24.894Z"
    }
   },
   "outputs": [],
   "source": [
    "pca = PCA().fit(raw_feature_extraction_df)\n",
    "\n",
    "plt.plot(np.cumsum(pca.explained_variance_ratio_))\n",
    "\n",
    "plt.xlabel('Number of components')\n",
    "plt.ylabel('Cumulative explained variance');"
   ]
  },
  {
   "cell_type": "markdown",
   "metadata": {
    "ExecuteTime": {
     "end_time": "2021-03-22T15:54:21.929060Z",
     "start_time": "2021-03-22T15:54:21.913420Z"
    }
   },
   "source": [
    "### Show Component in Table"
   ]
  },
  {
   "cell_type": "code",
   "execution_count": null,
   "metadata": {
    "ExecuteTime": {
     "start_time": "2021-03-28T01:23:24.899Z"
    },
    "scrolled": true
   },
   "outputs": [],
   "source": [
    "pca = PCA()\n",
    "\n",
    "X_pca = pca.fit_transform(raw_feature_extraction_df)\n",
    "\n",
    "component_names = [f\"PC{i+1}\" for i in range(X_pca.shape[1])]\n",
    "X_pca = pd.DataFrame(X_pca, columns=component_names)\n",
    "\n",
    "X_pca.head()"
   ]
  },
  {
   "cell_type": "markdown",
   "metadata": {},
   "source": [
    "### Factor Loading"
   ]
  },
  {
   "cell_type": "code",
   "execution_count": null,
   "metadata": {
    "ExecuteTime": {
     "start_time": "2021-03-28T01:23:24.903Z"
    },
    "scrolled": false
   },
   "outputs": [],
   "source": [
    "factor_loadings = pd.DataFrame(\n",
    "    pca.components_.T,\n",
    "    \n",
    "    columns =component_names,\n",
    "    index   =raw_feature_extraction_df.columns,\n",
    ")\n",
    "\n",
    "factor_loadings"
   ]
  },
  {
   "cell_type": "markdown",
   "metadata": {},
   "source": [
    "### Concate PCA Value with Churn Feature"
   ]
  },
  {
   "cell_type": "code",
   "execution_count": null,
   "metadata": {
    "ExecuteTime": {
     "start_time": "2021-03-28T01:23:24.908Z"
    }
   },
   "outputs": [],
   "source": [
    "PCA_df = pd.concat([X_pca, raw_feature_tranformation_df['churn']], axis=1)\n",
    "PCA_df.head()"
   ]
  },
  {
   "cell_type": "markdown",
   "metadata": {},
   "source": [
    "### Save PCA Value"
   ]
  },
  {
   "cell_type": "code",
   "execution_count": null,
   "metadata": {
    "ExecuteTime": {
     "start_time": "2021-03-28T01:23:24.912Z"
    }
   },
   "outputs": [],
   "source": [
    "PCA_df.to_csv('../datasets/PCA_df.csv', index=False)"
   ]
  },
  {
   "cell_type": "markdown",
   "metadata": {
    "ExecuteTime": {
     "end_time": "2021-03-21T13:25:23.036536Z",
     "start_time": "2021-03-21T13:25:23.026745Z"
    }
   },
   "source": [
    "## Feature Selection"
   ]
  },
  {
   "cell_type": "code",
   "execution_count": null,
   "metadata": {
    "ExecuteTime": {
     "start_time": "2021-03-28T01:23:24.915Z"
    }
   },
   "outputs": [],
   "source": [
    "raw_feature_selection_df = raw_feature_tranformation_df"
   ]
  },
  {
   "cell_type": "markdown",
   "metadata": {},
   "source": [
    "### Pearson Correlation"
   ]
  },
  {
   "cell_type": "code",
   "execution_count": null,
   "metadata": {
    "ExecuteTime": {
     "start_time": "2021-03-28T01:23:24.919Z"
    }
   },
   "outputs": [],
   "source": [
    "sns.set(rc={'figure.figsize':(20, 20)})\n",
    "sns.heatmap(raw_feature_selection_df.corr(), annot=True)"
   ]
  },
  {
   "cell_type": "markdown",
   "metadata": {},
   "source": [
    "### Spearman Correlation (Non-Linier)"
   ]
  },
  {
   "cell_type": "code",
   "execution_count": null,
   "metadata": {
    "ExecuteTime": {
     "start_time": "2021-03-28T01:23:24.924Z"
    }
   },
   "outputs": [],
   "source": [
    "sns.heatmap(raw_feature_selection_df.corr('spearman'), annot=True)"
   ]
  },
  {
   "cell_type": "markdown",
   "metadata": {},
   "source": [
    "### Seleksi fitur berdasarkan korelasi yang positif terhadap target churn"
   ]
  },
  {
   "cell_type": "code",
   "execution_count": null,
   "metadata": {
    "ExecuteTime": {
     "start_time": "2021-03-28T01:23:24.928Z"
    }
   },
   "outputs": [],
   "source": [
    "raw_feature_selection_df = raw_feature_tranformation_df[['senior_citizen', 'dependents', 'multiple_lines', 'streaming_tv', 'streaming_movies', 'paperless_billing', 'payment_method', 'monthly_charges', 'churn']]"
   ]
  },
  {
   "cell_type": "code",
   "execution_count": null,
   "metadata": {
    "ExecuteTime": {
     "start_time": "2021-03-28T01:23:24.931Z"
    }
   },
   "outputs": [],
   "source": [
    "raw_feature_selection_df.head()"
   ]
  },
  {
   "cell_type": "markdown",
   "metadata": {},
   "source": [
    "### Save feature selection"
   ]
  },
  {
   "cell_type": "code",
   "execution_count": null,
   "metadata": {
    "ExecuteTime": {
     "start_time": "2021-03-28T01:23:24.936Z"
    }
   },
   "outputs": [],
   "source": [
    "raw_feature_selection_df.to_csv('../datasets/raw_feature_engineering.csv')"
   ]
  }
 ],
 "metadata": {
  "celltoolbar": "Slideshow",
  "kernelspec": {
   "display_name": "Python 3",
   "language": "python",
   "name": "python3"
  },
  "language_info": {
   "codemirror_mode": {
    "name": "ipython",
    "version": 3
   },
   "file_extension": ".py",
   "mimetype": "text/x-python",
   "name": "python",
   "nbconvert_exporter": "python",
   "pygments_lexer": "ipython3",
   "version": "3.8.5"
  },
  "toc": {
   "base_numbering": 1,
   "nav_menu": {},
   "number_sections": true,
   "sideBar": true,
   "skip_h1_title": false,
   "title_cell": "Table of Contents",
   "title_sidebar": "Contents",
   "toc_cell": false,
   "toc_position": {
    "height": "calc(100% - 180px)",
    "left": "10px",
    "top": "150px",
    "width": "276px"
   },
   "toc_section_display": true,
   "toc_window_display": true
  }
 },
 "nbformat": 4,
 "nbformat_minor": 4
}
