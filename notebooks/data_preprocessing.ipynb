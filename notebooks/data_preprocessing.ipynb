{
 "cells": [
  {
   "cell_type": "markdown",
   "metadata": {},
   "source": [
    "# Import Modules"
   ]
  },
  {
   "cell_type": "code",
   "execution_count": 1,
   "metadata": {
    "ExecuteTime": {
     "end_time": "2021-03-22T16:36:21.263312Z",
     "start_time": "2021-03-22T16:36:18.101536Z"
    }
   },
   "outputs": [],
   "source": [
    "import numpy as np\n",
    "import pandas as pd\n",
    "import seaborn as sns;\n",
    "import matplotlib.pyplot as plt\n",
    "\n",
    "from sklearn import preprocessing\n",
    "from sklearn.decomposition import PCA\n",
    "\n",
    "pd.set_option('display.max_columns', 21)"
   ]
  },
  {
   "cell_type": "markdown",
   "metadata": {},
   "source": [
    "# Raw Dataset"
   ]
  },
  {
   "cell_type": "code",
   "execution_count": 2,
   "metadata": {
    "ExecuteTime": {
     "end_time": "2021-03-22T16:36:21.341291Z",
     "start_time": "2021-03-22T16:36:21.270312Z"
    }
   },
   "outputs": [],
   "source": [
    "raw_df = pd.read_csv(\"../../datasets/apping/WA_Fn-UseC_-Telco-Customer-Churn.csv\")"
   ]
  },
  {
   "cell_type": "markdown",
   "metadata": {},
   "source": [
    "## Table"
   ]
  },
  {
   "cell_type": "code",
   "execution_count": 3,
   "metadata": {
    "ExecuteTime": {
     "end_time": "2021-03-22T16:36:21.388617Z",
     "start_time": "2021-03-22T16:36:21.344293Z"
    }
   },
   "outputs": [
    {
     "data": {
      "text/html": [
       "<div>\n",
       "<style scoped>\n",
       "    .dataframe tbody tr th:only-of-type {\n",
       "        vertical-align: middle;\n",
       "    }\n",
       "\n",
       "    .dataframe tbody tr th {\n",
       "        vertical-align: top;\n",
       "    }\n",
       "\n",
       "    .dataframe thead th {\n",
       "        text-align: right;\n",
       "    }\n",
       "</style>\n",
       "<table border=\"1\" class=\"dataframe\">\n",
       "  <thead>\n",
       "    <tr style=\"text-align: right;\">\n",
       "      <th></th>\n",
       "      <th>customerID</th>\n",
       "      <th>gender</th>\n",
       "      <th>SeniorCitizen</th>\n",
       "      <th>Partner</th>\n",
       "      <th>Dependents</th>\n",
       "      <th>tenure</th>\n",
       "      <th>PhoneService</th>\n",
       "      <th>MultipleLines</th>\n",
       "      <th>InternetService</th>\n",
       "      <th>OnlineSecurity</th>\n",
       "      <th>OnlineBackup</th>\n",
       "      <th>DeviceProtection</th>\n",
       "      <th>TechSupport</th>\n",
       "      <th>StreamingTV</th>\n",
       "      <th>StreamingMovies</th>\n",
       "      <th>Contract</th>\n",
       "      <th>PaperlessBilling</th>\n",
       "      <th>PaymentMethod</th>\n",
       "      <th>MonthlyCharges</th>\n",
       "      <th>TotalCharges</th>\n",
       "      <th>Churn</th>\n",
       "    </tr>\n",
       "  </thead>\n",
       "  <tbody>\n",
       "    <tr>\n",
       "      <th>0</th>\n",
       "      <td>7590-VHVEG</td>\n",
       "      <td>Female</td>\n",
       "      <td>0</td>\n",
       "      <td>Yes</td>\n",
       "      <td>No</td>\n",
       "      <td>1</td>\n",
       "      <td>No</td>\n",
       "      <td>No phone service</td>\n",
       "      <td>DSL</td>\n",
       "      <td>No</td>\n",
       "      <td>Yes</td>\n",
       "      <td>No</td>\n",
       "      <td>No</td>\n",
       "      <td>No</td>\n",
       "      <td>No</td>\n",
       "      <td>Month-to-month</td>\n",
       "      <td>Yes</td>\n",
       "      <td>Electronic check</td>\n",
       "      <td>29.85</td>\n",
       "      <td>29.85</td>\n",
       "      <td>No</td>\n",
       "    </tr>\n",
       "    <tr>\n",
       "      <th>1</th>\n",
       "      <td>5575-GNVDE</td>\n",
       "      <td>Male</td>\n",
       "      <td>0</td>\n",
       "      <td>No</td>\n",
       "      <td>No</td>\n",
       "      <td>34</td>\n",
       "      <td>Yes</td>\n",
       "      <td>No</td>\n",
       "      <td>DSL</td>\n",
       "      <td>Yes</td>\n",
       "      <td>No</td>\n",
       "      <td>Yes</td>\n",
       "      <td>No</td>\n",
       "      <td>No</td>\n",
       "      <td>No</td>\n",
       "      <td>One year</td>\n",
       "      <td>No</td>\n",
       "      <td>Mailed check</td>\n",
       "      <td>56.95</td>\n",
       "      <td>1889.5</td>\n",
       "      <td>No</td>\n",
       "    </tr>\n",
       "    <tr>\n",
       "      <th>2</th>\n",
       "      <td>3668-QPYBK</td>\n",
       "      <td>Male</td>\n",
       "      <td>0</td>\n",
       "      <td>No</td>\n",
       "      <td>No</td>\n",
       "      <td>2</td>\n",
       "      <td>Yes</td>\n",
       "      <td>No</td>\n",
       "      <td>DSL</td>\n",
       "      <td>Yes</td>\n",
       "      <td>Yes</td>\n",
       "      <td>No</td>\n",
       "      <td>No</td>\n",
       "      <td>No</td>\n",
       "      <td>No</td>\n",
       "      <td>Month-to-month</td>\n",
       "      <td>Yes</td>\n",
       "      <td>Mailed check</td>\n",
       "      <td>53.85</td>\n",
       "      <td>108.15</td>\n",
       "      <td>Yes</td>\n",
       "    </tr>\n",
       "    <tr>\n",
       "      <th>3</th>\n",
       "      <td>7795-CFOCW</td>\n",
       "      <td>Male</td>\n",
       "      <td>0</td>\n",
       "      <td>No</td>\n",
       "      <td>No</td>\n",
       "      <td>45</td>\n",
       "      <td>No</td>\n",
       "      <td>No phone service</td>\n",
       "      <td>DSL</td>\n",
       "      <td>Yes</td>\n",
       "      <td>No</td>\n",
       "      <td>Yes</td>\n",
       "      <td>Yes</td>\n",
       "      <td>No</td>\n",
       "      <td>No</td>\n",
       "      <td>One year</td>\n",
       "      <td>No</td>\n",
       "      <td>Bank transfer (automatic)</td>\n",
       "      <td>42.30</td>\n",
       "      <td>1840.75</td>\n",
       "      <td>No</td>\n",
       "    </tr>\n",
       "    <tr>\n",
       "      <th>4</th>\n",
       "      <td>9237-HQITU</td>\n",
       "      <td>Female</td>\n",
       "      <td>0</td>\n",
       "      <td>No</td>\n",
       "      <td>No</td>\n",
       "      <td>2</td>\n",
       "      <td>Yes</td>\n",
       "      <td>No</td>\n",
       "      <td>Fiber optic</td>\n",
       "      <td>No</td>\n",
       "      <td>No</td>\n",
       "      <td>No</td>\n",
       "      <td>No</td>\n",
       "      <td>No</td>\n",
       "      <td>No</td>\n",
       "      <td>Month-to-month</td>\n",
       "      <td>Yes</td>\n",
       "      <td>Electronic check</td>\n",
       "      <td>70.70</td>\n",
       "      <td>151.65</td>\n",
       "      <td>Yes</td>\n",
       "    </tr>\n",
       "  </tbody>\n",
       "</table>\n",
       "</div>"
      ],
      "text/plain": [
       "   customerID  gender  SeniorCitizen Partner Dependents  tenure PhoneService  \\\n",
       "0  7590-VHVEG  Female              0     Yes         No       1           No   \n",
       "1  5575-GNVDE    Male              0      No         No      34          Yes   \n",
       "2  3668-QPYBK    Male              0      No         No       2          Yes   \n",
       "3  7795-CFOCW    Male              0      No         No      45           No   \n",
       "4  9237-HQITU  Female              0      No         No       2          Yes   \n",
       "\n",
       "      MultipleLines InternetService OnlineSecurity OnlineBackup  \\\n",
       "0  No phone service             DSL             No          Yes   \n",
       "1                No             DSL            Yes           No   \n",
       "2                No             DSL            Yes          Yes   \n",
       "3  No phone service             DSL            Yes           No   \n",
       "4                No     Fiber optic             No           No   \n",
       "\n",
       "  DeviceProtection TechSupport StreamingTV StreamingMovies        Contract  \\\n",
       "0               No          No          No              No  Month-to-month   \n",
       "1              Yes          No          No              No        One year   \n",
       "2               No          No          No              No  Month-to-month   \n",
       "3              Yes         Yes          No              No        One year   \n",
       "4               No          No          No              No  Month-to-month   \n",
       "\n",
       "  PaperlessBilling              PaymentMethod  MonthlyCharges TotalCharges  \\\n",
       "0              Yes           Electronic check           29.85        29.85   \n",
       "1               No               Mailed check           56.95       1889.5   \n",
       "2              Yes               Mailed check           53.85       108.15   \n",
       "3               No  Bank transfer (automatic)           42.30      1840.75   \n",
       "4              Yes           Electronic check           70.70       151.65   \n",
       "\n",
       "  Churn  \n",
       "0    No  \n",
       "1    No  \n",
       "2   Yes  \n",
       "3    No  \n",
       "4   Yes  "
      ]
     },
     "execution_count": 3,
     "metadata": {},
     "output_type": "execute_result"
    }
   ],
   "source": [
    "raw_df.head()"
   ]
  },
  {
   "cell_type": "markdown",
   "metadata": {},
   "source": [
    "# Data Cleaning"
   ]
  },
  {
   "cell_type": "markdown",
   "metadata": {},
   "source": [
    "## Rename column"
   ]
  },
  {
   "cell_type": "code",
   "execution_count": 4,
   "metadata": {
    "ExecuteTime": {
     "end_time": "2021-03-22T16:36:21.420812Z",
     "start_time": "2021-03-22T16:36:21.394623Z"
    }
   },
   "outputs": [],
   "source": [
    "raw_rename_columns_df = raw_df.rename(columns={'customerID' : 'customer_id',\n",
    "                                               'SeniorCitizen' : 'senior_citizen',\n",
    "                                               'Partner' : 'partner',\n",
    "                                               'Dependents' : 'dependents',\n",
    "                                               'PhoneService' : 'phone_service',\n",
    "                                               'MultipleLines' : 'multiple_lines',\n",
    "                                               'InternetService' : 'internet_service',\n",
    "                                               'OnlineSecurity' : 'online_security',\n",
    "                                               'OnlineBackup' : 'online_backup',\n",
    "                                               'DeviceProtection' : 'device_protection',\n",
    "                                               'TechSupport' : 'tech_support',\n",
    "                                               'StreamingTV' : 'streaming_tv',\n",
    "                                               'StreamingMovies' : 'streaming_movies',\n",
    "                                               'Contract' : 'contract',\n",
    "                                               'PaperlessBilling' : 'paperless_billing',\n",
    "                                               'PaymentMethod' : 'payment_method',\n",
    "                                               'MonthlyCharges' : 'monthly_charges',\n",
    "                                               'TotalCharges' : 'total_charges',\n",
    "                                               'Churn' : 'churn'})"
   ]
  },
  {
   "cell_type": "code",
   "execution_count": 5,
   "metadata": {
    "ExecuteTime": {
     "end_time": "2021-03-22T16:36:21.467528Z",
     "start_time": "2021-03-22T16:36:21.423023Z"
    }
   },
   "outputs": [
    {
     "data": {
      "text/html": [
       "<div>\n",
       "<style scoped>\n",
       "    .dataframe tbody tr th:only-of-type {\n",
       "        vertical-align: middle;\n",
       "    }\n",
       "\n",
       "    .dataframe tbody tr th {\n",
       "        vertical-align: top;\n",
       "    }\n",
       "\n",
       "    .dataframe thead th {\n",
       "        text-align: right;\n",
       "    }\n",
       "</style>\n",
       "<table border=\"1\" class=\"dataframe\">\n",
       "  <thead>\n",
       "    <tr style=\"text-align: right;\">\n",
       "      <th></th>\n",
       "      <th>customer_id</th>\n",
       "      <th>gender</th>\n",
       "      <th>senior_citizen</th>\n",
       "      <th>partner</th>\n",
       "      <th>dependents</th>\n",
       "      <th>tenure</th>\n",
       "      <th>phone_service</th>\n",
       "      <th>multiple_lines</th>\n",
       "      <th>internet_service</th>\n",
       "      <th>online_security</th>\n",
       "      <th>online_backup</th>\n",
       "      <th>device_protection</th>\n",
       "      <th>tech_support</th>\n",
       "      <th>streaming_tv</th>\n",
       "      <th>streaming_movies</th>\n",
       "      <th>contract</th>\n",
       "      <th>paperless_billing</th>\n",
       "      <th>payment_method</th>\n",
       "      <th>monthly_charges</th>\n",
       "      <th>total_charges</th>\n",
       "      <th>churn</th>\n",
       "    </tr>\n",
       "  </thead>\n",
       "  <tbody>\n",
       "    <tr>\n",
       "      <th>0</th>\n",
       "      <td>7590-VHVEG</td>\n",
       "      <td>Female</td>\n",
       "      <td>0</td>\n",
       "      <td>Yes</td>\n",
       "      <td>No</td>\n",
       "      <td>1</td>\n",
       "      <td>No</td>\n",
       "      <td>No phone service</td>\n",
       "      <td>DSL</td>\n",
       "      <td>No</td>\n",
       "      <td>Yes</td>\n",
       "      <td>No</td>\n",
       "      <td>No</td>\n",
       "      <td>No</td>\n",
       "      <td>No</td>\n",
       "      <td>Month-to-month</td>\n",
       "      <td>Yes</td>\n",
       "      <td>Electronic check</td>\n",
       "      <td>29.85</td>\n",
       "      <td>29.85</td>\n",
       "      <td>No</td>\n",
       "    </tr>\n",
       "    <tr>\n",
       "      <th>1</th>\n",
       "      <td>5575-GNVDE</td>\n",
       "      <td>Male</td>\n",
       "      <td>0</td>\n",
       "      <td>No</td>\n",
       "      <td>No</td>\n",
       "      <td>34</td>\n",
       "      <td>Yes</td>\n",
       "      <td>No</td>\n",
       "      <td>DSL</td>\n",
       "      <td>Yes</td>\n",
       "      <td>No</td>\n",
       "      <td>Yes</td>\n",
       "      <td>No</td>\n",
       "      <td>No</td>\n",
       "      <td>No</td>\n",
       "      <td>One year</td>\n",
       "      <td>No</td>\n",
       "      <td>Mailed check</td>\n",
       "      <td>56.95</td>\n",
       "      <td>1889.5</td>\n",
       "      <td>No</td>\n",
       "    </tr>\n",
       "    <tr>\n",
       "      <th>2</th>\n",
       "      <td>3668-QPYBK</td>\n",
       "      <td>Male</td>\n",
       "      <td>0</td>\n",
       "      <td>No</td>\n",
       "      <td>No</td>\n",
       "      <td>2</td>\n",
       "      <td>Yes</td>\n",
       "      <td>No</td>\n",
       "      <td>DSL</td>\n",
       "      <td>Yes</td>\n",
       "      <td>Yes</td>\n",
       "      <td>No</td>\n",
       "      <td>No</td>\n",
       "      <td>No</td>\n",
       "      <td>No</td>\n",
       "      <td>Month-to-month</td>\n",
       "      <td>Yes</td>\n",
       "      <td>Mailed check</td>\n",
       "      <td>53.85</td>\n",
       "      <td>108.15</td>\n",
       "      <td>Yes</td>\n",
       "    </tr>\n",
       "    <tr>\n",
       "      <th>3</th>\n",
       "      <td>7795-CFOCW</td>\n",
       "      <td>Male</td>\n",
       "      <td>0</td>\n",
       "      <td>No</td>\n",
       "      <td>No</td>\n",
       "      <td>45</td>\n",
       "      <td>No</td>\n",
       "      <td>No phone service</td>\n",
       "      <td>DSL</td>\n",
       "      <td>Yes</td>\n",
       "      <td>No</td>\n",
       "      <td>Yes</td>\n",
       "      <td>Yes</td>\n",
       "      <td>No</td>\n",
       "      <td>No</td>\n",
       "      <td>One year</td>\n",
       "      <td>No</td>\n",
       "      <td>Bank transfer (automatic)</td>\n",
       "      <td>42.30</td>\n",
       "      <td>1840.75</td>\n",
       "      <td>No</td>\n",
       "    </tr>\n",
       "    <tr>\n",
       "      <th>4</th>\n",
       "      <td>9237-HQITU</td>\n",
       "      <td>Female</td>\n",
       "      <td>0</td>\n",
       "      <td>No</td>\n",
       "      <td>No</td>\n",
       "      <td>2</td>\n",
       "      <td>Yes</td>\n",
       "      <td>No</td>\n",
       "      <td>Fiber optic</td>\n",
       "      <td>No</td>\n",
       "      <td>No</td>\n",
       "      <td>No</td>\n",
       "      <td>No</td>\n",
       "      <td>No</td>\n",
       "      <td>No</td>\n",
       "      <td>Month-to-month</td>\n",
       "      <td>Yes</td>\n",
       "      <td>Electronic check</td>\n",
       "      <td>70.70</td>\n",
       "      <td>151.65</td>\n",
       "      <td>Yes</td>\n",
       "    </tr>\n",
       "  </tbody>\n",
       "</table>\n",
       "</div>"
      ],
      "text/plain": [
       "  customer_id  gender  senior_citizen partner dependents  tenure  \\\n",
       "0  7590-VHVEG  Female               0     Yes         No       1   \n",
       "1  5575-GNVDE    Male               0      No         No      34   \n",
       "2  3668-QPYBK    Male               0      No         No       2   \n",
       "3  7795-CFOCW    Male               0      No         No      45   \n",
       "4  9237-HQITU  Female               0      No         No       2   \n",
       "\n",
       "  phone_service    multiple_lines internet_service online_security  \\\n",
       "0            No  No phone service              DSL              No   \n",
       "1           Yes                No              DSL             Yes   \n",
       "2           Yes                No              DSL             Yes   \n",
       "3            No  No phone service              DSL             Yes   \n",
       "4           Yes                No      Fiber optic              No   \n",
       "\n",
       "  online_backup device_protection tech_support streaming_tv streaming_movies  \\\n",
       "0           Yes                No           No           No               No   \n",
       "1            No               Yes           No           No               No   \n",
       "2           Yes                No           No           No               No   \n",
       "3            No               Yes          Yes           No               No   \n",
       "4            No                No           No           No               No   \n",
       "\n",
       "         contract paperless_billing             payment_method  \\\n",
       "0  Month-to-month               Yes           Electronic check   \n",
       "1        One year                No               Mailed check   \n",
       "2  Month-to-month               Yes               Mailed check   \n",
       "3        One year                No  Bank transfer (automatic)   \n",
       "4  Month-to-month               Yes           Electronic check   \n",
       "\n",
       "   monthly_charges total_charges churn  \n",
       "0            29.85         29.85    No  \n",
       "1            56.95        1889.5    No  \n",
       "2            53.85        108.15   Yes  \n",
       "3            42.30       1840.75    No  \n",
       "4            70.70        151.65   Yes  "
      ]
     },
     "execution_count": 5,
     "metadata": {},
     "output_type": "execute_result"
    }
   ],
   "source": [
    "raw_rename_columns_df.head(5)"
   ]
  },
  {
   "cell_type": "markdown",
   "metadata": {},
   "source": [
    "## Replace value"
   ]
  },
  {
   "cell_type": "code",
   "execution_count": 6,
   "metadata": {
    "ExecuteTime": {
     "end_time": "2021-03-22T16:36:21.530155Z",
     "start_time": "2021-03-22T16:36:21.470531Z"
    }
   },
   "outputs": [],
   "source": [
    "raw_replace_value_df = raw_rename_columns_df.replace({'No phone service' : 'No', 'No internet service' : 'No'})"
   ]
  },
  {
   "cell_type": "code",
   "execution_count": 7,
   "metadata": {
    "ExecuteTime": {
     "end_time": "2021-03-22T16:36:21.608886Z",
     "start_time": "2021-03-22T16:36:21.537440Z"
    }
   },
   "outputs": [
    {
     "data": {
      "text/html": [
       "<div>\n",
       "<style scoped>\n",
       "    .dataframe tbody tr th:only-of-type {\n",
       "        vertical-align: middle;\n",
       "    }\n",
       "\n",
       "    .dataframe tbody tr th {\n",
       "        vertical-align: top;\n",
       "    }\n",
       "\n",
       "    .dataframe thead th {\n",
       "        text-align: right;\n",
       "    }\n",
       "</style>\n",
       "<table border=\"1\" class=\"dataframe\">\n",
       "  <thead>\n",
       "    <tr style=\"text-align: right;\">\n",
       "      <th></th>\n",
       "      <th>customer_id</th>\n",
       "      <th>gender</th>\n",
       "      <th>senior_citizen</th>\n",
       "      <th>partner</th>\n",
       "      <th>dependents</th>\n",
       "      <th>tenure</th>\n",
       "      <th>phone_service</th>\n",
       "      <th>multiple_lines</th>\n",
       "      <th>internet_service</th>\n",
       "      <th>online_security</th>\n",
       "      <th>online_backup</th>\n",
       "      <th>device_protection</th>\n",
       "      <th>tech_support</th>\n",
       "      <th>streaming_tv</th>\n",
       "      <th>streaming_movies</th>\n",
       "      <th>contract</th>\n",
       "      <th>paperless_billing</th>\n",
       "      <th>payment_method</th>\n",
       "      <th>monthly_charges</th>\n",
       "      <th>total_charges</th>\n",
       "      <th>churn</th>\n",
       "    </tr>\n",
       "  </thead>\n",
       "  <tbody>\n",
       "    <tr>\n",
       "      <th>0</th>\n",
       "      <td>7590-VHVEG</td>\n",
       "      <td>Female</td>\n",
       "      <td>0</td>\n",
       "      <td>Yes</td>\n",
       "      <td>No</td>\n",
       "      <td>1</td>\n",
       "      <td>No</td>\n",
       "      <td>No</td>\n",
       "      <td>DSL</td>\n",
       "      <td>No</td>\n",
       "      <td>Yes</td>\n",
       "      <td>No</td>\n",
       "      <td>No</td>\n",
       "      <td>No</td>\n",
       "      <td>No</td>\n",
       "      <td>Month-to-month</td>\n",
       "      <td>Yes</td>\n",
       "      <td>Electronic check</td>\n",
       "      <td>29.85</td>\n",
       "      <td>29.85</td>\n",
       "      <td>No</td>\n",
       "    </tr>\n",
       "    <tr>\n",
       "      <th>1</th>\n",
       "      <td>5575-GNVDE</td>\n",
       "      <td>Male</td>\n",
       "      <td>0</td>\n",
       "      <td>No</td>\n",
       "      <td>No</td>\n",
       "      <td>34</td>\n",
       "      <td>Yes</td>\n",
       "      <td>No</td>\n",
       "      <td>DSL</td>\n",
       "      <td>Yes</td>\n",
       "      <td>No</td>\n",
       "      <td>Yes</td>\n",
       "      <td>No</td>\n",
       "      <td>No</td>\n",
       "      <td>No</td>\n",
       "      <td>One year</td>\n",
       "      <td>No</td>\n",
       "      <td>Mailed check</td>\n",
       "      <td>56.95</td>\n",
       "      <td>1889.5</td>\n",
       "      <td>No</td>\n",
       "    </tr>\n",
       "    <tr>\n",
       "      <th>2</th>\n",
       "      <td>3668-QPYBK</td>\n",
       "      <td>Male</td>\n",
       "      <td>0</td>\n",
       "      <td>No</td>\n",
       "      <td>No</td>\n",
       "      <td>2</td>\n",
       "      <td>Yes</td>\n",
       "      <td>No</td>\n",
       "      <td>DSL</td>\n",
       "      <td>Yes</td>\n",
       "      <td>Yes</td>\n",
       "      <td>No</td>\n",
       "      <td>No</td>\n",
       "      <td>No</td>\n",
       "      <td>No</td>\n",
       "      <td>Month-to-month</td>\n",
       "      <td>Yes</td>\n",
       "      <td>Mailed check</td>\n",
       "      <td>53.85</td>\n",
       "      <td>108.15</td>\n",
       "      <td>Yes</td>\n",
       "    </tr>\n",
       "    <tr>\n",
       "      <th>3</th>\n",
       "      <td>7795-CFOCW</td>\n",
       "      <td>Male</td>\n",
       "      <td>0</td>\n",
       "      <td>No</td>\n",
       "      <td>No</td>\n",
       "      <td>45</td>\n",
       "      <td>No</td>\n",
       "      <td>No</td>\n",
       "      <td>DSL</td>\n",
       "      <td>Yes</td>\n",
       "      <td>No</td>\n",
       "      <td>Yes</td>\n",
       "      <td>Yes</td>\n",
       "      <td>No</td>\n",
       "      <td>No</td>\n",
       "      <td>One year</td>\n",
       "      <td>No</td>\n",
       "      <td>Bank transfer (automatic)</td>\n",
       "      <td>42.30</td>\n",
       "      <td>1840.75</td>\n",
       "      <td>No</td>\n",
       "    </tr>\n",
       "    <tr>\n",
       "      <th>4</th>\n",
       "      <td>9237-HQITU</td>\n",
       "      <td>Female</td>\n",
       "      <td>0</td>\n",
       "      <td>No</td>\n",
       "      <td>No</td>\n",
       "      <td>2</td>\n",
       "      <td>Yes</td>\n",
       "      <td>No</td>\n",
       "      <td>Fiber optic</td>\n",
       "      <td>No</td>\n",
       "      <td>No</td>\n",
       "      <td>No</td>\n",
       "      <td>No</td>\n",
       "      <td>No</td>\n",
       "      <td>No</td>\n",
       "      <td>Month-to-month</td>\n",
       "      <td>Yes</td>\n",
       "      <td>Electronic check</td>\n",
       "      <td>70.70</td>\n",
       "      <td>151.65</td>\n",
       "      <td>Yes</td>\n",
       "    </tr>\n",
       "    <tr>\n",
       "      <th>...</th>\n",
       "      <td>...</td>\n",
       "      <td>...</td>\n",
       "      <td>...</td>\n",
       "      <td>...</td>\n",
       "      <td>...</td>\n",
       "      <td>...</td>\n",
       "      <td>...</td>\n",
       "      <td>...</td>\n",
       "      <td>...</td>\n",
       "      <td>...</td>\n",
       "      <td>...</td>\n",
       "      <td>...</td>\n",
       "      <td>...</td>\n",
       "      <td>...</td>\n",
       "      <td>...</td>\n",
       "      <td>...</td>\n",
       "      <td>...</td>\n",
       "      <td>...</td>\n",
       "      <td>...</td>\n",
       "      <td>...</td>\n",
       "      <td>...</td>\n",
       "    </tr>\n",
       "    <tr>\n",
       "      <th>7038</th>\n",
       "      <td>6840-RESVB</td>\n",
       "      <td>Male</td>\n",
       "      <td>0</td>\n",
       "      <td>Yes</td>\n",
       "      <td>Yes</td>\n",
       "      <td>24</td>\n",
       "      <td>Yes</td>\n",
       "      <td>Yes</td>\n",
       "      <td>DSL</td>\n",
       "      <td>Yes</td>\n",
       "      <td>No</td>\n",
       "      <td>Yes</td>\n",
       "      <td>Yes</td>\n",
       "      <td>Yes</td>\n",
       "      <td>Yes</td>\n",
       "      <td>One year</td>\n",
       "      <td>Yes</td>\n",
       "      <td>Mailed check</td>\n",
       "      <td>84.80</td>\n",
       "      <td>1990.5</td>\n",
       "      <td>No</td>\n",
       "    </tr>\n",
       "    <tr>\n",
       "      <th>7039</th>\n",
       "      <td>2234-XADUH</td>\n",
       "      <td>Female</td>\n",
       "      <td>0</td>\n",
       "      <td>Yes</td>\n",
       "      <td>Yes</td>\n",
       "      <td>72</td>\n",
       "      <td>Yes</td>\n",
       "      <td>Yes</td>\n",
       "      <td>Fiber optic</td>\n",
       "      <td>No</td>\n",
       "      <td>Yes</td>\n",
       "      <td>Yes</td>\n",
       "      <td>No</td>\n",
       "      <td>Yes</td>\n",
       "      <td>Yes</td>\n",
       "      <td>One year</td>\n",
       "      <td>Yes</td>\n",
       "      <td>Credit card (automatic)</td>\n",
       "      <td>103.20</td>\n",
       "      <td>7362.9</td>\n",
       "      <td>No</td>\n",
       "    </tr>\n",
       "    <tr>\n",
       "      <th>7040</th>\n",
       "      <td>4801-JZAZL</td>\n",
       "      <td>Female</td>\n",
       "      <td>0</td>\n",
       "      <td>Yes</td>\n",
       "      <td>Yes</td>\n",
       "      <td>11</td>\n",
       "      <td>No</td>\n",
       "      <td>No</td>\n",
       "      <td>DSL</td>\n",
       "      <td>Yes</td>\n",
       "      <td>No</td>\n",
       "      <td>No</td>\n",
       "      <td>No</td>\n",
       "      <td>No</td>\n",
       "      <td>No</td>\n",
       "      <td>Month-to-month</td>\n",
       "      <td>Yes</td>\n",
       "      <td>Electronic check</td>\n",
       "      <td>29.60</td>\n",
       "      <td>346.45</td>\n",
       "      <td>No</td>\n",
       "    </tr>\n",
       "    <tr>\n",
       "      <th>7041</th>\n",
       "      <td>8361-LTMKD</td>\n",
       "      <td>Male</td>\n",
       "      <td>1</td>\n",
       "      <td>Yes</td>\n",
       "      <td>No</td>\n",
       "      <td>4</td>\n",
       "      <td>Yes</td>\n",
       "      <td>Yes</td>\n",
       "      <td>Fiber optic</td>\n",
       "      <td>No</td>\n",
       "      <td>No</td>\n",
       "      <td>No</td>\n",
       "      <td>No</td>\n",
       "      <td>No</td>\n",
       "      <td>No</td>\n",
       "      <td>Month-to-month</td>\n",
       "      <td>Yes</td>\n",
       "      <td>Mailed check</td>\n",
       "      <td>74.40</td>\n",
       "      <td>306.6</td>\n",
       "      <td>Yes</td>\n",
       "    </tr>\n",
       "    <tr>\n",
       "      <th>7042</th>\n",
       "      <td>3186-AJIEK</td>\n",
       "      <td>Male</td>\n",
       "      <td>0</td>\n",
       "      <td>No</td>\n",
       "      <td>No</td>\n",
       "      <td>66</td>\n",
       "      <td>Yes</td>\n",
       "      <td>No</td>\n",
       "      <td>Fiber optic</td>\n",
       "      <td>Yes</td>\n",
       "      <td>No</td>\n",
       "      <td>Yes</td>\n",
       "      <td>Yes</td>\n",
       "      <td>Yes</td>\n",
       "      <td>Yes</td>\n",
       "      <td>Two year</td>\n",
       "      <td>Yes</td>\n",
       "      <td>Bank transfer (automatic)</td>\n",
       "      <td>105.65</td>\n",
       "      <td>6844.5</td>\n",
       "      <td>No</td>\n",
       "    </tr>\n",
       "  </tbody>\n",
       "</table>\n",
       "<p>7043 rows × 21 columns</p>\n",
       "</div>"
      ],
      "text/plain": [
       "     customer_id  gender  senior_citizen partner dependents  tenure  \\\n",
       "0     7590-VHVEG  Female               0     Yes         No       1   \n",
       "1     5575-GNVDE    Male               0      No         No      34   \n",
       "2     3668-QPYBK    Male               0      No         No       2   \n",
       "3     7795-CFOCW    Male               0      No         No      45   \n",
       "4     9237-HQITU  Female               0      No         No       2   \n",
       "...          ...     ...             ...     ...        ...     ...   \n",
       "7038  6840-RESVB    Male               0     Yes        Yes      24   \n",
       "7039  2234-XADUH  Female               0     Yes        Yes      72   \n",
       "7040  4801-JZAZL  Female               0     Yes        Yes      11   \n",
       "7041  8361-LTMKD    Male               1     Yes         No       4   \n",
       "7042  3186-AJIEK    Male               0      No         No      66   \n",
       "\n",
       "     phone_service multiple_lines internet_service online_security  \\\n",
       "0               No             No              DSL              No   \n",
       "1              Yes             No              DSL             Yes   \n",
       "2              Yes             No              DSL             Yes   \n",
       "3               No             No              DSL             Yes   \n",
       "4              Yes             No      Fiber optic              No   \n",
       "...            ...            ...              ...             ...   \n",
       "7038           Yes            Yes              DSL             Yes   \n",
       "7039           Yes            Yes      Fiber optic              No   \n",
       "7040            No             No              DSL             Yes   \n",
       "7041           Yes            Yes      Fiber optic              No   \n",
       "7042           Yes             No      Fiber optic             Yes   \n",
       "\n",
       "     online_backup device_protection tech_support streaming_tv  \\\n",
       "0              Yes                No           No           No   \n",
       "1               No               Yes           No           No   \n",
       "2              Yes                No           No           No   \n",
       "3               No               Yes          Yes           No   \n",
       "4               No                No           No           No   \n",
       "...            ...               ...          ...          ...   \n",
       "7038            No               Yes          Yes          Yes   \n",
       "7039           Yes               Yes           No          Yes   \n",
       "7040            No                No           No           No   \n",
       "7041            No                No           No           No   \n",
       "7042            No               Yes          Yes          Yes   \n",
       "\n",
       "     streaming_movies        contract paperless_billing  \\\n",
       "0                  No  Month-to-month               Yes   \n",
       "1                  No        One year                No   \n",
       "2                  No  Month-to-month               Yes   \n",
       "3                  No        One year                No   \n",
       "4                  No  Month-to-month               Yes   \n",
       "...               ...             ...               ...   \n",
       "7038              Yes        One year               Yes   \n",
       "7039              Yes        One year               Yes   \n",
       "7040               No  Month-to-month               Yes   \n",
       "7041               No  Month-to-month               Yes   \n",
       "7042              Yes        Two year               Yes   \n",
       "\n",
       "                 payment_method  monthly_charges total_charges churn  \n",
       "0              Electronic check            29.85         29.85    No  \n",
       "1                  Mailed check            56.95        1889.5    No  \n",
       "2                  Mailed check            53.85        108.15   Yes  \n",
       "3     Bank transfer (automatic)            42.30       1840.75    No  \n",
       "4              Electronic check            70.70        151.65   Yes  \n",
       "...                         ...              ...           ...   ...  \n",
       "7038               Mailed check            84.80        1990.5    No  \n",
       "7039    Credit card (automatic)           103.20        7362.9    No  \n",
       "7040           Electronic check            29.60        346.45    No  \n",
       "7041               Mailed check            74.40         306.6   Yes  \n",
       "7042  Bank transfer (automatic)           105.65        6844.5    No  \n",
       "\n",
       "[7043 rows x 21 columns]"
      ]
     },
     "execution_count": 7,
     "metadata": {},
     "output_type": "execute_result"
    }
   ],
   "source": [
    "raw_replace_value_df"
   ]
  },
  {
   "cell_type": "markdown",
   "metadata": {},
   "source": [
    "## Missing Value"
   ]
  },
  {
   "cell_type": "code",
   "execution_count": 8,
   "metadata": {
    "ExecuteTime": {
     "end_time": "2021-03-22T16:36:21.640739Z",
     "start_time": "2021-03-22T16:36:21.611736Z"
    }
   },
   "outputs": [
    {
     "data": {
      "text/html": [
       "<div>\n",
       "<style scoped>\n",
       "    .dataframe tbody tr th:only-of-type {\n",
       "        vertical-align: middle;\n",
       "    }\n",
       "\n",
       "    .dataframe tbody tr th {\n",
       "        vertical-align: top;\n",
       "    }\n",
       "\n",
       "    .dataframe thead th {\n",
       "        text-align: right;\n",
       "    }\n",
       "</style>\n",
       "<table border=\"1\" class=\"dataframe\">\n",
       "  <thead>\n",
       "    <tr style=\"text-align: right;\">\n",
       "      <th></th>\n",
       "      <th>Number of Missing Value (%)</th>\n",
       "    </tr>\n",
       "  </thead>\n",
       "  <tbody>\n",
       "    <tr>\n",
       "      <th>customer_id</th>\n",
       "      <td>0</td>\n",
       "    </tr>\n",
       "    <tr>\n",
       "      <th>gender</th>\n",
       "      <td>0</td>\n",
       "    </tr>\n",
       "    <tr>\n",
       "      <th>senior_citizen</th>\n",
       "      <td>0</td>\n",
       "    </tr>\n",
       "    <tr>\n",
       "      <th>partner</th>\n",
       "      <td>0</td>\n",
       "    </tr>\n",
       "    <tr>\n",
       "      <th>dependents</th>\n",
       "      <td>0</td>\n",
       "    </tr>\n",
       "    <tr>\n",
       "      <th>tenure</th>\n",
       "      <td>0</td>\n",
       "    </tr>\n",
       "    <tr>\n",
       "      <th>phone_service</th>\n",
       "      <td>0</td>\n",
       "    </tr>\n",
       "    <tr>\n",
       "      <th>multiple_lines</th>\n",
       "      <td>0</td>\n",
       "    </tr>\n",
       "    <tr>\n",
       "      <th>internet_service</th>\n",
       "      <td>0</td>\n",
       "    </tr>\n",
       "    <tr>\n",
       "      <th>online_security</th>\n",
       "      <td>0</td>\n",
       "    </tr>\n",
       "    <tr>\n",
       "      <th>online_backup</th>\n",
       "      <td>0</td>\n",
       "    </tr>\n",
       "    <tr>\n",
       "      <th>device_protection</th>\n",
       "      <td>0</td>\n",
       "    </tr>\n",
       "    <tr>\n",
       "      <th>tech_support</th>\n",
       "      <td>0</td>\n",
       "    </tr>\n",
       "    <tr>\n",
       "      <th>streaming_tv</th>\n",
       "      <td>0</td>\n",
       "    </tr>\n",
       "    <tr>\n",
       "      <th>streaming_movies</th>\n",
       "      <td>0</td>\n",
       "    </tr>\n",
       "    <tr>\n",
       "      <th>contract</th>\n",
       "      <td>0</td>\n",
       "    </tr>\n",
       "    <tr>\n",
       "      <th>paperless_billing</th>\n",
       "      <td>0</td>\n",
       "    </tr>\n",
       "    <tr>\n",
       "      <th>payment_method</th>\n",
       "      <td>0</td>\n",
       "    </tr>\n",
       "    <tr>\n",
       "      <th>monthly_charges</th>\n",
       "      <td>0</td>\n",
       "    </tr>\n",
       "    <tr>\n",
       "      <th>total_charges</th>\n",
       "      <td>0</td>\n",
       "    </tr>\n",
       "    <tr>\n",
       "      <th>churn</th>\n",
       "      <td>0</td>\n",
       "    </tr>\n",
       "  </tbody>\n",
       "</table>\n",
       "</div>"
      ],
      "text/plain": [
       "                   Number of Missing Value (%)\n",
       "customer_id                                  0\n",
       "gender                                       0\n",
       "senior_citizen                               0\n",
       "partner                                      0\n",
       "dependents                                   0\n",
       "tenure                                       0\n",
       "phone_service                                0\n",
       "multiple_lines                               0\n",
       "internet_service                             0\n",
       "online_security                              0\n",
       "online_backup                                0\n",
       "device_protection                            0\n",
       "tech_support                                 0\n",
       "streaming_tv                                 0\n",
       "streaming_movies                             0\n",
       "contract                                     0\n",
       "paperless_billing                            0\n",
       "payment_method                               0\n",
       "monthly_charges                              0\n",
       "total_charges                                0\n",
       "churn                                        0"
      ]
     },
     "execution_count": 8,
     "metadata": {},
     "output_type": "execute_result"
    }
   ],
   "source": [
    "raw_replace_value_df.isna().sum().to_frame().rename(columns={0 : 'Number of Missing Value (%)'})"
   ]
  },
  {
   "cell_type": "markdown",
   "metadata": {},
   "source": [
    "## Duplicate Value"
   ]
  },
  {
   "cell_type": "code",
   "execution_count": 9,
   "metadata": {
    "ExecuteTime": {
     "end_time": "2021-03-22T16:36:21.687618Z",
     "start_time": "2021-03-22T16:36:21.643740Z"
    }
   },
   "outputs": [
    {
     "name": "stdout",
     "output_type": "stream",
     "text": [
      "Number of duplicate value : 0\n"
     ]
    }
   ],
   "source": [
    "print(f'Number of duplicate value : {raw_replace_value_df.duplicated().sum()}')"
   ]
  },
  {
   "cell_type": "markdown",
   "metadata": {},
   "source": [
    "## Mismatch Value"
   ]
  },
  {
   "cell_type": "markdown",
   "metadata": {},
   "source": [
    "Pada fitur total_charges datatype nya adalah object, yang seharusnya float."
   ]
  },
  {
   "cell_type": "code",
   "execution_count": 10,
   "metadata": {
    "ExecuteTime": {
     "end_time": "2021-03-22T16:36:21.718999Z",
     "start_time": "2021-03-22T16:36:21.689622Z"
    }
   },
   "outputs": [
    {
     "data": {
      "text/html": [
       "<div>\n",
       "<style scoped>\n",
       "    .dataframe tbody tr th:only-of-type {\n",
       "        vertical-align: middle;\n",
       "    }\n",
       "\n",
       "    .dataframe tbody tr th {\n",
       "        vertical-align: top;\n",
       "    }\n",
       "\n",
       "    .dataframe thead th {\n",
       "        text-align: right;\n",
       "    }\n",
       "</style>\n",
       "<table border=\"1\" class=\"dataframe\">\n",
       "  <thead>\n",
       "    <tr style=\"text-align: right;\">\n",
       "      <th></th>\n",
       "      <th>Datatype</th>\n",
       "    </tr>\n",
       "  </thead>\n",
       "  <tbody>\n",
       "    <tr>\n",
       "      <th>customer_id</th>\n",
       "      <td>object</td>\n",
       "    </tr>\n",
       "    <tr>\n",
       "      <th>gender</th>\n",
       "      <td>object</td>\n",
       "    </tr>\n",
       "    <tr>\n",
       "      <th>senior_citizen</th>\n",
       "      <td>int64</td>\n",
       "    </tr>\n",
       "    <tr>\n",
       "      <th>partner</th>\n",
       "      <td>object</td>\n",
       "    </tr>\n",
       "    <tr>\n",
       "      <th>dependents</th>\n",
       "      <td>object</td>\n",
       "    </tr>\n",
       "    <tr>\n",
       "      <th>tenure</th>\n",
       "      <td>int64</td>\n",
       "    </tr>\n",
       "    <tr>\n",
       "      <th>phone_service</th>\n",
       "      <td>object</td>\n",
       "    </tr>\n",
       "    <tr>\n",
       "      <th>multiple_lines</th>\n",
       "      <td>object</td>\n",
       "    </tr>\n",
       "    <tr>\n",
       "      <th>internet_service</th>\n",
       "      <td>object</td>\n",
       "    </tr>\n",
       "    <tr>\n",
       "      <th>online_security</th>\n",
       "      <td>object</td>\n",
       "    </tr>\n",
       "    <tr>\n",
       "      <th>online_backup</th>\n",
       "      <td>object</td>\n",
       "    </tr>\n",
       "    <tr>\n",
       "      <th>device_protection</th>\n",
       "      <td>object</td>\n",
       "    </tr>\n",
       "    <tr>\n",
       "      <th>tech_support</th>\n",
       "      <td>object</td>\n",
       "    </tr>\n",
       "    <tr>\n",
       "      <th>streaming_tv</th>\n",
       "      <td>object</td>\n",
       "    </tr>\n",
       "    <tr>\n",
       "      <th>streaming_movies</th>\n",
       "      <td>object</td>\n",
       "    </tr>\n",
       "    <tr>\n",
       "      <th>contract</th>\n",
       "      <td>object</td>\n",
       "    </tr>\n",
       "    <tr>\n",
       "      <th>paperless_billing</th>\n",
       "      <td>object</td>\n",
       "    </tr>\n",
       "    <tr>\n",
       "      <th>payment_method</th>\n",
       "      <td>object</td>\n",
       "    </tr>\n",
       "    <tr>\n",
       "      <th>monthly_charges</th>\n",
       "      <td>float64</td>\n",
       "    </tr>\n",
       "    <tr>\n",
       "      <th>total_charges</th>\n",
       "      <td>object</td>\n",
       "    </tr>\n",
       "    <tr>\n",
       "      <th>churn</th>\n",
       "      <td>object</td>\n",
       "    </tr>\n",
       "  </tbody>\n",
       "</table>\n",
       "</div>"
      ],
      "text/plain": [
       "                  Datatype\n",
       "customer_id         object\n",
       "gender              object\n",
       "senior_citizen       int64\n",
       "partner             object\n",
       "dependents          object\n",
       "tenure               int64\n",
       "phone_service       object\n",
       "multiple_lines      object\n",
       "internet_service    object\n",
       "online_security     object\n",
       "online_backup       object\n",
       "device_protection   object\n",
       "tech_support        object\n",
       "streaming_tv        object\n",
       "streaming_movies    object\n",
       "contract            object\n",
       "paperless_billing   object\n",
       "payment_method      object\n",
       "monthly_charges    float64\n",
       "total_charges       object\n",
       "churn               object"
      ]
     },
     "execution_count": 10,
     "metadata": {},
     "output_type": "execute_result"
    }
   ],
   "source": [
    "raw_replace_value_df.dtypes.to_frame().rename(columns={0 : 'Datatype'})"
   ]
  },
  {
   "cell_type": "code",
   "execution_count": 11,
   "metadata": {
    "ExecuteTime": {
     "end_time": "2021-03-22T16:36:21.735730Z",
     "start_time": "2021-03-22T16:36:21.721179Z"
    }
   },
   "outputs": [],
   "source": [
    "raw_replace_value_df['total_charges'] = pd.to_numeric(raw_replace_value_df['total_charges'], errors='coerce')\n",
    "raw_mismatch_value_df = raw_replace_value_df"
   ]
  },
  {
   "cell_type": "code",
   "execution_count": 12,
   "metadata": {
    "ExecuteTime": {
     "end_time": "2021-03-22T16:36:21.767105Z",
     "start_time": "2021-03-22T16:36:21.738757Z"
    }
   },
   "outputs": [
    {
     "data": {
      "text/html": [
       "<div>\n",
       "<style scoped>\n",
       "    .dataframe tbody tr th:only-of-type {\n",
       "        vertical-align: middle;\n",
       "    }\n",
       "\n",
       "    .dataframe tbody tr th {\n",
       "        vertical-align: top;\n",
       "    }\n",
       "\n",
       "    .dataframe thead th {\n",
       "        text-align: right;\n",
       "    }\n",
       "</style>\n",
       "<table border=\"1\" class=\"dataframe\">\n",
       "  <thead>\n",
       "    <tr style=\"text-align: right;\">\n",
       "      <th></th>\n",
       "      <th>Datatype</th>\n",
       "    </tr>\n",
       "  </thead>\n",
       "  <tbody>\n",
       "    <tr>\n",
       "      <th>customer_id</th>\n",
       "      <td>object</td>\n",
       "    </tr>\n",
       "    <tr>\n",
       "      <th>gender</th>\n",
       "      <td>object</td>\n",
       "    </tr>\n",
       "    <tr>\n",
       "      <th>senior_citizen</th>\n",
       "      <td>int64</td>\n",
       "    </tr>\n",
       "    <tr>\n",
       "      <th>partner</th>\n",
       "      <td>object</td>\n",
       "    </tr>\n",
       "    <tr>\n",
       "      <th>dependents</th>\n",
       "      <td>object</td>\n",
       "    </tr>\n",
       "    <tr>\n",
       "      <th>tenure</th>\n",
       "      <td>int64</td>\n",
       "    </tr>\n",
       "    <tr>\n",
       "      <th>phone_service</th>\n",
       "      <td>object</td>\n",
       "    </tr>\n",
       "    <tr>\n",
       "      <th>multiple_lines</th>\n",
       "      <td>object</td>\n",
       "    </tr>\n",
       "    <tr>\n",
       "      <th>internet_service</th>\n",
       "      <td>object</td>\n",
       "    </tr>\n",
       "    <tr>\n",
       "      <th>online_security</th>\n",
       "      <td>object</td>\n",
       "    </tr>\n",
       "    <tr>\n",
       "      <th>online_backup</th>\n",
       "      <td>object</td>\n",
       "    </tr>\n",
       "    <tr>\n",
       "      <th>device_protection</th>\n",
       "      <td>object</td>\n",
       "    </tr>\n",
       "    <tr>\n",
       "      <th>tech_support</th>\n",
       "      <td>object</td>\n",
       "    </tr>\n",
       "    <tr>\n",
       "      <th>streaming_tv</th>\n",
       "      <td>object</td>\n",
       "    </tr>\n",
       "    <tr>\n",
       "      <th>streaming_movies</th>\n",
       "      <td>object</td>\n",
       "    </tr>\n",
       "    <tr>\n",
       "      <th>contract</th>\n",
       "      <td>object</td>\n",
       "    </tr>\n",
       "    <tr>\n",
       "      <th>paperless_billing</th>\n",
       "      <td>object</td>\n",
       "    </tr>\n",
       "    <tr>\n",
       "      <th>payment_method</th>\n",
       "      <td>object</td>\n",
       "    </tr>\n",
       "    <tr>\n",
       "      <th>monthly_charges</th>\n",
       "      <td>float64</td>\n",
       "    </tr>\n",
       "    <tr>\n",
       "      <th>total_charges</th>\n",
       "      <td>float64</td>\n",
       "    </tr>\n",
       "    <tr>\n",
       "      <th>churn</th>\n",
       "      <td>object</td>\n",
       "    </tr>\n",
       "  </tbody>\n",
       "</table>\n",
       "</div>"
      ],
      "text/plain": [
       "                  Datatype\n",
       "customer_id         object\n",
       "gender              object\n",
       "senior_citizen       int64\n",
       "partner             object\n",
       "dependents          object\n",
       "tenure               int64\n",
       "phone_service       object\n",
       "multiple_lines      object\n",
       "internet_service    object\n",
       "online_security     object\n",
       "online_backup       object\n",
       "device_protection   object\n",
       "tech_support        object\n",
       "streaming_tv        object\n",
       "streaming_movies    object\n",
       "contract            object\n",
       "paperless_billing   object\n",
       "payment_method      object\n",
       "monthly_charges    float64\n",
       "total_charges      float64\n",
       "churn               object"
      ]
     },
     "execution_count": 12,
     "metadata": {},
     "output_type": "execute_result"
    }
   ],
   "source": [
    "raw_mismatch_value_df.dtypes.to_frame().rename(columns={0 : 'Datatype'})"
   ]
  },
  {
   "cell_type": "markdown",
   "metadata": {},
   "source": [
    "# Feature Engineering"
   ]
  },
  {
   "cell_type": "code",
   "execution_count": 13,
   "metadata": {
    "ExecuteTime": {
     "end_time": "2021-03-22T16:36:21.782849Z",
     "start_time": "2021-03-22T16:36:21.771178Z"
    }
   },
   "outputs": [],
   "source": [
    "raw_feature_tranformation_df = raw_mismatch_value_df"
   ]
  },
  {
   "cell_type": "code",
   "execution_count": 14,
   "metadata": {
    "ExecuteTime": {
     "end_time": "2021-03-22T16:36:21.848029Z",
     "start_time": "2021-03-22T16:36:21.788195Z"
    }
   },
   "outputs": [
    {
     "data": {
      "text/html": [
       "<div>\n",
       "<style scoped>\n",
       "    .dataframe tbody tr th:only-of-type {\n",
       "        vertical-align: middle;\n",
       "    }\n",
       "\n",
       "    .dataframe tbody tr th {\n",
       "        vertical-align: top;\n",
       "    }\n",
       "\n",
       "    .dataframe thead th {\n",
       "        text-align: right;\n",
       "    }\n",
       "</style>\n",
       "<table border=\"1\" class=\"dataframe\">\n",
       "  <thead>\n",
       "    <tr style=\"text-align: right;\">\n",
       "      <th></th>\n",
       "      <th>customer_id</th>\n",
       "      <th>gender</th>\n",
       "      <th>senior_citizen</th>\n",
       "      <th>partner</th>\n",
       "      <th>dependents</th>\n",
       "      <th>tenure</th>\n",
       "      <th>phone_service</th>\n",
       "      <th>multiple_lines</th>\n",
       "      <th>internet_service</th>\n",
       "      <th>online_security</th>\n",
       "      <th>online_backup</th>\n",
       "      <th>device_protection</th>\n",
       "      <th>tech_support</th>\n",
       "      <th>streaming_tv</th>\n",
       "      <th>streaming_movies</th>\n",
       "      <th>contract</th>\n",
       "      <th>paperless_billing</th>\n",
       "      <th>payment_method</th>\n",
       "      <th>monthly_charges</th>\n",
       "      <th>total_charges</th>\n",
       "      <th>churn</th>\n",
       "    </tr>\n",
       "  </thead>\n",
       "  <tbody>\n",
       "    <tr>\n",
       "      <th>0</th>\n",
       "      <td>7590-VHVEG</td>\n",
       "      <td>Female</td>\n",
       "      <td>0</td>\n",
       "      <td>Yes</td>\n",
       "      <td>No</td>\n",
       "      <td>1</td>\n",
       "      <td>No</td>\n",
       "      <td>No</td>\n",
       "      <td>DSL</td>\n",
       "      <td>No</td>\n",
       "      <td>Yes</td>\n",
       "      <td>No</td>\n",
       "      <td>No</td>\n",
       "      <td>No</td>\n",
       "      <td>No</td>\n",
       "      <td>Month-to-month</td>\n",
       "      <td>Yes</td>\n",
       "      <td>Electronic check</td>\n",
       "      <td>29.85</td>\n",
       "      <td>29.85</td>\n",
       "      <td>No</td>\n",
       "    </tr>\n",
       "  </tbody>\n",
       "</table>\n",
       "</div>"
      ],
      "text/plain": [
       "  customer_id  gender  senior_citizen partner dependents  tenure  \\\n",
       "0  7590-VHVEG  Female               0     Yes         No       1   \n",
       "\n",
       "  phone_service multiple_lines internet_service online_security online_backup  \\\n",
       "0            No             No              DSL              No           Yes   \n",
       "\n",
       "  device_protection tech_support streaming_tv streaming_movies  \\\n",
       "0                No           No           No               No   \n",
       "\n",
       "         contract paperless_billing    payment_method  monthly_charges  \\\n",
       "0  Month-to-month               Yes  Electronic check            29.85   \n",
       "\n",
       "   total_charges churn  \n",
       "0          29.85    No  "
      ]
     },
     "execution_count": 14,
     "metadata": {},
     "output_type": "execute_result"
    }
   ],
   "source": [
    "raw_feature_tranformation_df.head(1)"
   ]
  },
  {
   "cell_type": "markdown",
   "metadata": {},
   "source": [
    "## Feature Transformation"
   ]
  },
  {
   "cell_type": "markdown",
   "metadata": {},
   "source": [
    "### Binary Lable"
   ]
  },
  {
   "cell_type": "markdown",
   "metadata": {},
   "source": [
    "#### gender"
   ]
  },
  {
   "cell_type": "code",
   "execution_count": 15,
   "metadata": {
    "ExecuteTime": {
     "end_time": "2021-03-22T16:36:21.880243Z",
     "start_time": "2021-03-22T16:36:21.855003Z"
    }
   },
   "outputs": [
    {
     "data": {
      "text/plain": [
       "array(['Female', 'Male'], dtype='<U6')"
      ]
     },
     "execution_count": 15,
     "metadata": {},
     "output_type": "execute_result"
    }
   ],
   "source": [
    "gender_lb = preprocessing.LabelBinarizer()\n",
    "gender_lb.fit(raw_feature_tranformation_df['gender'])\n",
    "gender_lb.classes_"
   ]
  },
  {
   "cell_type": "code",
   "execution_count": 16,
   "metadata": {
    "ExecuteTime": {
     "end_time": "2021-03-22T16:36:21.914514Z",
     "start_time": "2021-03-22T16:36:21.884692Z"
    }
   },
   "outputs": [],
   "source": [
    "raw_feature_tranformation_df['gender'] = gender_lb.transform(raw_mismatch_value_df['gender'])"
   ]
  },
  {
   "cell_type": "markdown",
   "metadata": {},
   "source": [
    "#### partner"
   ]
  },
  {
   "cell_type": "code",
   "execution_count": 17,
   "metadata": {
    "ExecuteTime": {
     "end_time": "2021-03-22T16:36:21.947207Z",
     "start_time": "2021-03-22T16:36:21.918515Z"
    }
   },
   "outputs": [
    {
     "data": {
      "text/plain": [
       "array(['No', 'Yes'], dtype='<U3')"
      ]
     },
     "execution_count": 17,
     "metadata": {},
     "output_type": "execute_result"
    }
   ],
   "source": [
    "partner_lb = preprocessing.LabelBinarizer()\n",
    "partner_lb.fit(raw_feature_tranformation_df['partner'])\n",
    "partner_lb.classes_"
   ]
  },
  {
   "cell_type": "code",
   "execution_count": 18,
   "metadata": {
    "ExecuteTime": {
     "end_time": "2021-03-22T16:36:21.979062Z",
     "start_time": "2021-03-22T16:36:21.950208Z"
    }
   },
   "outputs": [],
   "source": [
    "raw_feature_tranformation_df['partner'] = gender_lb.transform(raw_mismatch_value_df['partner'])"
   ]
  },
  {
   "cell_type": "markdown",
   "metadata": {},
   "source": [
    "#### dependents"
   ]
  },
  {
   "cell_type": "code",
   "execution_count": 19,
   "metadata": {
    "ExecuteTime": {
     "end_time": "2021-03-22T16:36:21.995087Z",
     "start_time": "2021-03-22T16:36:21.981059Z"
    }
   },
   "outputs": [
    {
     "data": {
      "text/plain": [
       "array(['No', 'Yes'], dtype='<U3')"
      ]
     },
     "execution_count": 19,
     "metadata": {},
     "output_type": "execute_result"
    }
   ],
   "source": [
    "dependents_lb = preprocessing.LabelBinarizer()\n",
    "dependents_lb.fit(raw_feature_tranformation_df['dependents'])\n",
    "dependents_lb.classes_"
   ]
  },
  {
   "cell_type": "code",
   "execution_count": 20,
   "metadata": {
    "ExecuteTime": {
     "end_time": "2021-03-22T16:36:22.027581Z",
     "start_time": "2021-03-22T16:36:21.998158Z"
    }
   },
   "outputs": [],
   "source": [
    "raw_feature_tranformation_df['dependents'] = gender_lb.transform(raw_mismatch_value_df['dependents'])"
   ]
  },
  {
   "cell_type": "markdown",
   "metadata": {},
   "source": [
    "#### phone_service"
   ]
  },
  {
   "cell_type": "code",
   "execution_count": 21,
   "metadata": {
    "ExecuteTime": {
     "end_time": "2021-03-22T16:36:22.059477Z",
     "start_time": "2021-03-22T16:36:22.029585Z"
    }
   },
   "outputs": [
    {
     "data": {
      "text/plain": [
       "array(['No', 'Yes'], dtype='<U3')"
      ]
     },
     "execution_count": 21,
     "metadata": {},
     "output_type": "execute_result"
    }
   ],
   "source": [
    "phone_service_lb = preprocessing.LabelBinarizer()\n",
    "phone_service_lb.fit(raw_feature_tranformation_df['phone_service'])\n",
    "phone_service_lb.classes_"
   ]
  },
  {
   "cell_type": "code",
   "execution_count": 22,
   "metadata": {
    "ExecuteTime": {
     "end_time": "2021-03-22T16:36:22.098046Z",
     "start_time": "2021-03-22T16:36:22.064731Z"
    }
   },
   "outputs": [],
   "source": [
    "raw_feature_tranformation_df['phone_service'] = gender_lb.transform(raw_mismatch_value_df['phone_service'])"
   ]
  },
  {
   "cell_type": "markdown",
   "metadata": {},
   "source": [
    "#### multiple_lines"
   ]
  },
  {
   "cell_type": "code",
   "execution_count": 23,
   "metadata": {
    "ExecuteTime": {
     "end_time": "2021-03-22T16:36:22.129400Z",
     "start_time": "2021-03-22T16:36:22.101152Z"
    }
   },
   "outputs": [
    {
     "data": {
      "text/plain": [
       "array(['No', 'Yes'], dtype='<U3')"
      ]
     },
     "execution_count": 23,
     "metadata": {},
     "output_type": "execute_result"
    }
   ],
   "source": [
    "multiple_lines_lb = preprocessing.LabelBinarizer()\n",
    "multiple_lines_lb.fit(raw_feature_tranformation_df['multiple_lines'])\n",
    "multiple_lines_lb.classes_"
   ]
  },
  {
   "cell_type": "code",
   "execution_count": 24,
   "metadata": {
    "ExecuteTime": {
     "end_time": "2021-03-22T16:36:22.176537Z",
     "start_time": "2021-03-22T16:36:22.133429Z"
    }
   },
   "outputs": [],
   "source": [
    "raw_feature_tranformation_df['multiple_lines'] = multiple_lines_lb.transform(raw_mismatch_value_df['multiple_lines'])"
   ]
  },
  {
   "cell_type": "markdown",
   "metadata": {},
   "source": [
    "#### internet_service"
   ]
  },
  {
   "cell_type": "code",
   "execution_count": 25,
   "metadata": {
    "ExecuteTime": {
     "end_time": "2021-03-22T16:36:22.192074Z",
     "start_time": "2021-03-22T16:36:22.178537Z"
    }
   },
   "outputs": [
    {
     "data": {
      "text/plain": [
       "array(['DSL', 'Fiber optic', 'No'], dtype=object)"
      ]
     },
     "execution_count": 25,
     "metadata": {},
     "output_type": "execute_result"
    }
   ],
   "source": [
    "internet_sevice_le = preprocessing.LabelEncoder()\n",
    "internet_sevice_le.fit(raw_feature_tranformation_df['internet_service'])\n",
    "internet_sevice_le.classes_"
   ]
  },
  {
   "cell_type": "code",
   "execution_count": 26,
   "metadata": {
    "ExecuteTime": {
     "end_time": "2021-03-22T16:36:22.223361Z",
     "start_time": "2021-03-22T16:36:22.195538Z"
    }
   },
   "outputs": [],
   "source": [
    "raw_feature_tranformation_df['internet_service'] = internet_sevice_le.transform(raw_mismatch_value_df['internet_service'])"
   ]
  },
  {
   "cell_type": "code",
   "execution_count": 27,
   "metadata": {
    "ExecuteTime": {
     "end_time": "2021-03-22T16:36:22.270339Z",
     "start_time": "2021-03-22T16:36:22.225734Z"
    },
    "scrolled": true
   },
   "outputs": [
    {
     "data": {
      "text/html": [
       "<div>\n",
       "<style scoped>\n",
       "    .dataframe tbody tr th:only-of-type {\n",
       "        vertical-align: middle;\n",
       "    }\n",
       "\n",
       "    .dataframe tbody tr th {\n",
       "        vertical-align: top;\n",
       "    }\n",
       "\n",
       "    .dataframe thead th {\n",
       "        text-align: right;\n",
       "    }\n",
       "</style>\n",
       "<table border=\"1\" class=\"dataframe\">\n",
       "  <thead>\n",
       "    <tr style=\"text-align: right;\">\n",
       "      <th></th>\n",
       "      <th>customer_id</th>\n",
       "      <th>gender</th>\n",
       "      <th>senior_citizen</th>\n",
       "      <th>partner</th>\n",
       "      <th>dependents</th>\n",
       "      <th>tenure</th>\n",
       "      <th>phone_service</th>\n",
       "      <th>multiple_lines</th>\n",
       "      <th>internet_service</th>\n",
       "      <th>online_security</th>\n",
       "      <th>online_backup</th>\n",
       "      <th>device_protection</th>\n",
       "      <th>tech_support</th>\n",
       "      <th>streaming_tv</th>\n",
       "      <th>streaming_movies</th>\n",
       "      <th>contract</th>\n",
       "      <th>paperless_billing</th>\n",
       "      <th>payment_method</th>\n",
       "      <th>monthly_charges</th>\n",
       "      <th>total_charges</th>\n",
       "      <th>churn</th>\n",
       "    </tr>\n",
       "  </thead>\n",
       "  <tbody>\n",
       "    <tr>\n",
       "      <th>0</th>\n",
       "      <td>7590-VHVEG</td>\n",
       "      <td>0</td>\n",
       "      <td>0</td>\n",
       "      <td>0</td>\n",
       "      <td>0</td>\n",
       "      <td>1</td>\n",
       "      <td>0</td>\n",
       "      <td>0</td>\n",
       "      <td>0</td>\n",
       "      <td>No</td>\n",
       "      <td>Yes</td>\n",
       "      <td>No</td>\n",
       "      <td>No</td>\n",
       "      <td>No</td>\n",
       "      <td>No</td>\n",
       "      <td>Month-to-month</td>\n",
       "      <td>Yes</td>\n",
       "      <td>Electronic check</td>\n",
       "      <td>29.85</td>\n",
       "      <td>29.85</td>\n",
       "      <td>No</td>\n",
       "    </tr>\n",
       "  </tbody>\n",
       "</table>\n",
       "</div>"
      ],
      "text/plain": [
       "  customer_id  gender  senior_citizen  partner  dependents  tenure  \\\n",
       "0  7590-VHVEG       0               0        0           0       1   \n",
       "\n",
       "   phone_service  multiple_lines  internet_service online_security  \\\n",
       "0              0               0                 0              No   \n",
       "\n",
       "  online_backup device_protection tech_support streaming_tv streaming_movies  \\\n",
       "0           Yes                No           No           No               No   \n",
       "\n",
       "         contract paperless_billing    payment_method  monthly_charges  \\\n",
       "0  Month-to-month               Yes  Electronic check            29.85   \n",
       "\n",
       "   total_charges churn  \n",
       "0          29.85    No  "
      ]
     },
     "execution_count": 27,
     "metadata": {},
     "output_type": "execute_result"
    }
   ],
   "source": [
    "raw_feature_tranformation_df.head(1)"
   ]
  },
  {
   "cell_type": "markdown",
   "metadata": {},
   "source": [
    "#### online_security"
   ]
  },
  {
   "cell_type": "code",
   "execution_count": 28,
   "metadata": {
    "ExecuteTime": {
     "end_time": "2021-03-22T16:36:22.285937Z",
     "start_time": "2021-03-22T16:36:22.272393Z"
    }
   },
   "outputs": [
    {
     "data": {
      "text/plain": [
       "array(['No', 'Yes'], dtype=object)"
      ]
     },
     "execution_count": 28,
     "metadata": {},
     "output_type": "execute_result"
    }
   ],
   "source": [
    "online_security_lb = preprocessing.LabelEncoder()\n",
    "online_security_lb.fit(raw_feature_tranformation_df['online_security'])\n",
    "online_security_lb.classes_"
   ]
  },
  {
   "cell_type": "code",
   "execution_count": 29,
   "metadata": {
    "ExecuteTime": {
     "end_time": "2021-03-22T16:36:22.301837Z",
     "start_time": "2021-03-22T16:36:22.288040Z"
    }
   },
   "outputs": [],
   "source": [
    "raw_feature_tranformation_df['online_security'] = online_security_lb.transform(raw_mismatch_value_df['online_security'])"
   ]
  },
  {
   "cell_type": "markdown",
   "metadata": {
    "ExecuteTime": {
     "end_time": "2021-03-21T15:09:30.063145Z",
     "start_time": "2021-03-21T15:09:30.048584Z"
    }
   },
   "source": [
    "#### online_backup"
   ]
  },
  {
   "cell_type": "code",
   "execution_count": 30,
   "metadata": {
    "ExecuteTime": {
     "end_time": "2021-03-22T16:36:22.318053Z",
     "start_time": "2021-03-22T16:36:22.304668Z"
    }
   },
   "outputs": [
    {
     "data": {
      "text/plain": [
       "array(['No', 'Yes'], dtype=object)"
      ]
     },
     "execution_count": 30,
     "metadata": {},
     "output_type": "execute_result"
    }
   ],
   "source": [
    "online_backup_lb = preprocessing.LabelEncoder()\n",
    "online_backup_lb.fit(raw_feature_tranformation_df['online_backup'])\n",
    "online_backup_lb.classes_"
   ]
  },
  {
   "cell_type": "code",
   "execution_count": 31,
   "metadata": {
    "ExecuteTime": {
     "end_time": "2021-03-22T16:36:22.333260Z",
     "start_time": "2021-03-22T16:36:22.320781Z"
    }
   },
   "outputs": [],
   "source": [
    "raw_feature_tranformation_df['online_backup'] = online_backup_lb.transform(raw_mismatch_value_df['online_backup'])"
   ]
  },
  {
   "cell_type": "markdown",
   "metadata": {},
   "source": [
    "#### device_protection"
   ]
  },
  {
   "cell_type": "code",
   "execution_count": 32,
   "metadata": {
    "ExecuteTime": {
     "end_time": "2021-03-22T16:36:22.364670Z",
     "start_time": "2021-03-22T16:36:22.336494Z"
    }
   },
   "outputs": [
    {
     "data": {
      "text/plain": [
       "array(['No', 'Yes'], dtype='<U3')"
      ]
     },
     "execution_count": 32,
     "metadata": {},
     "output_type": "execute_result"
    }
   ],
   "source": [
    "device_protection_lb = preprocessing.LabelBinarizer()\n",
    "device_protection_lb.fit(raw_feature_tranformation_df['device_protection'])\n",
    "device_protection_lb.classes_"
   ]
  },
  {
   "cell_type": "code",
   "execution_count": 33,
   "metadata": {
    "ExecuteTime": {
     "end_time": "2021-03-22T16:36:22.397308Z",
     "start_time": "2021-03-22T16:36:22.367669Z"
    }
   },
   "outputs": [],
   "source": [
    "raw_feature_tranformation_df['device_protection'] = device_protection_lb.transform(raw_mismatch_value_df['device_protection'])"
   ]
  },
  {
   "cell_type": "markdown",
   "metadata": {},
   "source": [
    "#### tech_support"
   ]
  },
  {
   "cell_type": "code",
   "execution_count": 34,
   "metadata": {
    "ExecuteTime": {
     "end_time": "2021-03-22T16:36:22.428532Z",
     "start_time": "2021-03-22T16:36:22.399328Z"
    }
   },
   "outputs": [
    {
     "data": {
      "text/plain": [
       "array(['No', 'Yes'], dtype='<U3')"
      ]
     },
     "execution_count": 34,
     "metadata": {},
     "output_type": "execute_result"
    }
   ],
   "source": [
    "tech_support_lb = preprocessing.LabelBinarizer()\n",
    "tech_support_lb.fit(raw_feature_tranformation_df['tech_support'])\n",
    "tech_support_lb.classes_"
   ]
  },
  {
   "cell_type": "code",
   "execution_count": 35,
   "metadata": {
    "ExecuteTime": {
     "end_time": "2021-03-22T16:36:22.462338Z",
     "start_time": "2021-03-22T16:36:22.431533Z"
    }
   },
   "outputs": [],
   "source": [
    "raw_feature_tranformation_df['tech_support'] = device_protection_lb.transform(raw_mismatch_value_df['tech_support'])"
   ]
  },
  {
   "cell_type": "markdown",
   "metadata": {},
   "source": [
    "#### streaming_movies"
   ]
  },
  {
   "cell_type": "code",
   "execution_count": 36,
   "metadata": {
    "ExecuteTime": {
     "end_time": "2021-03-22T16:36:22.512871Z",
     "start_time": "2021-03-22T16:36:22.465342Z"
    }
   },
   "outputs": [
    {
     "data": {
      "text/plain": [
       "array(['No', 'Yes'], dtype='<U3')"
      ]
     },
     "execution_count": 36,
     "metadata": {},
     "output_type": "execute_result"
    }
   ],
   "source": [
    "streaming_tv_lb = preprocessing.LabelBinarizer()\n",
    "streaming_tv_lb.fit(raw_feature_tranformation_df['streaming_tv'])\n",
    "streaming_tv_lb.classes_"
   ]
  },
  {
   "cell_type": "code",
   "execution_count": 37,
   "metadata": {
    "ExecuteTime": {
     "end_time": "2021-03-22T16:36:22.545121Z",
     "start_time": "2021-03-22T16:36:22.515915Z"
    }
   },
   "outputs": [],
   "source": [
    "raw_feature_tranformation_df['streaming_tv'] = streaming_tv_lb.transform(raw_mismatch_value_df['streaming_tv'])"
   ]
  },
  {
   "cell_type": "markdown",
   "metadata": {},
   "source": [
    "#### streaming_movies"
   ]
  },
  {
   "cell_type": "code",
   "execution_count": 38,
   "metadata": {
    "ExecuteTime": {
     "end_time": "2021-03-22T16:36:22.576531Z",
     "start_time": "2021-03-22T16:36:22.547898Z"
    }
   },
   "outputs": [
    {
     "data": {
      "text/plain": [
       "array(['No', 'Yes'], dtype='<U3')"
      ]
     },
     "execution_count": 38,
     "metadata": {},
     "output_type": "execute_result"
    }
   ],
   "source": [
    "streaming_movies_lb = preprocessing.LabelBinarizer()\n",
    "streaming_movies_lb.fit(raw_feature_tranformation_df['streaming_movies'])\n",
    "streaming_movies_lb.classes_"
   ]
  },
  {
   "cell_type": "code",
   "execution_count": 39,
   "metadata": {
    "ExecuteTime": {
     "end_time": "2021-03-22T16:36:22.607484Z",
     "start_time": "2021-03-22T16:36:22.579530Z"
    }
   },
   "outputs": [],
   "source": [
    "raw_feature_tranformation_df['streaming_movies'] = streaming_tv_lb.transform(raw_mismatch_value_df['streaming_movies'])"
   ]
  },
  {
   "cell_type": "markdown",
   "metadata": {},
   "source": [
    "#### paperless_billing"
   ]
  },
  {
   "cell_type": "code",
   "execution_count": 40,
   "metadata": {
    "ExecuteTime": {
     "end_time": "2021-03-22T16:36:22.638885Z",
     "start_time": "2021-03-22T16:36:22.611634Z"
    }
   },
   "outputs": [
    {
     "data": {
      "text/plain": [
       "array(['No', 'Yes'], dtype='<U3')"
      ]
     },
     "execution_count": 40,
     "metadata": {},
     "output_type": "execute_result"
    }
   ],
   "source": [
    "paperless_billing_lb = preprocessing.LabelBinarizer()\n",
    "paperless_billing_lb.fit(raw_feature_tranformation_df['paperless_billing'])\n",
    "paperless_billing_lb.classes_"
   ]
  },
  {
   "cell_type": "code",
   "execution_count": 41,
   "metadata": {
    "ExecuteTime": {
     "end_time": "2021-03-22T16:36:22.670117Z",
     "start_time": "2021-03-22T16:36:22.641955Z"
    }
   },
   "outputs": [],
   "source": [
    "raw_feature_tranformation_df['paperless_billing'] = paperless_billing_lb.transform(raw_mismatch_value_df['paperless_billing'])"
   ]
  },
  {
   "cell_type": "markdown",
   "metadata": {},
   "source": [
    "#### churn"
   ]
  },
  {
   "cell_type": "code",
   "execution_count": 42,
   "metadata": {
    "ExecuteTime": {
     "end_time": "2021-03-22T16:36:22.701131Z",
     "start_time": "2021-03-22T16:36:22.672115Z"
    }
   },
   "outputs": [
    {
     "data": {
      "text/plain": [
       "array(['No', 'Yes'], dtype='<U3')"
      ]
     },
     "execution_count": 42,
     "metadata": {},
     "output_type": "execute_result"
    }
   ],
   "source": [
    "churn_lb = preprocessing.LabelBinarizer()\n",
    "churn_lb.fit(raw_feature_tranformation_df['churn'])\n",
    "churn_lb.classes_"
   ]
  },
  {
   "cell_type": "code",
   "execution_count": 43,
   "metadata": {
    "ExecuteTime": {
     "end_time": "2021-03-22T16:36:22.732358Z",
     "start_time": "2021-03-22T16:36:22.704257Z"
    }
   },
   "outputs": [],
   "source": [
    "raw_feature_tranformation_df['churn'] = churn_lb.transform(raw_mismatch_value_df['churn'])"
   ]
  },
  {
   "cell_type": "markdown",
   "metadata": {},
   "source": [
    "### Multiple Lable"
   ]
  },
  {
   "cell_type": "code",
   "execution_count": 44,
   "metadata": {
    "ExecuteTime": {
     "end_time": "2021-03-22T16:36:22.763716Z",
     "start_time": "2021-03-22T16:36:22.736646Z"
    }
   },
   "outputs": [
    {
     "data": {
      "text/html": [
       "<div>\n",
       "<style scoped>\n",
       "    .dataframe tbody tr th:only-of-type {\n",
       "        vertical-align: middle;\n",
       "    }\n",
       "\n",
       "    .dataframe tbody tr th {\n",
       "        vertical-align: top;\n",
       "    }\n",
       "\n",
       "    .dataframe thead th {\n",
       "        text-align: right;\n",
       "    }\n",
       "</style>\n",
       "<table border=\"1\" class=\"dataframe\">\n",
       "  <thead>\n",
       "    <tr style=\"text-align: right;\">\n",
       "      <th></th>\n",
       "      <th>customer_id</th>\n",
       "      <th>gender</th>\n",
       "      <th>senior_citizen</th>\n",
       "      <th>partner</th>\n",
       "      <th>dependents</th>\n",
       "      <th>tenure</th>\n",
       "      <th>phone_service</th>\n",
       "      <th>multiple_lines</th>\n",
       "      <th>internet_service</th>\n",
       "      <th>online_security</th>\n",
       "      <th>online_backup</th>\n",
       "      <th>device_protection</th>\n",
       "      <th>tech_support</th>\n",
       "      <th>streaming_tv</th>\n",
       "      <th>streaming_movies</th>\n",
       "      <th>contract</th>\n",
       "      <th>paperless_billing</th>\n",
       "      <th>payment_method</th>\n",
       "      <th>monthly_charges</th>\n",
       "      <th>total_charges</th>\n",
       "      <th>churn</th>\n",
       "    </tr>\n",
       "  </thead>\n",
       "  <tbody>\n",
       "    <tr>\n",
       "      <th>0</th>\n",
       "      <td>7590-VHVEG</td>\n",
       "      <td>0</td>\n",
       "      <td>0</td>\n",
       "      <td>0</td>\n",
       "      <td>0</td>\n",
       "      <td>1</td>\n",
       "      <td>0</td>\n",
       "      <td>0</td>\n",
       "      <td>0</td>\n",
       "      <td>0</td>\n",
       "      <td>1</td>\n",
       "      <td>0</td>\n",
       "      <td>0</td>\n",
       "      <td>0</td>\n",
       "      <td>0</td>\n",
       "      <td>Month-to-month</td>\n",
       "      <td>1</td>\n",
       "      <td>Electronic check</td>\n",
       "      <td>29.85</td>\n",
       "      <td>29.85</td>\n",
       "      <td>0</td>\n",
       "    </tr>\n",
       "  </tbody>\n",
       "</table>\n",
       "</div>"
      ],
      "text/plain": [
       "  customer_id  gender  senior_citizen  partner  dependents  tenure  \\\n",
       "0  7590-VHVEG       0               0        0           0       1   \n",
       "\n",
       "   phone_service  multiple_lines  internet_service  online_security  \\\n",
       "0              0               0                 0                0   \n",
       "\n",
       "   online_backup  device_protection  tech_support  streaming_tv  \\\n",
       "0              1                  0             0             0   \n",
       "\n",
       "   streaming_movies        contract  paperless_billing    payment_method  \\\n",
       "0                 0  Month-to-month                  1  Electronic check   \n",
       "\n",
       "   monthly_charges  total_charges  churn  \n",
       "0            29.85          29.85      0  "
      ]
     },
     "execution_count": 44,
     "metadata": {},
     "output_type": "execute_result"
    }
   ],
   "source": [
    "raw_feature_tranformation_df.head(1)"
   ]
  },
  {
   "cell_type": "markdown",
   "metadata": {},
   "source": [
    "#### contract"
   ]
  },
  {
   "cell_type": "code",
   "execution_count": 45,
   "metadata": {
    "ExecuteTime": {
     "end_time": "2021-03-22T16:36:22.779571Z",
     "start_time": "2021-03-22T16:36:22.767014Z"
    }
   },
   "outputs": [
    {
     "data": {
      "text/plain": [
       "array(['Month-to-month', 'One year', 'Two year'], dtype=object)"
      ]
     },
     "execution_count": 45,
     "metadata": {},
     "output_type": "execute_result"
    }
   ],
   "source": [
    "contract_le = preprocessing.LabelEncoder()\n",
    "contract_le.fit(raw_feature_tranformation_df['contract'])\n",
    "contract_le.classes_"
   ]
  },
  {
   "cell_type": "code",
   "execution_count": 46,
   "metadata": {
    "ExecuteTime": {
     "end_time": "2021-03-22T16:36:22.795633Z",
     "start_time": "2021-03-22T16:36:22.783622Z"
    }
   },
   "outputs": [],
   "source": [
    "raw_feature_tranformation_df['contract'] = contract_le.transform(raw_mismatch_value_df['contract'])"
   ]
  },
  {
   "cell_type": "markdown",
   "metadata": {},
   "source": [
    "#### payment_method"
   ]
  },
  {
   "cell_type": "code",
   "execution_count": 47,
   "metadata": {
    "ExecuteTime": {
     "end_time": "2021-03-22T16:36:22.811078Z",
     "start_time": "2021-03-22T16:36:22.799655Z"
    }
   },
   "outputs": [
    {
     "data": {
      "text/plain": [
       "array(['Bank transfer (automatic)', 'Credit card (automatic)',\n",
       "       'Electronic check', 'Mailed check'], dtype=object)"
      ]
     },
     "execution_count": 47,
     "metadata": {},
     "output_type": "execute_result"
    }
   ],
   "source": [
    "payment_method_le = preprocessing.LabelEncoder()\n",
    "payment_method_le.fit(raw_feature_tranformation_df['payment_method'])\n",
    "payment_method_le.classes_"
   ]
  },
  {
   "cell_type": "code",
   "execution_count": 48,
   "metadata": {
    "ExecuteTime": {
     "end_time": "2021-03-22T16:36:22.826938Z",
     "start_time": "2021-03-22T16:36:22.814208Z"
    }
   },
   "outputs": [],
   "source": [
    "raw_feature_tranformation_df['payment_method'] = payment_method_le.transform(raw_mismatch_value_df['payment_method'])"
   ]
  },
  {
   "cell_type": "markdown",
   "metadata": {},
   "source": [
    "### New feature"
   ]
  },
  {
   "cell_type": "markdown",
   "metadata": {},
   "source": [
    "#### total_charges\n",
    "Nilai dari feature tidak sesuai tidak sesuai dengan hasil kalkulasi dari tenure * monthly_charges. Maka akan dibuat dibuat fitur baru dari hasil perkalian tenure dan monthly_charges"
   ]
  },
  {
   "cell_type": "code",
   "execution_count": 49,
   "metadata": {
    "ExecuteTime": {
     "end_time": "2021-03-22T16:36:22.858300Z",
     "start_time": "2021-03-22T16:36:22.830223Z"
    }
   },
   "outputs": [
    {
     "data": {
      "text/html": [
       "<div>\n",
       "<style scoped>\n",
       "    .dataframe tbody tr th:only-of-type {\n",
       "        vertical-align: middle;\n",
       "    }\n",
       "\n",
       "    .dataframe tbody tr th {\n",
       "        vertical-align: top;\n",
       "    }\n",
       "\n",
       "    .dataframe thead th {\n",
       "        text-align: right;\n",
       "    }\n",
       "</style>\n",
       "<table border=\"1\" class=\"dataframe\">\n",
       "  <thead>\n",
       "    <tr style=\"text-align: right;\">\n",
       "      <th></th>\n",
       "      <th>customer_id</th>\n",
       "      <th>gender</th>\n",
       "      <th>senior_citizen</th>\n",
       "      <th>partner</th>\n",
       "      <th>dependents</th>\n",
       "      <th>tenure</th>\n",
       "      <th>phone_service</th>\n",
       "      <th>multiple_lines</th>\n",
       "      <th>internet_service</th>\n",
       "      <th>online_security</th>\n",
       "      <th>online_backup</th>\n",
       "      <th>device_protection</th>\n",
       "      <th>tech_support</th>\n",
       "      <th>streaming_tv</th>\n",
       "      <th>streaming_movies</th>\n",
       "      <th>contract</th>\n",
       "      <th>paperless_billing</th>\n",
       "      <th>payment_method</th>\n",
       "      <th>monthly_charges</th>\n",
       "      <th>churn</th>\n",
       "    </tr>\n",
       "  </thead>\n",
       "  <tbody>\n",
       "    <tr>\n",
       "      <th>0</th>\n",
       "      <td>7590-VHVEG</td>\n",
       "      <td>0</td>\n",
       "      <td>0</td>\n",
       "      <td>0</td>\n",
       "      <td>0</td>\n",
       "      <td>1</td>\n",
       "      <td>0</td>\n",
       "      <td>0</td>\n",
       "      <td>0</td>\n",
       "      <td>0</td>\n",
       "      <td>1</td>\n",
       "      <td>0</td>\n",
       "      <td>0</td>\n",
       "      <td>0</td>\n",
       "      <td>0</td>\n",
       "      <td>0</td>\n",
       "      <td>1</td>\n",
       "      <td>2</td>\n",
       "      <td>29.85</td>\n",
       "      <td>0</td>\n",
       "    </tr>\n",
       "    <tr>\n",
       "      <th>1</th>\n",
       "      <td>5575-GNVDE</td>\n",
       "      <td>1</td>\n",
       "      <td>0</td>\n",
       "      <td>0</td>\n",
       "      <td>0</td>\n",
       "      <td>34</td>\n",
       "      <td>0</td>\n",
       "      <td>0</td>\n",
       "      <td>0</td>\n",
       "      <td>1</td>\n",
       "      <td>0</td>\n",
       "      <td>1</td>\n",
       "      <td>0</td>\n",
       "      <td>0</td>\n",
       "      <td>0</td>\n",
       "      <td>1</td>\n",
       "      <td>0</td>\n",
       "      <td>3</td>\n",
       "      <td>56.95</td>\n",
       "      <td>0</td>\n",
       "    </tr>\n",
       "    <tr>\n",
       "      <th>2</th>\n",
       "      <td>3668-QPYBK</td>\n",
       "      <td>1</td>\n",
       "      <td>0</td>\n",
       "      <td>0</td>\n",
       "      <td>0</td>\n",
       "      <td>2</td>\n",
       "      <td>0</td>\n",
       "      <td>0</td>\n",
       "      <td>0</td>\n",
       "      <td>1</td>\n",
       "      <td>1</td>\n",
       "      <td>0</td>\n",
       "      <td>0</td>\n",
       "      <td>0</td>\n",
       "      <td>0</td>\n",
       "      <td>0</td>\n",
       "      <td>1</td>\n",
       "      <td>3</td>\n",
       "      <td>53.85</td>\n",
       "      <td>1</td>\n",
       "    </tr>\n",
       "    <tr>\n",
       "      <th>3</th>\n",
       "      <td>7795-CFOCW</td>\n",
       "      <td>1</td>\n",
       "      <td>0</td>\n",
       "      <td>0</td>\n",
       "      <td>0</td>\n",
       "      <td>45</td>\n",
       "      <td>0</td>\n",
       "      <td>0</td>\n",
       "      <td>0</td>\n",
       "      <td>1</td>\n",
       "      <td>0</td>\n",
       "      <td>1</td>\n",
       "      <td>1</td>\n",
       "      <td>0</td>\n",
       "      <td>0</td>\n",
       "      <td>1</td>\n",
       "      <td>0</td>\n",
       "      <td>0</td>\n",
       "      <td>42.30</td>\n",
       "      <td>0</td>\n",
       "    </tr>\n",
       "    <tr>\n",
       "      <th>4</th>\n",
       "      <td>9237-HQITU</td>\n",
       "      <td>0</td>\n",
       "      <td>0</td>\n",
       "      <td>0</td>\n",
       "      <td>0</td>\n",
       "      <td>2</td>\n",
       "      <td>0</td>\n",
       "      <td>0</td>\n",
       "      <td>1</td>\n",
       "      <td>0</td>\n",
       "      <td>0</td>\n",
       "      <td>0</td>\n",
       "      <td>0</td>\n",
       "      <td>0</td>\n",
       "      <td>0</td>\n",
       "      <td>0</td>\n",
       "      <td>1</td>\n",
       "      <td>2</td>\n",
       "      <td>70.70</td>\n",
       "      <td>1</td>\n",
       "    </tr>\n",
       "  </tbody>\n",
       "</table>\n",
       "</div>"
      ],
      "text/plain": [
       "  customer_id  gender  senior_citizen  partner  dependents  tenure  \\\n",
       "0  7590-VHVEG       0               0        0           0       1   \n",
       "1  5575-GNVDE       1               0        0           0      34   \n",
       "2  3668-QPYBK       1               0        0           0       2   \n",
       "3  7795-CFOCW       1               0        0           0      45   \n",
       "4  9237-HQITU       0               0        0           0       2   \n",
       "\n",
       "   phone_service  multiple_lines  internet_service  online_security  \\\n",
       "0              0               0                 0                0   \n",
       "1              0               0                 0                1   \n",
       "2              0               0                 0                1   \n",
       "3              0               0                 0                1   \n",
       "4              0               0                 1                0   \n",
       "\n",
       "   online_backup  device_protection  tech_support  streaming_tv  \\\n",
       "0              1                  0             0             0   \n",
       "1              0                  1             0             0   \n",
       "2              1                  0             0             0   \n",
       "3              0                  1             1             0   \n",
       "4              0                  0             0             0   \n",
       "\n",
       "   streaming_movies  contract  paperless_billing  payment_method  \\\n",
       "0                 0         0                  1               2   \n",
       "1                 0         1                  0               3   \n",
       "2                 0         0                  1               3   \n",
       "3                 0         1                  0               0   \n",
       "4                 0         0                  1               2   \n",
       "\n",
       "   monthly_charges  churn  \n",
       "0            29.85      0  \n",
       "1            56.95      0  \n",
       "2            53.85      1  \n",
       "3            42.30      0  \n",
       "4            70.70      1  "
      ]
     },
     "execution_count": 49,
     "metadata": {},
     "output_type": "execute_result"
    }
   ],
   "source": [
    "raw_feature_tranformation_df.drop(['total_charges'], axis=1).head()"
   ]
  },
  {
   "cell_type": "code",
   "execution_count": 50,
   "metadata": {
    "ExecuteTime": {
     "end_time": "2021-03-22T16:36:22.889256Z",
     "start_time": "2021-03-22T16:36:22.861486Z"
    }
   },
   "outputs": [],
   "source": [
    "raw_feature_tranformation_df['total_charges'] = raw_feature_tranformation_df['tenure'] * raw_feature_tranformation_df['monthly_charges']"
   ]
  },
  {
   "cell_type": "code",
   "execution_count": 51,
   "metadata": {
    "ExecuteTime": {
     "end_time": "2021-03-22T16:36:22.920685Z",
     "start_time": "2021-03-22T16:36:22.891552Z"
    }
   },
   "outputs": [
    {
     "data": {
      "text/html": [
       "<div>\n",
       "<style scoped>\n",
       "    .dataframe tbody tr th:only-of-type {\n",
       "        vertical-align: middle;\n",
       "    }\n",
       "\n",
       "    .dataframe tbody tr th {\n",
       "        vertical-align: top;\n",
       "    }\n",
       "\n",
       "    .dataframe thead th {\n",
       "        text-align: right;\n",
       "    }\n",
       "</style>\n",
       "<table border=\"1\" class=\"dataframe\">\n",
       "  <thead>\n",
       "    <tr style=\"text-align: right;\">\n",
       "      <th></th>\n",
       "      <th>customer_id</th>\n",
       "      <th>gender</th>\n",
       "      <th>senior_citizen</th>\n",
       "      <th>partner</th>\n",
       "      <th>dependents</th>\n",
       "      <th>tenure</th>\n",
       "      <th>phone_service</th>\n",
       "      <th>multiple_lines</th>\n",
       "      <th>internet_service</th>\n",
       "      <th>online_security</th>\n",
       "      <th>online_backup</th>\n",
       "      <th>device_protection</th>\n",
       "      <th>tech_support</th>\n",
       "      <th>streaming_tv</th>\n",
       "      <th>streaming_movies</th>\n",
       "      <th>contract</th>\n",
       "      <th>paperless_billing</th>\n",
       "      <th>payment_method</th>\n",
       "      <th>monthly_charges</th>\n",
       "      <th>total_charges</th>\n",
       "      <th>churn</th>\n",
       "    </tr>\n",
       "  </thead>\n",
       "  <tbody>\n",
       "    <tr>\n",
       "      <th>0</th>\n",
       "      <td>7590-VHVEG</td>\n",
       "      <td>0</td>\n",
       "      <td>0</td>\n",
       "      <td>0</td>\n",
       "      <td>0</td>\n",
       "      <td>1</td>\n",
       "      <td>0</td>\n",
       "      <td>0</td>\n",
       "      <td>0</td>\n",
       "      <td>0</td>\n",
       "      <td>1</td>\n",
       "      <td>0</td>\n",
       "      <td>0</td>\n",
       "      <td>0</td>\n",
       "      <td>0</td>\n",
       "      <td>0</td>\n",
       "      <td>1</td>\n",
       "      <td>2</td>\n",
       "      <td>29.85</td>\n",
       "      <td>29.85</td>\n",
       "      <td>0</td>\n",
       "    </tr>\n",
       "    <tr>\n",
       "      <th>1</th>\n",
       "      <td>5575-GNVDE</td>\n",
       "      <td>1</td>\n",
       "      <td>0</td>\n",
       "      <td>0</td>\n",
       "      <td>0</td>\n",
       "      <td>34</td>\n",
       "      <td>0</td>\n",
       "      <td>0</td>\n",
       "      <td>0</td>\n",
       "      <td>1</td>\n",
       "      <td>0</td>\n",
       "      <td>1</td>\n",
       "      <td>0</td>\n",
       "      <td>0</td>\n",
       "      <td>0</td>\n",
       "      <td>1</td>\n",
       "      <td>0</td>\n",
       "      <td>3</td>\n",
       "      <td>56.95</td>\n",
       "      <td>1936.30</td>\n",
       "      <td>0</td>\n",
       "    </tr>\n",
       "    <tr>\n",
       "      <th>2</th>\n",
       "      <td>3668-QPYBK</td>\n",
       "      <td>1</td>\n",
       "      <td>0</td>\n",
       "      <td>0</td>\n",
       "      <td>0</td>\n",
       "      <td>2</td>\n",
       "      <td>0</td>\n",
       "      <td>0</td>\n",
       "      <td>0</td>\n",
       "      <td>1</td>\n",
       "      <td>1</td>\n",
       "      <td>0</td>\n",
       "      <td>0</td>\n",
       "      <td>0</td>\n",
       "      <td>0</td>\n",
       "      <td>0</td>\n",
       "      <td>1</td>\n",
       "      <td>3</td>\n",
       "      <td>53.85</td>\n",
       "      <td>107.70</td>\n",
       "      <td>1</td>\n",
       "    </tr>\n",
       "    <tr>\n",
       "      <th>3</th>\n",
       "      <td>7795-CFOCW</td>\n",
       "      <td>1</td>\n",
       "      <td>0</td>\n",
       "      <td>0</td>\n",
       "      <td>0</td>\n",
       "      <td>45</td>\n",
       "      <td>0</td>\n",
       "      <td>0</td>\n",
       "      <td>0</td>\n",
       "      <td>1</td>\n",
       "      <td>0</td>\n",
       "      <td>1</td>\n",
       "      <td>1</td>\n",
       "      <td>0</td>\n",
       "      <td>0</td>\n",
       "      <td>1</td>\n",
       "      <td>0</td>\n",
       "      <td>0</td>\n",
       "      <td>42.30</td>\n",
       "      <td>1903.50</td>\n",
       "      <td>0</td>\n",
       "    </tr>\n",
       "    <tr>\n",
       "      <th>4</th>\n",
       "      <td>9237-HQITU</td>\n",
       "      <td>0</td>\n",
       "      <td>0</td>\n",
       "      <td>0</td>\n",
       "      <td>0</td>\n",
       "      <td>2</td>\n",
       "      <td>0</td>\n",
       "      <td>0</td>\n",
       "      <td>1</td>\n",
       "      <td>0</td>\n",
       "      <td>0</td>\n",
       "      <td>0</td>\n",
       "      <td>0</td>\n",
       "      <td>0</td>\n",
       "      <td>0</td>\n",
       "      <td>0</td>\n",
       "      <td>1</td>\n",
       "      <td>2</td>\n",
       "      <td>70.70</td>\n",
       "      <td>141.40</td>\n",
       "      <td>1</td>\n",
       "    </tr>\n",
       "  </tbody>\n",
       "</table>\n",
       "</div>"
      ],
      "text/plain": [
       "  customer_id  gender  senior_citizen  partner  dependents  tenure  \\\n",
       "0  7590-VHVEG       0               0        0           0       1   \n",
       "1  5575-GNVDE       1               0        0           0      34   \n",
       "2  3668-QPYBK       1               0        0           0       2   \n",
       "3  7795-CFOCW       1               0        0           0      45   \n",
       "4  9237-HQITU       0               0        0           0       2   \n",
       "\n",
       "   phone_service  multiple_lines  internet_service  online_security  \\\n",
       "0              0               0                 0                0   \n",
       "1              0               0                 0                1   \n",
       "2              0               0                 0                1   \n",
       "3              0               0                 0                1   \n",
       "4              0               0                 1                0   \n",
       "\n",
       "   online_backup  device_protection  tech_support  streaming_tv  \\\n",
       "0              1                  0             0             0   \n",
       "1              0                  1             0             0   \n",
       "2              1                  0             0             0   \n",
       "3              0                  1             1             0   \n",
       "4              0                  0             0             0   \n",
       "\n",
       "   streaming_movies  contract  paperless_billing  payment_method  \\\n",
       "0                 0         0                  1               2   \n",
       "1                 0         1                  0               3   \n",
       "2                 0         0                  1               3   \n",
       "3                 0         1                  0               0   \n",
       "4                 0         0                  1               2   \n",
       "\n",
       "   monthly_charges  total_charges  churn  \n",
       "0            29.85          29.85      0  \n",
       "1            56.95        1936.30      0  \n",
       "2            53.85         107.70      1  \n",
       "3            42.30        1903.50      0  \n",
       "4            70.70         141.40      1  "
      ]
     },
     "execution_count": 51,
     "metadata": {},
     "output_type": "execute_result"
    }
   ],
   "source": [
    "raw_feature_tranformation_df[['customer_id', 'gender', 'senior_citizen', 'partner', 'dependents',\n",
    "       'tenure', 'phone_service', 'multiple_lines', 'internet_service',\n",
    "       'online_security', 'online_backup', 'device_protection', 'tech_support',\n",
    "       'streaming_tv', 'streaming_movies', 'contract', 'paperless_billing',\n",
    "       'payment_method', 'monthly_charges', 'total_charges', 'churn',\n",
    "       ]].head()"
   ]
  },
  {
   "cell_type": "markdown",
   "metadata": {},
   "source": [
    "## Feature Extraction"
   ]
  },
  {
   "cell_type": "code",
   "execution_count": 52,
   "metadata": {
    "ExecuteTime": {
     "end_time": "2021-03-22T16:36:22.938580Z",
     "start_time": "2021-03-22T16:36:22.922684Z"
    }
   },
   "outputs": [],
   "source": [
    "raw_feature_extraction_df = raw_feature_tranformation_df.drop(['customer_id', 'churn'], axis=1)"
   ]
  },
  {
   "cell_type": "markdown",
   "metadata": {},
   "source": [
    "### Principal Component Analysis"
   ]
  },
  {
   "cell_type": "code",
   "execution_count": 53,
   "metadata": {
    "ExecuteTime": {
     "end_time": "2021-03-22T16:36:23.014818Z",
     "start_time": "2021-03-22T16:36:22.941578Z"
    }
   },
   "outputs": [
    {
     "data": {
      "text/plain": [
       "PCA(n_components=19)"
      ]
     },
     "execution_count": 53,
     "metadata": {},
     "output_type": "execute_result"
    }
   ],
   "source": [
    "pca = PCA(n_components=19)\n",
    "pca.fit(raw_feature_extraction_df)"
   ]
  },
  {
   "cell_type": "code",
   "execution_count": 54,
   "metadata": {
    "ExecuteTime": {
     "end_time": "2021-03-22T16:36:23.031461Z",
     "start_time": "2021-03-22T16:36:23.018505Z"
    }
   },
   "outputs": [
    {
     "name": "stdout",
     "output_type": "stream",
     "text": [
      "1 component : 99.986%\n",
      "2 component : 0.0122%\n",
      "3 component : 0.0017%\n",
      "4 component : 0.0%\n",
      "5 component : 0.0%\n",
      "6 component : 0.0%\n",
      "7 component : 0.0%\n",
      "8 component : 0.0%\n",
      "9 component : 0.0%\n",
      "10 component : 0.0%\n",
      "11 component : 0.0%\n",
      "12 component : 0.0%\n",
      "13 component : 0.0%\n",
      "14 component : 0.0%\n",
      "15 component : 0.0%\n",
      "16 component : 0.0%\n",
      "17 component : 0.0%\n",
      "18 component : 0.0%\n",
      "19 component : 0.0%\n"
     ]
    }
   ],
   "source": [
    "for component, explained_variance_ratio in enumerate(pca.explained_variance_ratio_):\n",
    "    print(f'{component + 1} component : {round(explained_variance_ratio * 100, 4)}%')"
   ]
  },
  {
   "cell_type": "markdown",
   "metadata": {
    "ExecuteTime": {
     "end_time": "2021-03-22T14:53:54.820525Z",
     "start_time": "2021-03-22T14:53:54.804922Z"
    }
   },
   "source": [
    "### Explained Variance Ratio Plot"
   ]
  },
  {
   "cell_type": "code",
   "execution_count": 55,
   "metadata": {
    "ExecuteTime": {
     "end_time": "2021-03-22T16:36:23.329981Z",
     "start_time": "2021-03-22T16:36:23.034607Z"
    }
   },
   "outputs": [
    {
     "data": {
      "image/png": "[encoded data removed]",
      "text/plain": [
       "<Figure size 432x288 with 1 Axes>"
      ]
     },
     "metadata": {
      "needs_background": "light"
     },
     "output_type": "display_data"
    }
   ],
   "source": [
    "pca = PCA().fit(raw_feature_extraction_df)\n",
    "\n",
    "plt.plot(np.cumsum(pca.explained_variance_ratio_))\n",
    "\n",
    "plt.xlabel('Number of components')\n",
    "plt.ylabel('Cumulative explained variance');"
   ]
  },
  {
   "cell_type": "markdown",
   "metadata": {
    "ExecuteTime": {
     "end_time": "2021-03-22T15:54:21.929060Z",
     "start_time": "2021-03-22T15:54:21.913420Z"
    }
   },
   "source": [
    "### Show Component in Table"
   ]
  },
  {
   "cell_type": "code",
   "execution_count": 56,
   "metadata": {
    "ExecuteTime": {
     "end_time": "2021-03-22T16:36:23.393126Z",
     "start_time": "2021-03-22T16:36:23.333751Z"
    },
    "scrolled": true
   },
   "outputs": [
    {
     "data": {
      "text/html": [
       "<div>\n",
       "<style scoped>\n",
       "    .dataframe tbody tr th:only-of-type {\n",
       "        vertical-align: middle;\n",
       "    }\n",
       "\n",
       "    .dataframe tbody tr th {\n",
       "        vertical-align: top;\n",
       "    }\n",
       "\n",
       "    .dataframe thead th {\n",
       "        text-align: right;\n",
       "    }\n",
       "</style>\n",
       "<table border=\"1\" class=\"dataframe\">\n",
       "  <thead>\n",
       "    <tr style=\"text-align: right;\">\n",
       "      <th></th>\n",
       "      <th>PC1</th>\n",
       "      <th>PC2</th>\n",
       "      <th>PC3</th>\n",
       "      <th>PC4</th>\n",
       "      <th>PC5</th>\n",
       "      <th>PC6</th>\n",
       "      <th>PC7</th>\n",
       "      <th>PC8</th>\n",
       "      <th>PC9</th>\n",
       "      <th>PC10</th>\n",
       "      <th>PC11</th>\n",
       "      <th>PC12</th>\n",
       "      <th>PC13</th>\n",
       "      <th>PC14</th>\n",
       "      <th>PC15</th>\n",
       "      <th>PC16</th>\n",
       "      <th>PC17</th>\n",
       "      <th>PC18</th>\n",
       "      <th>PC19</th>\n",
       "    </tr>\n",
       "  </thead>\n",
       "  <tbody>\n",
       "    <tr>\n",
       "      <th>0</th>\n",
       "      <td>-2250.140199</td>\n",
       "      <td>-8.870714</td>\n",
       "      <td>-16.873674</td>\n",
       "      <td>0.398696</td>\n",
       "      <td>1.031024</td>\n",
       "      <td>-0.540836</td>\n",
       "      <td>-0.556825</td>\n",
       "      <td>-0.361591</td>\n",
       "      <td>0.499836</td>\n",
       "      <td>-0.333618</td>\n",
       "      <td>0.673754</td>\n",
       "      <td>-0.117984</td>\n",
       "      <td>0.005124</td>\n",
       "      <td>-0.228150</td>\n",
       "      <td>-0.059638</td>\n",
       "      <td>0.116176</td>\n",
       "      <td>5.224359e-17</td>\n",
       "      <td>1.733754e-17</td>\n",
       "      <td>-5.757763e-17</td>\n",
       "    </tr>\n",
       "    <tr>\n",
       "      <th>1</th>\n",
       "      <td>-343.307907</td>\n",
       "      <td>-6.424486</td>\n",
       "      <td>2.048616</td>\n",
       "      <td>-1.349012</td>\n",
       "      <td>1.203366</td>\n",
       "      <td>0.236016</td>\n",
       "      <td>0.503332</td>\n",
       "      <td>0.580748</td>\n",
       "      <td>-0.207129</td>\n",
       "      <td>0.170419</td>\n",
       "      <td>-0.351973</td>\n",
       "      <td>0.769424</td>\n",
       "      <td>0.465150</td>\n",
       "      <td>-0.230097</td>\n",
       "      <td>0.089535</td>\n",
       "      <td>0.351353</td>\n",
       "      <td>-4.714520e-17</td>\n",
       "      <td>-3.707104e-17</td>\n",
       "      <td>5.190491e-18</td>\n",
       "    </tr>\n",
       "    <tr>\n",
       "      <th>2</th>\n",
       "      <td>-2172.079597</td>\n",
       "      <td>11.914527</td>\n",
       "      <td>-6.314441</td>\n",
       "      <td>-0.804256</td>\n",
       "      <td>1.214820</td>\n",
       "      <td>-0.288141</td>\n",
       "      <td>0.418553</td>\n",
       "      <td>0.119825</td>\n",
       "      <td>0.768101</td>\n",
       "      <td>-0.634729</td>\n",
       "      <td>0.033340</td>\n",
       "      <td>0.027221</td>\n",
       "      <td>0.462473</td>\n",
       "      <td>-0.394842</td>\n",
       "      <td>-0.065470</td>\n",
       "      <td>-0.171078</td>\n",
       "      <td>1.884454e-14</td>\n",
       "      <td>1.397480e-15</td>\n",
       "      <td>-1.084379e-15</td>\n",
       "    </tr>\n",
       "    <tr>\n",
       "      <th>3</th>\n",
       "      <td>-376.133033</td>\n",
       "      <td>-24.305489</td>\n",
       "      <td>5.890948</td>\n",
       "      <td>1.539120</td>\n",
       "      <td>1.351221</td>\n",
       "      <td>0.085610</td>\n",
       "      <td>0.523894</td>\n",
       "      <td>0.514493</td>\n",
       "      <td>-0.306789</td>\n",
       "      <td>0.157325</td>\n",
       "      <td>-0.563112</td>\n",
       "      <td>0.595708</td>\n",
       "      <td>-0.262946</td>\n",
       "      <td>0.151970</td>\n",
       "      <td>0.054436</td>\n",
       "      <td>-0.220474</td>\n",
       "      <td>-1.114522e-14</td>\n",
       "      <td>2.567839e-15</td>\n",
       "      <td>-1.648951e-15</td>\n",
       "    </tr>\n",
       "    <tr>\n",
       "      <th>4</th>\n",
       "      <td>-2138.236439</td>\n",
       "      <td>26.881339</td>\n",
       "      <td>0.755178</td>\n",
       "      <td>-0.046533</td>\n",
       "      <td>-0.292131</td>\n",
       "      <td>0.001525</td>\n",
       "      <td>-0.501533</td>\n",
       "      <td>-0.097026</td>\n",
       "      <td>0.232916</td>\n",
       "      <td>-0.315146</td>\n",
       "      <td>-0.337689</td>\n",
       "      <td>0.105657</td>\n",
       "      <td>-0.056176</td>\n",
       "      <td>-0.012379</td>\n",
       "      <td>0.010413</td>\n",
       "      <td>0.530527</td>\n",
       "      <td>-1.763429e-17</td>\n",
       "      <td>-2.840720e-17</td>\n",
       "      <td>-2.677523e-17</td>\n",
       "    </tr>\n",
       "  </tbody>\n",
       "</table>\n",
       "</div>"
      ],
      "text/plain": [
       "           PC1        PC2        PC3       PC4       PC5       PC6       PC7  \\\n",
       "0 -2250.140199  -8.870714 -16.873674  0.398696  1.031024 -0.540836 -0.556825   \n",
       "1  -343.307907  -6.424486   2.048616 -1.349012  1.203366  0.236016  0.503332   \n",
       "2 -2172.079597  11.914527  -6.314441 -0.804256  1.214820 -0.288141  0.418553   \n",
       "3  -376.133033 -24.305489   5.890948  1.539120  1.351221  0.085610  0.523894   \n",
       "4 -2138.236439  26.881339   0.755178 -0.046533 -0.292131  0.001525 -0.501533   \n",
       "\n",
       "        PC8       PC9      PC10      PC11      PC12      PC13      PC14  \\\n",
       "0 -0.361591  0.499836 -0.333618  0.673754 -0.117984  0.005124 -0.228150   \n",
       "1  0.580748 -0.207129  0.170419 -0.351973  0.769424  0.465150 -0.230097   \n",
       "2  0.119825  0.768101 -0.634729  0.033340  0.027221  0.462473 -0.394842   \n",
       "3  0.514493 -0.306789  0.157325 -0.563112  0.595708 -0.262946  0.151970   \n",
       "4 -0.097026  0.232916 -0.315146 -0.337689  0.105657 -0.056176 -0.012379   \n",
       "\n",
       "       PC15      PC16          PC17          PC18          PC19  \n",
       "0 -0.059638  0.116176  5.224359e-17  1.733754e-17 -5.757763e-17  \n",
       "1  0.089535  0.351353 -4.714520e-17 -3.707104e-17  5.190491e-18  \n",
       "2 -0.065470 -0.171078  1.884454e-14  1.397480e-15 -1.084379e-15  \n",
       "3  0.054436 -0.220474 -1.114522e-14  2.567839e-15 -1.648951e-15  \n",
       "4  0.010413  0.530527 -1.763429e-17 -2.840720e-17 -2.677523e-17  "
      ]
     },
     "execution_count": 56,
     "metadata": {},
     "output_type": "execute_result"
    }
   ],
   "source": [
    "pca = PCA()\n",
    "X_pca = pca.fit_transform(raw_feature_extraction_df)\n",
    "\n",
    "component_names = [f\"PC{i+1}\" for i in range(X_pca.shape[1])]\n",
    "X_pca = pd.DataFrame(X_pca, columns=component_names)\n",
    "\n",
    "X_pca.head()"
   ]
  },
  {
   "cell_type": "markdown",
   "metadata": {},
   "source": [
    "### Factor Loading"
   ]
  },
  {
   "cell_type": "code",
   "execution_count": 57,
   "metadata": {
    "ExecuteTime": {
     "end_time": "2021-03-22T16:36:23.472226Z",
     "start_time": "2021-03-22T16:36:23.396713Z"
    },
    "scrolled": false
   },
   "outputs": [
    {
     "data": {
      "text/html": [
       "<div>\n",
       "<style scoped>\n",
       "    .dataframe tbody tr th:only-of-type {\n",
       "        vertical-align: middle;\n",
       "    }\n",
       "\n",
       "    .dataframe tbody tr th {\n",
       "        vertical-align: top;\n",
       "    }\n",
       "\n",
       "    .dataframe thead th {\n",
       "        text-align: right;\n",
       "    }\n",
       "</style>\n",
       "<table border=\"1\" class=\"dataframe\">\n",
       "  <thead>\n",
       "    <tr style=\"text-align: right;\">\n",
       "      <th></th>\n",
       "      <th>PC1</th>\n",
       "      <th>PC2</th>\n",
       "      <th>PC3</th>\n",
       "      <th>PC4</th>\n",
       "      <th>PC5</th>\n",
       "      <th>PC6</th>\n",
       "      <th>PC7</th>\n",
       "      <th>PC8</th>\n",
       "      <th>PC9</th>\n",
       "      <th>PC10</th>\n",
       "      <th>PC11</th>\n",
       "      <th>PC12</th>\n",
       "      <th>PC13</th>\n",
       "      <th>PC14</th>\n",
       "      <th>PC15</th>\n",
       "      <th>PC16</th>\n",
       "      <th>PC17</th>\n",
       "      <th>PC18</th>\n",
       "      <th>PC19</th>\n",
       "    </tr>\n",
       "  </thead>\n",
       "  <tbody>\n",
       "    <tr>\n",
       "      <th>gender</th>\n",
       "      <td>-6.753380e-09</td>\n",
       "      <td>-3.575649e-04</td>\n",
       "      <td>-4.771003e-04</td>\n",
       "      <td>-1.242014e-02</td>\n",
       "      <td>2.615061e-03</td>\n",
       "      <td>-2.749140e-02</td>\n",
       "      <td>9.978987e-01</td>\n",
       "      <td>-4.006076e-03</td>\n",
       "      <td>4.369730e-02</td>\n",
       "      <td>-2.411685e-02</td>\n",
       "      <td>-5.226831e-03</td>\n",
       "      <td>-3.468233e-03</td>\n",
       "      <td>5.449242e-03</td>\n",
       "      <td>-6.031926e-03</td>\n",
       "      <td>-5.817646e-03</td>\n",
       "      <td>-2.519201e-02</td>\n",
       "      <td>1.346169e-15</td>\n",
       "      <td>7.546307e-16</td>\n",
       "      <td>3.567200e-16</td>\n",
       "    </tr>\n",
       "    <tr>\n",
       "      <th>senior_citizen</th>\n",
       "      <td>1.680736e-05</td>\n",
       "      <td>2.865839e-03</td>\n",
       "      <td>2.241201e-03</td>\n",
       "      <td>6.208345e-04</td>\n",
       "      <td>-5.253148e-02</td>\n",
       "      <td>-1.385941e-01</td>\n",
       "      <td>-3.298293e-03</td>\n",
       "      <td>-7.071599e-02</td>\n",
       "      <td>2.172380e-02</td>\n",
       "      <td>9.446223e-02</td>\n",
       "      <td>2.052898e-01</td>\n",
       "      <td>1.187174e-01</td>\n",
       "      <td>4.528652e-01</td>\n",
       "      <td>7.956187e-01</td>\n",
       "      <td>1.536384e-01</td>\n",
       "      <td>-2.137134e-01</td>\n",
       "      <td>1.025604e-14</td>\n",
       "      <td>6.181285e-15</td>\n",
       "      <td>2.714826e-15</td>\n",
       "    </tr>\n",
       "    <tr>\n",
       "      <th>partner</th>\n",
       "      <td>-1.110223e-16</td>\n",
       "      <td>-1.859624e-15</td>\n",
       "      <td>-1.249001e-16</td>\n",
       "      <td>5.551115e-16</td>\n",
       "      <td>2.215025e-16</td>\n",
       "      <td>1.988427e-15</td>\n",
       "      <td>-1.733202e-15</td>\n",
       "      <td>4.372764e-15</td>\n",
       "      <td>4.439374e-15</td>\n",
       "      <td>4.549312e-15</td>\n",
       "      <td>9.683552e-16</td>\n",
       "      <td>-1.993956e-15</td>\n",
       "      <td>-6.018027e-15</td>\n",
       "      <td>-1.137274e-14</td>\n",
       "      <td>-6.350931e-15</td>\n",
       "      <td>-2.578666e-15</td>\n",
       "      <td>8.577057e-01</td>\n",
       "      <td>4.656696e-01</td>\n",
       "      <td>2.179285e-01</td>\n",
       "    </tr>\n",
       "    <tr>\n",
       "      <th>dependents</th>\n",
       "      <td>-0.000000e+00</td>\n",
       "      <td>0.000000e+00</td>\n",
       "      <td>-1.110223e-16</td>\n",
       "      <td>2.498002e-16</td>\n",
       "      <td>-2.567391e-16</td>\n",
       "      <td>-1.942890e-16</td>\n",
       "      <td>-2.363561e-17</td>\n",
       "      <td>1.604619e-16</td>\n",
       "      <td>6.661338e-16</td>\n",
       "      <td>-6.661338e-16</td>\n",
       "      <td>-3.053113e-16</td>\n",
       "      <td>-6.158268e-16</td>\n",
       "      <td>6.245005e-17</td>\n",
       "      <td>3.608225e-16</td>\n",
       "      <td>-1.144917e-16</td>\n",
       "      <td>1.915135e-15</td>\n",
       "      <td>-5.139464e-01</td>\n",
       "      <td>7.648890e-01</td>\n",
       "      <td>3.883347e-01</td>\n",
       "    </tr>\n",
       "    <tr>\n",
       "      <th>tenure</th>\n",
       "      <td>8.962857e-03</td>\n",
       "      <td>-4.420330e-01</td>\n",
       "      <td>8.963614e-01</td>\n",
       "      <td>-2.192646e-02</td>\n",
       "      <td>3.354615e-03</td>\n",
       "      <td>-2.120339e-02</td>\n",
       "      <td>-4.270634e-04</td>\n",
       "      <td>3.035751e-03</td>\n",
       "      <td>-7.550913e-03</td>\n",
       "      <td>-3.709167e-03</td>\n",
       "      <td>-3.442298e-03</td>\n",
       "      <td>4.073108e-04</td>\n",
       "      <td>-4.155539e-03</td>\n",
       "      <td>-1.017737e-03</td>\n",
       "      <td>-6.353888e-04</td>\n",
       "      <td>-3.201161e-03</td>\n",
       "      <td>-6.077095e-16</td>\n",
       "      <td>-2.523631e-16</td>\n",
       "      <td>-3.355635e-17</td>\n",
       "    </tr>\n",
       "    <tr>\n",
       "      <th>phone_service</th>\n",
       "      <td>-0.000000e+00</td>\n",
       "      <td>0.000000e+00</td>\n",
       "      <td>4.336809e-19</td>\n",
       "      <td>-1.110223e-16</td>\n",
       "      <td>-6.245005e-17</td>\n",
       "      <td>-1.665335e-16</td>\n",
       "      <td>-2.081668e-17</td>\n",
       "      <td>-4.510281e-17</td>\n",
       "      <td>1.110223e-16</td>\n",
       "      <td>-1.665335e-16</td>\n",
       "      <td>3.191891e-16</td>\n",
       "      <td>1.110223e-16</td>\n",
       "      <td>-5.551115e-17</td>\n",
       "      <td>2.081668e-16</td>\n",
       "      <td>-2.220446e-16</td>\n",
       "      <td>-2.220446e-16</td>\n",
       "      <td>-1.414455e-02</td>\n",
       "      <td>4.450805e-01</td>\n",
       "      <td>-8.953789e-01</td>\n",
       "    </tr>\n",
       "    <tr>\n",
       "      <th>multiple_lines</th>\n",
       "      <td>1.022193e-04</td>\n",
       "      <td>4.406872e-03</td>\n",
       "      <td>7.184977e-03</td>\n",
       "      <td>-5.157740e-03</td>\n",
       "      <td>-1.782278e-01</td>\n",
       "      <td>-4.109897e-02</td>\n",
       "      <td>-1.025944e-02</td>\n",
       "      <td>1.798391e-01</td>\n",
       "      <td>4.652087e-01</td>\n",
       "      <td>7.089141e-01</td>\n",
       "      <td>2.723984e-01</td>\n",
       "      <td>-6.983234e-02</td>\n",
       "      <td>-1.238990e-01</td>\n",
       "      <td>-1.637683e-01</td>\n",
       "      <td>-3.686743e-02</td>\n",
       "      <td>-3.039977e-01</td>\n",
       "      <td>-9.033026e-15</td>\n",
       "      <td>-3.965121e-15</td>\n",
       "      <td>-1.964428e-15</td>\n",
       "    </tr>\n",
       "    <tr>\n",
       "      <th>internet_service</th>\n",
       "      <td>-5.735370e-05</td>\n",
       "      <td>-8.101228e-03</td>\n",
       "      <td>-2.070712e-03</td>\n",
       "      <td>-7.893801e-02</td>\n",
       "      <td>-8.732434e-01</td>\n",
       "      <td>1.816428e-01</td>\n",
       "      <td>-4.780655e-03</td>\n",
       "      <td>2.663315e-02</td>\n",
       "      <td>-6.388139e-02</td>\n",
       "      <td>-2.627005e-01</td>\n",
       "      <td>-1.222423e-01</td>\n",
       "      <td>1.060925e-01</td>\n",
       "      <td>-8.037710e-02</td>\n",
       "      <td>-3.887908e-03</td>\n",
       "      <td>-3.187560e-02</td>\n",
       "      <td>-3.010576e-01</td>\n",
       "      <td>-9.995347e-17</td>\n",
       "      <td>1.829199e-16</td>\n",
       "      <td>1.518913e-16</td>\n",
       "    </tr>\n",
       "    <tr>\n",
       "      <th>online_security</th>\n",
       "      <td>8.222837e-05</td>\n",
       "      <td>6.534197e-04</td>\n",
       "      <td>4.604598e-04</td>\n",
       "      <td>2.049947e-02</td>\n",
       "      <td>2.660284e-01</td>\n",
       "      <td>1.005878e-01</td>\n",
       "      <td>-2.666614e-02</td>\n",
       "      <td>2.760003e-01</td>\n",
       "      <td>1.890452e-01</td>\n",
       "      <td>-1.072748e-01</td>\n",
       "      <td>-5.078228e-01</td>\n",
       "      <td>1.012535e-01</td>\n",
       "      <td>4.626080e-01</td>\n",
       "      <td>-2.159757e-01</td>\n",
       "      <td>-1.438669e-02</td>\n",
       "      <td>-5.153272e-01</td>\n",
       "      <td>-2.278292e-15</td>\n",
       "      <td>-4.322918e-16</td>\n",
       "      <td>-1.902709e-16</td>\n",
       "    </tr>\n",
       "    <tr>\n",
       "      <th>online_backup</th>\n",
       "      <td>1.069896e-04</td>\n",
       "      <td>2.746727e-03</td>\n",
       "      <td>6.327436e-04</td>\n",
       "      <td>1.306986e-02</td>\n",
       "      <td>1.591950e-01</td>\n",
       "      <td>-3.444429e-02</td>\n",
       "      <td>-3.016674e-02</td>\n",
       "      <td>1.268868e-01</td>\n",
       "      <td>2.378661e-01</td>\n",
       "      <td>-5.792080e-01</td>\n",
       "      <td>6.727175e-01</td>\n",
       "      <td>-4.866978e-02</td>\n",
       "      <td>-3.318858e-02</td>\n",
       "      <td>-1.330099e-01</td>\n",
       "      <td>-7.605312e-02</td>\n",
       "      <td>-2.910747e-01</td>\n",
       "      <td>-2.496695e-15</td>\n",
       "      <td>-9.665633e-16</td>\n",
       "      <td>-2.237742e-16</td>\n",
       "    </tr>\n",
       "    <tr>\n",
       "      <th>device_protection</th>\n",
       "      <td>1.094327e-04</td>\n",
       "      <td>3.499547e-03</td>\n",
       "      <td>1.925023e-03</td>\n",
       "      <td>1.462976e-02</td>\n",
       "      <td>1.534838e-01</td>\n",
       "      <td>1.236547e-01</td>\n",
       "      <td>1.787032e-02</td>\n",
       "      <td>-1.263691e-01</td>\n",
       "      <td>-2.779373e-01</td>\n",
       "      <td>1.469711e-01</td>\n",
       "      <td>1.721977e-01</td>\n",
       "      <td>8.630147e-01</td>\n",
       "      <td>-1.510032e-01</td>\n",
       "      <td>-1.266781e-01</td>\n",
       "      <td>8.756010e-03</td>\n",
       "      <td>-1.800326e-01</td>\n",
       "      <td>-9.263744e-16</td>\n",
       "      <td>7.928134e-16</td>\n",
       "      <td>5.458074e-16</td>\n",
       "    </tr>\n",
       "    <tr>\n",
       "      <th>tech_support</th>\n",
       "      <td>8.653820e-05</td>\n",
       "      <td>1.369278e-03</td>\n",
       "      <td>2.109282e-04</td>\n",
       "      <td>2.261321e-02</td>\n",
       "      <td>2.628582e-01</td>\n",
       "      <td>2.002474e-01</td>\n",
       "      <td>-3.421721e-03</td>\n",
       "      <td>1.235726e-02</td>\n",
       "      <td>5.249010e-02</td>\n",
       "      <td>-5.893471e-02</td>\n",
       "      <td>-2.447510e-01</td>\n",
       "      <td>-1.320302e-01</td>\n",
       "      <td>-6.894352e-01</td>\n",
       "      <td>4.380855e-01</td>\n",
       "      <td>-2.096888e-02</td>\n",
       "      <td>-3.726739e-01</td>\n",
       "      <td>-8.732526e-16</td>\n",
       "      <td>-1.755084e-16</td>\n",
       "      <td>1.613227e-16</td>\n",
       "    </tr>\n",
       "    <tr>\n",
       "      <th>streaming_tv</th>\n",
       "      <td>1.106778e-04</td>\n",
       "      <td>7.385120e-03</td>\n",
       "      <td>3.946981e-03</td>\n",
       "      <td>-5.468932e-03</td>\n",
       "      <td>4.481027e-02</td>\n",
       "      <td>9.569538e-02</td>\n",
       "      <td>1.143083e-02</td>\n",
       "      <td>-3.437830e-01</td>\n",
       "      <td>-3.506227e-01</td>\n",
       "      <td>9.270505e-02</td>\n",
       "      <td>1.170608e-01</td>\n",
       "      <td>-3.315990e-01</td>\n",
       "      <td>4.344817e-02</td>\n",
       "      <td>-2.391010e-01</td>\n",
       "      <td>6.581602e-01</td>\n",
       "      <td>-3.507041e-01</td>\n",
       "      <td>1.743572e-15</td>\n",
       "      <td>1.889063e-15</td>\n",
       "      <td>8.340749e-16</td>\n",
       "    </tr>\n",
       "    <tr>\n",
       "      <th>streaming_movies</th>\n",
       "      <td>1.118861e-04</td>\n",
       "      <td>7.266824e-03</td>\n",
       "      <td>3.861081e-03</td>\n",
       "      <td>-2.475321e-03</td>\n",
       "      <td>5.128335e-02</td>\n",
       "      <td>9.446676e-02</td>\n",
       "      <td>8.768916e-03</td>\n",
       "      <td>-3.270750e-01</td>\n",
       "      <td>-3.787031e-01</td>\n",
       "      <td>1.516294e-01</td>\n",
       "      <td>1.017834e-01</td>\n",
       "      <td>-2.639589e-01</td>\n",
       "      <td>1.644557e-01</td>\n",
       "      <td>-2.979244e-02</td>\n",
       "      <td>-7.296785e-01</td>\n",
       "      <td>-2.729681e-01</td>\n",
       "      <td>-3.109262e-15</td>\n",
       "      <td>-7.003760e-16</td>\n",
       "      <td>-3.718947e-16</td>\n",
       "    </tr>\n",
       "    <tr>\n",
       "      <th>contract</th>\n",
       "      <td>1.645316e-04</td>\n",
       "      <td>-1.748629e-02</td>\n",
       "      <td>1.762445e-02</td>\n",
       "      <td>7.619911e-03</td>\n",
       "      <td>4.268406e-02</td>\n",
       "      <td>8.959697e-01</td>\n",
       "      <td>1.862372e-02</td>\n",
       "      <td>-1.560571e-01</td>\n",
       "      <td>2.685398e-01</td>\n",
       "      <td>2.416750e-02</td>\n",
       "      <td>1.115181e-01</td>\n",
       "      <td>-1.325633e-02</td>\n",
       "      <td>1.741603e-01</td>\n",
       "      <td>6.330034e-02</td>\n",
       "      <td>2.843181e-02</td>\n",
       "      <td>2.226755e-01</td>\n",
       "      <td>2.097983e-16</td>\n",
       "      <td>-2.954086e-16</td>\n",
       "      <td>-2.057522e-16</td>\n",
       "    </tr>\n",
       "    <tr>\n",
       "      <th>paperless_billing</th>\n",
       "      <td>3.447053e-05</td>\n",
       "      <td>6.327570e-03</td>\n",
       "      <td>3.181327e-03</td>\n",
       "      <td>1.288328e-02</td>\n",
       "      <td>-1.741106e-02</td>\n",
       "      <td>-2.393410e-01</td>\n",
       "      <td>-3.711875e-02</td>\n",
       "      <td>-7.771042e-01</td>\n",
       "      <td>5.157014e-01</td>\n",
       "      <td>-1.207595e-01</td>\n",
       "      <td>-1.793226e-01</td>\n",
       "      <td>1.226886e-01</td>\n",
       "      <td>-2.361590e-02</td>\n",
       "      <td>-7.567307e-02</td>\n",
       "      <td>-3.260928e-02</td>\n",
       "      <td>-4.290125e-02</td>\n",
       "      <td>1.115474e-15</td>\n",
       "      <td>3.504266e-16</td>\n",
       "      <td>2.725601e-16</td>\n",
       "    </tr>\n",
       "    <tr>\n",
       "      <th>payment_method</th>\n",
       "      <td>-1.563066e-04</td>\n",
       "      <td>2.826383e-03</td>\n",
       "      <td>-2.313430e-02</td>\n",
       "      <td>-9.957208e-01</td>\n",
       "      <td>8.558997e-02</td>\n",
       "      <td>-2.554376e-03</td>\n",
       "      <td>-1.319661e-02</td>\n",
       "      <td>-5.954923e-03</td>\n",
       "      <td>1.799835e-02</td>\n",
       "      <td>6.403214e-03</td>\n",
       "      <td>1.576506e-03</td>\n",
       "      <td>7.135213e-03</td>\n",
       "      <td>-1.085347e-03</td>\n",
       "      <td>4.520916e-03</td>\n",
       "      <td>-7.521035e-04</td>\n",
       "      <td>3.822809e-03</td>\n",
       "      <td>3.547698e-16</td>\n",
       "      <td>2.313199e-16</td>\n",
       "      <td>1.028180e-16</td>\n",
       "    </tr>\n",
       "    <tr>\n",
       "      <th>monthly_charges</th>\n",
       "      <td>8.656787e-03</td>\n",
       "      <td>8.966693e-01</td>\n",
       "      <td>4.420898e-01</td>\n",
       "      <td>-8.388692e-03</td>\n",
       "      <td>-6.972464e-03</td>\n",
       "      <td>8.681874e-03</td>\n",
       "      <td>7.539876e-04</td>\n",
       "      <td>8.903585e-03</td>\n",
       "      <td>9.982000e-04</td>\n",
       "      <td>-7.317685e-03</td>\n",
       "      <td>-5.141216e-03</td>\n",
       "      <td>1.753813e-03</td>\n",
       "      <td>-3.284100e-04</td>\n",
       "      <td>2.078025e-03</td>\n",
       "      <td>6.076946e-04</td>\n",
       "      <td>1.014222e-02</td>\n",
       "      <td>1.505102e-15</td>\n",
       "      <td>8.133097e-16</td>\n",
       "      <td>4.049089e-16</td>\n",
       "    </tr>\n",
       "    <tr>\n",
       "      <th>total_charges</th>\n",
       "      <td>9.999223e-01</td>\n",
       "      <td>-3.801034e-03</td>\n",
       "      <td>-1.187068e-02</td>\n",
       "      <td>1.020449e-04</td>\n",
       "      <td>-8.288925e-05</td>\n",
       "      <td>-6.434311e-05</td>\n",
       "      <td>-4.195938e-06</td>\n",
       "      <td>-1.728786e-05</td>\n",
       "      <td>1.436588e-05</td>\n",
       "      <td>4.124473e-05</td>\n",
       "      <td>-2.709346e-05</td>\n",
       "      <td>-2.844146e-05</td>\n",
       "      <td>3.101337e-05</td>\n",
       "      <td>2.491812e-05</td>\n",
       "      <td>1.509550e-05</td>\n",
       "      <td>1.185653e-04</td>\n",
       "      <td>2.247247e-16</td>\n",
       "      <td>1.338447e-16</td>\n",
       "      <td>5.034018e-17</td>\n",
       "    </tr>\n",
       "  </tbody>\n",
       "</table>\n",
       "</div>"
      ],
      "text/plain": [
       "                            PC1           PC2           PC3           PC4  \\\n",
       "gender            -6.753380e-09 -3.575649e-04 -4.771003e-04 -1.242014e-02   \n",
       "senior_citizen     1.680736e-05  2.865839e-03  2.241201e-03  6.208345e-04   \n",
       "partner           -1.110223e-16 -1.859624e-15 -1.249001e-16  5.551115e-16   \n",
       "dependents        -0.000000e+00  0.000000e+00 -1.110223e-16  2.498002e-16   \n",
       "tenure             8.962857e-03 -4.420330e-01  8.963614e-01 -2.192646e-02   \n",
       "phone_service     -0.000000e+00  0.000000e+00  4.336809e-19 -1.110223e-16   \n",
       "multiple_lines     1.022193e-04  4.406872e-03  7.184977e-03 -5.157740e-03   \n",
       "internet_service  -5.735370e-05 -8.101228e-03 -2.070712e-03 -7.893801e-02   \n",
       "online_security    8.222837e-05  6.534197e-04  4.604598e-04  2.049947e-02   \n",
       "online_backup      1.069896e-04  2.746727e-03  6.327436e-04  1.306986e-02   \n",
       "device_protection  1.094327e-04  3.499547e-03  1.925023e-03  1.462976e-02   \n",
       "tech_support       8.653820e-05  1.369278e-03  2.109282e-04  2.261321e-02   \n",
       "streaming_tv       1.106778e-04  7.385120e-03  3.946981e-03 -5.468932e-03   \n",
       "streaming_movies   1.118861e-04  7.266824e-03  3.861081e-03 -2.475321e-03   \n",
       "contract           1.645316e-04 -1.748629e-02  1.762445e-02  7.619911e-03   \n",
       "paperless_billing  3.447053e-05  6.327570e-03  3.181327e-03  1.288328e-02   \n",
       "payment_method    -1.563066e-04  2.826383e-03 -2.313430e-02 -9.957208e-01   \n",
       "monthly_charges    8.656787e-03  8.966693e-01  4.420898e-01 -8.388692e-03   \n",
       "total_charges      9.999223e-01 -3.801034e-03 -1.187068e-02  1.020449e-04   \n",
       "\n",
       "                            PC5           PC6           PC7           PC8  \\\n",
       "gender             2.615061e-03 -2.749140e-02  9.978987e-01 -4.006076e-03   \n",
       "senior_citizen    -5.253148e-02 -1.385941e-01 -3.298293e-03 -7.071599e-02   \n",
       "partner            2.215025e-16  1.988427e-15 -1.733202e-15  4.372764e-15   \n",
       "dependents        -2.567391e-16 -1.942890e-16 -2.363561e-17  1.604619e-16   \n",
       "tenure             3.354615e-03 -2.120339e-02 -4.270634e-04  3.035751e-03   \n",
       "phone_service     -6.245005e-17 -1.665335e-16 -2.081668e-17 -4.510281e-17   \n",
       "multiple_lines    -1.782278e-01 -4.109897e-02 -1.025944e-02  1.798391e-01   \n",
       "internet_service  -8.732434e-01  1.816428e-01 -4.780655e-03  2.663315e-02   \n",
       "online_security    2.660284e-01  1.005878e-01 -2.666614e-02  2.760003e-01   \n",
       "online_backup      1.591950e-01 -3.444429e-02 -3.016674e-02  1.268868e-01   \n",
       "device_protection  1.534838e-01  1.236547e-01  1.787032e-02 -1.263691e-01   \n",
       "tech_support       2.628582e-01  2.002474e-01 -3.421721e-03  1.235726e-02   \n",
       "streaming_tv       4.481027e-02  9.569538e-02  1.143083e-02 -3.437830e-01   \n",
       "streaming_movies   5.128335e-02  9.446676e-02  8.768916e-03 -3.270750e-01   \n",
       "contract           4.268406e-02  8.959697e-01  1.862372e-02 -1.560571e-01   \n",
       "paperless_billing -1.741106e-02 -2.393410e-01 -3.711875e-02 -7.771042e-01   \n",
       "payment_method     8.558997e-02 -2.554376e-03 -1.319661e-02 -5.954923e-03   \n",
       "monthly_charges   -6.972464e-03  8.681874e-03  7.539876e-04  8.903585e-03   \n",
       "total_charges     -8.288925e-05 -6.434311e-05 -4.195938e-06 -1.728786e-05   \n",
       "\n",
       "                            PC9          PC10          PC11          PC12  \\\n",
       "gender             4.369730e-02 -2.411685e-02 -5.226831e-03 -3.468233e-03   \n",
       "senior_citizen     2.172380e-02  9.446223e-02  2.052898e-01  1.187174e-01   \n",
       "partner            4.439374e-15  4.549312e-15  9.683552e-16 -1.993956e-15   \n",
       "dependents         6.661338e-16 -6.661338e-16 -3.053113e-16 -6.158268e-16   \n",
       "tenure            -7.550913e-03 -3.709167e-03 -3.442298e-03  4.073108e-04   \n",
       "phone_service      1.110223e-16 -1.665335e-16  3.191891e-16  1.110223e-16   \n",
       "multiple_lines     4.652087e-01  7.089141e-01  2.723984e-01 -6.983234e-02   \n",
       "internet_service  -6.388139e-02 -2.627005e-01 -1.222423e-01  1.060925e-01   \n",
       "online_security    1.890452e-01 -1.072748e-01 -5.078228e-01  1.012535e-01   \n",
       "online_backup      2.378661e-01 -5.792080e-01  6.727175e-01 -4.866978e-02   \n",
       "device_protection -2.779373e-01  1.469711e-01  1.721977e-01  8.630147e-01   \n",
       "tech_support       5.249010e-02 -5.893471e-02 -2.447510e-01 -1.320302e-01   \n",
       "streaming_tv      -3.506227e-01  9.270505e-02  1.170608e-01 -3.315990e-01   \n",
       "streaming_movies  -3.787031e-01  1.516294e-01  1.017834e-01 -2.639589e-01   \n",
       "contract           2.685398e-01  2.416750e-02  1.115181e-01 -1.325633e-02   \n",
       "paperless_billing  5.157014e-01 -1.207595e-01 -1.793226e-01  1.226886e-01   \n",
       "payment_method     1.799835e-02  6.403214e-03  1.576506e-03  7.135213e-03   \n",
       "monthly_charges    9.982000e-04 -7.317685e-03 -5.141216e-03  1.753813e-03   \n",
       "total_charges      1.436588e-05  4.124473e-05 -2.709346e-05 -2.844146e-05   \n",
       "\n",
       "                           PC13          PC14          PC15          PC16  \\\n",
       "gender             5.449242e-03 -6.031926e-03 -5.817646e-03 -2.519201e-02   \n",
       "senior_citizen     4.528652e-01  7.956187e-01  1.536384e-01 -2.137134e-01   \n",
       "partner           -6.018027e-15 -1.137274e-14 -6.350931e-15 -2.578666e-15   \n",
       "dependents         6.245005e-17  3.608225e-16 -1.144917e-16  1.915135e-15   \n",
       "tenure            -4.155539e-03 -1.017737e-03 -6.353888e-04 -3.201161e-03   \n",
       "phone_service     -5.551115e-17  2.081668e-16 -2.220446e-16 -2.220446e-16   \n",
       "multiple_lines    -1.238990e-01 -1.637683e-01 -3.686743e-02 -3.039977e-01   \n",
       "internet_service  -8.037710e-02 -3.887908e-03 -3.187560e-02 -3.010576e-01   \n",
       "online_security    4.626080e-01 -2.159757e-01 -1.438669e-02 -5.153272e-01   \n",
       "online_backup     -3.318858e-02 -1.330099e-01 -7.605312e-02 -2.910747e-01   \n",
       "device_protection -1.510032e-01 -1.266781e-01  8.756010e-03 -1.800326e-01   \n",
       "tech_support      -6.894352e-01  4.380855e-01 -2.096888e-02 -3.726739e-01   \n",
       "streaming_tv       4.344817e-02 -2.391010e-01  6.581602e-01 -3.507041e-01   \n",
       "streaming_movies   1.644557e-01 -2.979244e-02 -7.296785e-01 -2.729681e-01   \n",
       "contract           1.741603e-01  6.330034e-02  2.843181e-02  2.226755e-01   \n",
       "paperless_billing -2.361590e-02 -7.567307e-02 -3.260928e-02 -4.290125e-02   \n",
       "payment_method    -1.085347e-03  4.520916e-03 -7.521035e-04  3.822809e-03   \n",
       "monthly_charges   -3.284100e-04  2.078025e-03  6.076946e-04  1.014222e-02   \n",
       "total_charges      3.101337e-05  2.491812e-05  1.509550e-05  1.185653e-04   \n",
       "\n",
       "                           PC17          PC18          PC19  \n",
       "gender             1.346169e-15  7.546307e-16  3.567200e-16  \n",
       "senior_citizen     1.025604e-14  6.181285e-15  2.714826e-15  \n",
       "partner            8.577057e-01  4.656696e-01  2.179285e-01  \n",
       "dependents        -5.139464e-01  7.648890e-01  3.883347e-01  \n",
       "tenure            -6.077095e-16 -2.523631e-16 -3.355635e-17  \n",
       "phone_service     -1.414455e-02  4.450805e-01 -8.953789e-01  \n",
       "multiple_lines    -9.033026e-15 -3.965121e-15 -1.964428e-15  \n",
       "internet_service  -9.995347e-17  1.829199e-16  1.518913e-16  \n",
       "online_security   -2.278292e-15 -4.322918e-16 -1.902709e-16  \n",
       "online_backup     -2.496695e-15 -9.665633e-16 -2.237742e-16  \n",
       "device_protection -9.263744e-16  7.928134e-16  5.458074e-16  \n",
       "tech_support      -8.732526e-16 -1.755084e-16  1.613227e-16  \n",
       "streaming_tv       1.743572e-15  1.889063e-15  8.340749e-16  \n",
       "streaming_movies  -3.109262e-15 -7.003760e-16 -3.718947e-16  \n",
       "contract           2.097983e-16 -2.954086e-16 -2.057522e-16  \n",
       "paperless_billing  1.115474e-15  3.504266e-16  2.725601e-16  \n",
       "payment_method     3.547698e-16  2.313199e-16  1.028180e-16  \n",
       "monthly_charges    1.505102e-15  8.133097e-16  4.049089e-16  \n",
       "total_charges      2.247247e-16  1.338447e-16  5.034018e-17  "
      ]
     },
     "execution_count": 57,
     "metadata": {},
     "output_type": "execute_result"
    }
   ],
   "source": [
    "loadings = pd.DataFrame(\n",
    "    pca.components_.T,\n",
    "    columns=component_names,\n",
    "    index=raw_feature_extraction_df.columns,\n",
    ")\n",
    "\n",
    "loadings"
   ]
  },
  {
   "cell_type": "markdown",
   "metadata": {},
   "source": [
    "### Concate PCA Value with Churn Feature"
   ]
  },
  {
   "cell_type": "code",
   "execution_count": 58,
   "metadata": {
    "ExecuteTime": {
     "end_time": "2021-03-22T16:36:23.487372Z",
     "start_time": "2021-03-22T16:36:23.476247Z"
    }
   },
   "outputs": [
    {
     "data": {
      "text/plain": [
       "Index(['gender', 'senior_citizen', 'partner', 'dependents', 'tenure',\n",
       "       'phone_service', 'multiple_lines', 'internet_service',\n",
       "       'online_security', 'online_backup', 'device_protection', 'tech_support',\n",
       "       'streaming_tv', 'streaming_movies', 'contract', 'paperless_billing',\n",
       "       'payment_method', 'monthly_charges', 'total_charges'],\n",
       "      dtype='object')"
      ]
     },
     "execution_count": 58,
     "metadata": {},
     "output_type": "execute_result"
    }
   ],
   "source": [
    "raw_feature_extraction_df.columns"
   ]
  },
  {
   "cell_type": "code",
   "execution_count": 59,
   "metadata": {
    "ExecuteTime": {
     "end_time": "2021-03-22T16:36:23.518416Z",
     "start_time": "2021-03-22T16:36:23.491306Z"
    }
   },
   "outputs": [
    {
     "data": {
      "text/html": [
       "<div>\n",
       "<style scoped>\n",
       "    .dataframe tbody tr th:only-of-type {\n",
       "        vertical-align: middle;\n",
       "    }\n",
       "\n",
       "    .dataframe tbody tr th {\n",
       "        vertical-align: top;\n",
       "    }\n",
       "\n",
       "    .dataframe thead th {\n",
       "        text-align: right;\n",
       "    }\n",
       "</style>\n",
       "<table border=\"1\" class=\"dataframe\">\n",
       "  <thead>\n",
       "    <tr style=\"text-align: right;\">\n",
       "      <th></th>\n",
       "      <th>PC1</th>\n",
       "      <th>churn</th>\n",
       "    </tr>\n",
       "  </thead>\n",
       "  <tbody>\n",
       "    <tr>\n",
       "      <th>0</th>\n",
       "      <td>-2250.140199</td>\n",
       "      <td>0</td>\n",
       "    </tr>\n",
       "    <tr>\n",
       "      <th>1</th>\n",
       "      <td>-343.307907</td>\n",
       "      <td>0</td>\n",
       "    </tr>\n",
       "    <tr>\n",
       "      <th>2</th>\n",
       "      <td>-2172.079597</td>\n",
       "      <td>1</td>\n",
       "    </tr>\n",
       "    <tr>\n",
       "      <th>3</th>\n",
       "      <td>-376.133033</td>\n",
       "      <td>0</td>\n",
       "    </tr>\n",
       "    <tr>\n",
       "      <th>4</th>\n",
       "      <td>-2138.236439</td>\n",
       "      <td>1</td>\n",
       "    </tr>\n",
       "    <tr>\n",
       "      <th>...</th>\n",
       "      <td>...</td>\n",
       "      <td>...</td>\n",
       "    </tr>\n",
       "    <tr>\n",
       "      <th>7038</th>\n",
       "      <td>-244.263683</td>\n",
       "      <td>0</td>\n",
       "    </tr>\n",
       "    <tr>\n",
       "      <th>7039</th>\n",
       "      <td>5151.106784</td>\n",
       "      <td>0</td>\n",
       "    </tr>\n",
       "    <tr>\n",
       "      <th>7040</th>\n",
       "      <td>-1954.325741</td>\n",
       "      <td>0</td>\n",
       "    </tr>\n",
       "    <tr>\n",
       "      <th>7041</th>\n",
       "      <td>-1981.998658</td>\n",
       "      <td>1</td>\n",
       "    </tr>\n",
       "    <tr>\n",
       "      <th>7042</th>\n",
       "      <td>4693.610046</td>\n",
       "      <td>0</td>\n",
       "    </tr>\n",
       "  </tbody>\n",
       "</table>\n",
       "<p>7043 rows × 2 columns</p>\n",
       "</div>"
      ],
      "text/plain": [
       "              PC1  churn\n",
       "0    -2250.140199      0\n",
       "1     -343.307907      0\n",
       "2    -2172.079597      1\n",
       "3     -376.133033      0\n",
       "4    -2138.236439      1\n",
       "...           ...    ...\n",
       "7038  -244.263683      0\n",
       "7039  5151.106784      0\n",
       "7040 -1954.325741      0\n",
       "7041 -1981.998658      1\n",
       "7042  4693.610046      0\n",
       "\n",
       "[7043 rows x 2 columns]"
      ]
     },
     "execution_count": 59,
     "metadata": {},
     "output_type": "execute_result"
    }
   ],
   "source": [
    "PCA_df = pd.concat([X_pca['PC1'], raw_feature_tranformation_df['churn']], axis=1)\n",
    "PCA_df"
   ]
  },
  {
   "cell_type": "markdown",
   "metadata": {},
   "source": [
    "### Save PCA Value"
   ]
  },
  {
   "cell_type": "code",
   "execution_count": 60,
   "metadata": {
    "ExecuteTime": {
     "end_time": "2021-03-22T16:36:23.534400Z",
     "start_time": "2021-03-22T16:36:23.521407Z"
    }
   },
   "outputs": [],
   "source": [
    "# PCA_df.to_csv('../../datasets/apping/PCA_df.csv', index=False)"
   ]
  },
  {
   "cell_type": "markdown",
   "metadata": {
    "ExecuteTime": {
     "end_time": "2021-03-21T13:25:23.036536Z",
     "start_time": "2021-03-21T13:25:23.026745Z"
    }
   },
   "source": [
    "## Feature Selection"
   ]
  },
  {
   "cell_type": "code",
   "execution_count": 61,
   "metadata": {
    "ExecuteTime": {
     "end_time": "2021-03-22T16:36:23.550442Z",
     "start_time": "2021-03-22T16:36:23.537400Z"
    }
   },
   "outputs": [],
   "source": [
    "raw_feature_selection_df = raw_feature_tranformation_df"
   ]
  },
  {
   "cell_type": "markdown",
   "metadata": {},
   "source": [
    "### Pearson Correlation"
   ]
  },
  {
   "cell_type": "code",
   "execution_count": 62,
   "metadata": {
    "ExecuteTime": {
     "end_time": "2021-03-22T16:36:30.502492Z",
     "start_time": "2021-03-22T16:36:23.555531Z"
    }
   },
   "outputs": [
    {
     "data": {
      "text/plain": [
       "<AxesSubplot:>"
      ]
     },
     "execution_count": 62,
     "metadata": {},
     "output_type": "execute_result"
    },
    {
     "data": {
      "image/png": "[encoded data removed]",
      "text/plain": [
       "<Figure size 1440x1440 with 2 Axes>"
      ]
     },
     "metadata": {},
     "output_type": "display_data"
    }
   ],
   "source": [
    "sns.set(rc={'figure.figsize':(20, 20)})\n",
    "sns.heatmap(raw_feature_selection_df.corr(), annot=True)"
   ]
  },
  {
   "cell_type": "markdown",
   "metadata": {},
   "source": [
    "### Spearman Correlation (Non-Linier)"
   ]
  },
  {
   "cell_type": "code",
   "execution_count": 63,
   "metadata": {
    "ExecuteTime": {
     "end_time": "2021-03-22T16:36:38.811560Z",
     "start_time": "2021-03-22T16:36:30.510039Z"
    }
   },
   "outputs": [
    {
     "data": {
      "text/plain": [
       "<AxesSubplot:>"
      ]
     },
     "execution_count": 63,
     "metadata": {},
     "output_type": "execute_result"
    },
    {
     "data": {
      "image/png": "[encoded data removed]",
      "text/plain": [
       "<Figure size 1440x1440 with 2 Axes>"
      ]
     },
     "metadata": {},
     "output_type": "display_data"
    }
   ],
   "source": [
    "sns.heatmap(raw_feature_selection_df.corr('spearman'), annot=True)"
   ]
  },
  {
   "cell_type": "code",
   "execution_count": 64,
   "metadata": {
    "ExecuteTime": {
     "end_time": "2021-03-22T16:36:38.942518Z",
     "start_time": "2021-03-22T16:36:38.816037Z"
    }
   },
   "outputs": [],
   "source": [
    "# raw_feature_selection_df.to_csv('../../datasets/apping/EDA_df.csv', index=False)"
   ]
  },
  {
   "cell_type": "code",
   "execution_count": null,
   "metadata": {},
   "outputs": [],
   "source": []
  }
 ],
 "metadata": {
  "kernelspec": {
   "display_name": "Python 3",
   "language": "python",
   "name": "python3"
  },
  "language_info": {
   "codemirror_mode": {
    "name": "ipython",
    "version": 3
   },
   "file_extension": ".py",
   "mimetype": "text/x-python",
   "name": "python",
   "nbconvert_exporter": "python",
   "pygments_lexer": "ipython3",
   "version": "3.8.5"
  },
  "toc": {
   "base_numbering": 1,
   "nav_menu": {},
   "number_sections": true,
   "sideBar": true,
   "skip_h1_title": false,
   "title_cell": "Table of Contents",
   "title_sidebar": "Contents",
   "toc_cell": false,
   "toc_position": {
    "height": "calc(100% - 180px)",
    "left": "10px",
    "top": "150px",
    "width": "264.333px"
   },
   "toc_section_display": true,
   "toc_window_display": true
  }
 },
 "nbformat": 4,
 "nbformat_minor": 4
}
